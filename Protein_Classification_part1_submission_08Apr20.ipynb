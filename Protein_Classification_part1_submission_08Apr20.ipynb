{
 "cells": [
  {
   "cell_type": "code",
   "execution_count": 137,
   "metadata": {},
   "outputs": [],
   "source": [
    "import pandas as pd\n",
    "import numpy as np\n",
    "import matplotlib.pyplot as plt\n",
    "import seaborn as sns\n",
    "proteins = pd.read_csv(\"proteins_cleaned.csv\")\n",
    "%matplotlib inline"
   ]
  },
  {
   "cell_type": "markdown",
   "metadata": {},
   "source": [
    "lets take a look at the missing values"
   ]
  },
  {
   "cell_type": "code",
   "execution_count": 69,
   "metadata": {},
   "outputs": [
    {
     "name": "stdout",
     "output_type": "stream",
     "text": [
      "<class 'pandas.core.frame.DataFrame'>\n",
      "RangeIndex: 346321 entries, 0 to 346320\n",
      "Data columns (total 19 columns):\n",
      " #   Column                    Non-Null Count   Dtype  \n",
      "---  ------                    --------------   -----  \n",
      " 0   Unnamed: 0                346321 non-null  int64  \n",
      " 1   index                     346321 non-null  int64  \n",
      " 2   structureId               346321 non-null  object \n",
      " 3   chainId                   346319 non-null  object \n",
      " 4   sequence                  346321 non-null  object \n",
      " 5   residueCount              346321 non-null  int64  \n",
      " 6   macromoleculeType         346321 non-null  object \n",
      " 7   classification            346321 non-null  object \n",
      " 8   experimentalTechnique     346321 non-null  object \n",
      " 9   resolution                330228 non-null  float64\n",
      " 10  structureMolecularWeight  346321 non-null  float64\n",
      " 11  crystallizationMethod     240593 non-null  object \n",
      " 12  crystallizationTempK      243930 non-null  float64\n",
      " 13  densityMatthews           307477 non-null  float64\n",
      " 14  densityPercentSol         307611 non-null  float64\n",
      " 15  pdbxDetails               294693 non-null  object \n",
      " 16  phValue                   259127 non-null  float64\n",
      " 17  publicationYear           295359 non-null  float64\n",
      " 18  num_residues              346321 non-null  int64  \n",
      "dtypes: float64(7), int64(4), object(8)\n",
      "memory usage: 50.2+ MB\n"
     ]
    }
   ],
   "source": [
    "proteins.info()"
   ]
  },
  {
   "cell_type": "markdown",
   "metadata": {},
   "source": [
    "Let's take a look at the types of molecues"
   ]
  },
  {
   "cell_type": "code",
   "execution_count": 70,
   "metadata": {},
   "outputs": [
    {
     "data": {
      "text/plain": [
       "['HYDROLASE',\n",
       " 'TRANSFERASE',\n",
       " 'OXIDOREDUCTASE',\n",
       " 'IMMUNE SYSTEM',\n",
       " 'LYASE',\n",
       " 'HYDROLASE/HYDROLASE INHIBITOR',\n",
       " 'TRANSCRIPTION',\n",
       " 'VIRAL PROTEIN',\n",
       " 'TRANSPORT PROTEIN',\n",
       " 'VIRUS',\n",
       " 'SIGNALING PROTEIN',\n",
       " 'ISOMERASE',\n",
       " 'LIGASE',\n",
       " 'MEMBRANE PROTEIN',\n",
       " 'PROTEIN BINDING']"
      ]
     },
     "execution_count": 70,
     "metadata": {},
     "output_type": "execute_result"
    }
   ],
   "source": [
    "top_15 = list(proteins['classification'].value_counts()[:15].index)\n",
    "top_15"
   ]
  },
  {
   "cell_type": "markdown",
   "metadata": {},
   "source": [
    "The paper used 10 classes and got fairly accurate classes. I will try using the top 15 classes and see how well of a model I get"
   ]
  },
  {
   "cell_type": "code",
   "execution_count": 71,
   "metadata": {},
   "outputs": [
    {
     "data": {
      "text/html": [
       "<div>\n",
       "<style scoped>\n",
       "    .dataframe tbody tr th:only-of-type {\n",
       "        vertical-align: middle;\n",
       "    }\n",
       "\n",
       "    .dataframe tbody tr th {\n",
       "        vertical-align: top;\n",
       "    }\n",
       "\n",
       "    .dataframe thead th {\n",
       "        text-align: right;\n",
       "    }\n",
       "</style>\n",
       "<table border=\"1\" class=\"dataframe\">\n",
       "  <thead>\n",
       "    <tr style=\"text-align: right;\">\n",
       "      <th></th>\n",
       "      <th>Unnamed: 0</th>\n",
       "      <th>index</th>\n",
       "      <th>structureId</th>\n",
       "      <th>chainId</th>\n",
       "      <th>sequence</th>\n",
       "      <th>residueCount</th>\n",
       "      <th>macromoleculeType</th>\n",
       "      <th>classification</th>\n",
       "      <th>experimentalTechnique</th>\n",
       "      <th>resolution</th>\n",
       "      <th>structureMolecularWeight</th>\n",
       "      <th>crystallizationMethod</th>\n",
       "      <th>crystallizationTempK</th>\n",
       "      <th>densityMatthews</th>\n",
       "      <th>densityPercentSol</th>\n",
       "      <th>pdbxDetails</th>\n",
       "      <th>phValue</th>\n",
       "      <th>publicationYear</th>\n",
       "      <th>num_residues</th>\n",
       "    </tr>\n",
       "  </thead>\n",
       "  <tbody>\n",
       "    <tr>\n",
       "      <th>27</th>\n",
       "      <td>27</td>\n",
       "      <td>67</td>\n",
       "      <td>117E</td>\n",
       "      <td>A</td>\n",
       "      <td>TYTTRQIGAKNTLEYKVYIEKDGKPVSAFHDIPLYADKENNIFNMV...</td>\n",
       "      <td>572</td>\n",
       "      <td>Protein</td>\n",
       "      <td>HYDROLASE</td>\n",
       "      <td>X-RAY DIFFRACTION</td>\n",
       "      <td>2.15</td>\n",
       "      <td>65203.21</td>\n",
       "      <td>NaN</td>\n",
       "      <td>NaN</td>\n",
       "      <td>2.71</td>\n",
       "      <td>54.69</td>\n",
       "      <td>17-19% MPD, 25 MM MES, PH 6.0, 1 MM MNCL2, 0.5...</td>\n",
       "      <td>6.0</td>\n",
       "      <td>1998.0</td>\n",
       "      <td>286</td>\n",
       "    </tr>\n",
       "    <tr>\n",
       "      <th>28</th>\n",
       "      <td>28</td>\n",
       "      <td>68</td>\n",
       "      <td>117E</td>\n",
       "      <td>B</td>\n",
       "      <td>TYTTRQIGAKNTLEYKVYIEKDGKPVSAFHDIPLYADKENNIFNMV...</td>\n",
       "      <td>572</td>\n",
       "      <td>Protein</td>\n",
       "      <td>HYDROLASE</td>\n",
       "      <td>X-RAY DIFFRACTION</td>\n",
       "      <td>2.15</td>\n",
       "      <td>65203.21</td>\n",
       "      <td>NaN</td>\n",
       "      <td>NaN</td>\n",
       "      <td>2.71</td>\n",
       "      <td>54.69</td>\n",
       "      <td>17-19% MPD, 25 MM MES, PH 6.0, 1 MM MNCL2, 0.5...</td>\n",
       "      <td>6.0</td>\n",
       "      <td>1998.0</td>\n",
       "      <td>286</td>\n",
       "    </tr>\n",
       "    <tr>\n",
       "      <th>31</th>\n",
       "      <td>31</td>\n",
       "      <td>74</td>\n",
       "      <td>11AS</td>\n",
       "      <td>A</td>\n",
       "      <td>MKTAYIAKQRQISFVKSHFSRQLEERLGLIEVQAPILSRVGDGTQD...</td>\n",
       "      <td>660</td>\n",
       "      <td>Protein</td>\n",
       "      <td>LIGASE</td>\n",
       "      <td>X-RAY DIFFRACTION</td>\n",
       "      <td>2.50</td>\n",
       "      <td>73530.97</td>\n",
       "      <td>NaN</td>\n",
       "      <td>NaN</td>\n",
       "      <td>2.30</td>\n",
       "      <td>47.00</td>\n",
       "      <td>PROTEIN CRYSTALLIZED FROM 45% SATURATED AMMONI...</td>\n",
       "      <td>7.5</td>\n",
       "      <td>1998.0</td>\n",
       "      <td>330</td>\n",
       "    </tr>\n",
       "    <tr>\n",
       "      <th>32</th>\n",
       "      <td>32</td>\n",
       "      <td>75</td>\n",
       "      <td>11AS</td>\n",
       "      <td>B</td>\n",
       "      <td>MKTAYIAKQRQISFVKSHFSRQLEERLGLIEVQAPILSRVGDGTQD...</td>\n",
       "      <td>660</td>\n",
       "      <td>Protein</td>\n",
       "      <td>LIGASE</td>\n",
       "      <td>X-RAY DIFFRACTION</td>\n",
       "      <td>2.50</td>\n",
       "      <td>73530.97</td>\n",
       "      <td>NaN</td>\n",
       "      <td>NaN</td>\n",
       "      <td>2.30</td>\n",
       "      <td>47.00</td>\n",
       "      <td>PROTEIN CRYSTALLIZED FROM 45% SATURATED AMMONI...</td>\n",
       "      <td>7.5</td>\n",
       "      <td>1998.0</td>\n",
       "      <td>330</td>\n",
       "    </tr>\n",
       "    <tr>\n",
       "      <th>33</th>\n",
       "      <td>33</td>\n",
       "      <td>76</td>\n",
       "      <td>11BA</td>\n",
       "      <td>A</td>\n",
       "      <td>KESAAAKFERQHMDSGNSPSSSSNYCNLMMCCRKMTQGKCKPVNTF...</td>\n",
       "      <td>248</td>\n",
       "      <td>Protein</td>\n",
       "      <td>HYDROLASE</td>\n",
       "      <td>X-RAY DIFFRACTION</td>\n",
       "      <td>2.06</td>\n",
       "      <td>28700.28</td>\n",
       "      <td>NaN</td>\n",
       "      <td>NaN</td>\n",
       "      <td>2.48</td>\n",
       "      <td>50.36</td>\n",
       "      <td>pH 4.8</td>\n",
       "      <td>4.8</td>\n",
       "      <td>1998.0</td>\n",
       "      <td>124</td>\n",
       "    </tr>\n",
       "    <tr>\n",
       "      <th>...</th>\n",
       "      <td>...</td>\n",
       "      <td>...</td>\n",
       "      <td>...</td>\n",
       "      <td>...</td>\n",
       "      <td>...</td>\n",
       "      <td>...</td>\n",
       "      <td>...</td>\n",
       "      <td>...</td>\n",
       "      <td>...</td>\n",
       "      <td>...</td>\n",
       "      <td>...</td>\n",
       "      <td>...</td>\n",
       "      <td>...</td>\n",
       "      <td>...</td>\n",
       "      <td>...</td>\n",
       "      <td>...</td>\n",
       "      <td>...</td>\n",
       "      <td>...</td>\n",
       "      <td>...</td>\n",
       "    </tr>\n",
       "    <tr>\n",
       "      <th>346293</th>\n",
       "      <td>346297</td>\n",
       "      <td>471118</td>\n",
       "      <td>9JDW</td>\n",
       "      <td>A</td>\n",
       "      <td>STQAATASSRNSCAADDKATEPLPKDCPVSSYNEWDPLEEVIVGRA...</td>\n",
       "      <td>386</td>\n",
       "      <td>Protein</td>\n",
       "      <td>TRANSFERASE</td>\n",
       "      <td>X-RAY DIFFRACTION</td>\n",
       "      <td>2.50</td>\n",
       "      <td>44444.61</td>\n",
       "      <td>NaN</td>\n",
       "      <td>NaN</td>\n",
       "      <td>3.83</td>\n",
       "      <td>68.00</td>\n",
       "      <td>pH 7.0</td>\n",
       "      <td>7.0</td>\n",
       "      <td>1999.0</td>\n",
       "      <td>386</td>\n",
       "    </tr>\n",
       "    <tr>\n",
       "      <th>346298</th>\n",
       "      <td>346302</td>\n",
       "      <td>471123</td>\n",
       "      <td>9LPR</td>\n",
       "      <td>A</td>\n",
       "      <td>ANIVGGIEYSINNASLCSVGFSVTRGATKGFVTAGHCGTVNATARI...</td>\n",
       "      <td>203</td>\n",
       "      <td>Protein</td>\n",
       "      <td>HYDROLASE/HYDROLASE INHIBITOR</td>\n",
       "      <td>X-RAY DIFFRACTION</td>\n",
       "      <td>2.20</td>\n",
       "      <td>20455.54</td>\n",
       "      <td>NaN</td>\n",
       "      <td>NaN</td>\n",
       "      <td>2.50</td>\n",
       "      <td>50.88</td>\n",
       "      <td>NaN</td>\n",
       "      <td>NaN</td>\n",
       "      <td>1991.0</td>\n",
       "      <td>198</td>\n",
       "    </tr>\n",
       "    <tr>\n",
       "      <th>346299</th>\n",
       "      <td>346303</td>\n",
       "      <td>471124</td>\n",
       "      <td>9LPR</td>\n",
       "      <td>P</td>\n",
       "      <td>XAAPL</td>\n",
       "      <td>203</td>\n",
       "      <td>Protein</td>\n",
       "      <td>HYDROLASE/HYDROLASE INHIBITOR</td>\n",
       "      <td>X-RAY DIFFRACTION</td>\n",
       "      <td>2.20</td>\n",
       "      <td>20455.54</td>\n",
       "      <td>NaN</td>\n",
       "      <td>NaN</td>\n",
       "      <td>2.50</td>\n",
       "      <td>50.88</td>\n",
       "      <td>NaN</td>\n",
       "      <td>NaN</td>\n",
       "      <td>1991.0</td>\n",
       "      <td>5</td>\n",
       "    </tr>\n",
       "    <tr>\n",
       "      <th>346302</th>\n",
       "      <td>346306</td>\n",
       "      <td>471130</td>\n",
       "      <td>9NSE</td>\n",
       "      <td>A</td>\n",
       "      <td>SRAPAPATPHAPDHSPAPNSPTLTRPPEGPKFPRVKNWELGSITYD...</td>\n",
       "      <td>888</td>\n",
       "      <td>Protein</td>\n",
       "      <td>OXIDOREDUCTASE</td>\n",
       "      <td>X-RAY DIFFRACTION</td>\n",
       "      <td>2.24</td>\n",
       "      <td>102350.65</td>\n",
       "      <td>NaN</td>\n",
       "      <td>NaN</td>\n",
       "      <td>2.41</td>\n",
       "      <td>50.00</td>\n",
       "      <td>pH 6.5</td>\n",
       "      <td>6.5</td>\n",
       "      <td>2000.0</td>\n",
       "      <td>444</td>\n",
       "    </tr>\n",
       "    <tr>\n",
       "      <th>346303</th>\n",
       "      <td>346307</td>\n",
       "      <td>471131</td>\n",
       "      <td>9NSE</td>\n",
       "      <td>B</td>\n",
       "      <td>SRAPAPATPHAPDHSPAPNSPTLTRPPEGPKFPRVKNWELGSITYD...</td>\n",
       "      <td>888</td>\n",
       "      <td>Protein</td>\n",
       "      <td>OXIDOREDUCTASE</td>\n",
       "      <td>X-RAY DIFFRACTION</td>\n",
       "      <td>2.24</td>\n",
       "      <td>102350.65</td>\n",
       "      <td>NaN</td>\n",
       "      <td>NaN</td>\n",
       "      <td>2.41</td>\n",
       "      <td>50.00</td>\n",
       "      <td>pH 6.5</td>\n",
       "      <td>6.5</td>\n",
       "      <td>2000.0</td>\n",
       "      <td>444</td>\n",
       "    </tr>\n",
       "  </tbody>\n",
       "</table>\n",
       "<p>215917 rows × 19 columns</p>\n",
       "</div>"
      ],
      "text/plain": [
       "        Unnamed: 0   index structureId chainId  \\\n",
       "27              27      67        117E       A   \n",
       "28              28      68        117E       B   \n",
       "31              31      74        11AS       A   \n",
       "32              32      75        11AS       B   \n",
       "33              33      76        11BA       A   \n",
       "...            ...     ...         ...     ...   \n",
       "346293      346297  471118        9JDW       A   \n",
       "346298      346302  471123        9LPR       A   \n",
       "346299      346303  471124        9LPR       P   \n",
       "346302      346306  471130        9NSE       A   \n",
       "346303      346307  471131        9NSE       B   \n",
       "\n",
       "                                                 sequence  residueCount  \\\n",
       "27      TYTTRQIGAKNTLEYKVYIEKDGKPVSAFHDIPLYADKENNIFNMV...           572   \n",
       "28      TYTTRQIGAKNTLEYKVYIEKDGKPVSAFHDIPLYADKENNIFNMV...           572   \n",
       "31      MKTAYIAKQRQISFVKSHFSRQLEERLGLIEVQAPILSRVGDGTQD...           660   \n",
       "32      MKTAYIAKQRQISFVKSHFSRQLEERLGLIEVQAPILSRVGDGTQD...           660   \n",
       "33      KESAAAKFERQHMDSGNSPSSSSNYCNLMMCCRKMTQGKCKPVNTF...           248   \n",
       "...                                                   ...           ...   \n",
       "346293  STQAATASSRNSCAADDKATEPLPKDCPVSSYNEWDPLEEVIVGRA...           386   \n",
       "346298  ANIVGGIEYSINNASLCSVGFSVTRGATKGFVTAGHCGTVNATARI...           203   \n",
       "346299                                              XAAPL           203   \n",
       "346302  SRAPAPATPHAPDHSPAPNSPTLTRPPEGPKFPRVKNWELGSITYD...           888   \n",
       "346303  SRAPAPATPHAPDHSPAPNSPTLTRPPEGPKFPRVKNWELGSITYD...           888   \n",
       "\n",
       "       macromoleculeType                 classification experimentalTechnique  \\\n",
       "27               Protein                      HYDROLASE     X-RAY DIFFRACTION   \n",
       "28               Protein                      HYDROLASE     X-RAY DIFFRACTION   \n",
       "31               Protein                         LIGASE     X-RAY DIFFRACTION   \n",
       "32               Protein                         LIGASE     X-RAY DIFFRACTION   \n",
       "33               Protein                      HYDROLASE     X-RAY DIFFRACTION   \n",
       "...                  ...                            ...                   ...   \n",
       "346293           Protein                    TRANSFERASE     X-RAY DIFFRACTION   \n",
       "346298           Protein  HYDROLASE/HYDROLASE INHIBITOR     X-RAY DIFFRACTION   \n",
       "346299           Protein  HYDROLASE/HYDROLASE INHIBITOR     X-RAY DIFFRACTION   \n",
       "346302           Protein                 OXIDOREDUCTASE     X-RAY DIFFRACTION   \n",
       "346303           Protein                 OXIDOREDUCTASE     X-RAY DIFFRACTION   \n",
       "\n",
       "        resolution  structureMolecularWeight crystallizationMethod  \\\n",
       "27            2.15                  65203.21                   NaN   \n",
       "28            2.15                  65203.21                   NaN   \n",
       "31            2.50                  73530.97                   NaN   \n",
       "32            2.50                  73530.97                   NaN   \n",
       "33            2.06                  28700.28                   NaN   \n",
       "...            ...                       ...                   ...   \n",
       "346293        2.50                  44444.61                   NaN   \n",
       "346298        2.20                  20455.54                   NaN   \n",
       "346299        2.20                  20455.54                   NaN   \n",
       "346302        2.24                 102350.65                   NaN   \n",
       "346303        2.24                 102350.65                   NaN   \n",
       "\n",
       "        crystallizationTempK  densityMatthews  densityPercentSol  \\\n",
       "27                       NaN             2.71              54.69   \n",
       "28                       NaN             2.71              54.69   \n",
       "31                       NaN             2.30              47.00   \n",
       "32                       NaN             2.30              47.00   \n",
       "33                       NaN             2.48              50.36   \n",
       "...                      ...              ...                ...   \n",
       "346293                   NaN             3.83              68.00   \n",
       "346298                   NaN             2.50              50.88   \n",
       "346299                   NaN             2.50              50.88   \n",
       "346302                   NaN             2.41              50.00   \n",
       "346303                   NaN             2.41              50.00   \n",
       "\n",
       "                                              pdbxDetails  phValue  \\\n",
       "27      17-19% MPD, 25 MM MES, PH 6.0, 1 MM MNCL2, 0.5...      6.0   \n",
       "28      17-19% MPD, 25 MM MES, PH 6.0, 1 MM MNCL2, 0.5...      6.0   \n",
       "31      PROTEIN CRYSTALLIZED FROM 45% SATURATED AMMONI...      7.5   \n",
       "32      PROTEIN CRYSTALLIZED FROM 45% SATURATED AMMONI...      7.5   \n",
       "33                                                 pH 4.8      4.8   \n",
       "...                                                   ...      ...   \n",
       "346293                                             pH 7.0      7.0   \n",
       "346298                                                NaN      NaN   \n",
       "346299                                                NaN      NaN   \n",
       "346302                                             pH 6.5      6.5   \n",
       "346303                                             pH 6.5      6.5   \n",
       "\n",
       "        publicationYear  num_residues  \n",
       "27               1998.0           286  \n",
       "28               1998.0           286  \n",
       "31               1998.0           330  \n",
       "32               1998.0           330  \n",
       "33               1998.0           124  \n",
       "...                 ...           ...  \n",
       "346293           1999.0           386  \n",
       "346298           1991.0           198  \n",
       "346299           1991.0             5  \n",
       "346302           2000.0           444  \n",
       "346303           2000.0           444  \n",
       "\n",
       "[215917 rows x 19 columns]"
      ]
     },
     "execution_count": 71,
     "metadata": {},
     "output_type": "execute_result"
    }
   ],
   "source": [
    "proteins[proteins['classification'].isin(top_15)]"
   ]
  },
  {
   "cell_type": "code",
   "execution_count": 72,
   "metadata": {},
   "outputs": [
    {
     "data": {
      "text/plain": [
       "215917"
      ]
     },
     "execution_count": 72,
     "metadata": {},
     "output_type": "execute_result"
    }
   ],
   "source": [
    "proteins['classification'].value_counts()[:15].sum()"
   ]
  },
  {
   "cell_type": "markdown",
   "metadata": {},
   "source": [
    "Subset and overwite oringal frame"
   ]
  },
  {
   "cell_type": "code",
   "execution_count": 73,
   "metadata": {},
   "outputs": [
    {
     "data": {
      "text/html": [
       "<div>\n",
       "<style scoped>\n",
       "    .dataframe tbody tr th:only-of-type {\n",
       "        vertical-align: middle;\n",
       "    }\n",
       "\n",
       "    .dataframe tbody tr th {\n",
       "        vertical-align: top;\n",
       "    }\n",
       "\n",
       "    .dataframe thead th {\n",
       "        text-align: right;\n",
       "    }\n",
       "</style>\n",
       "<table border=\"1\" class=\"dataframe\">\n",
       "  <thead>\n",
       "    <tr style=\"text-align: right;\">\n",
       "      <th></th>\n",
       "      <th>sequence</th>\n",
       "      <th>classification</th>\n",
       "    </tr>\n",
       "  </thead>\n",
       "  <tbody>\n",
       "    <tr>\n",
       "      <th>27</th>\n",
       "      <td>TYTTRQIGAKNTLEYKVYIEKDGKPVSAFHDIPLYADKENNIFNMV...</td>\n",
       "      <td>HYDROLASE</td>\n",
       "    </tr>\n",
       "    <tr>\n",
       "      <th>28</th>\n",
       "      <td>TYTTRQIGAKNTLEYKVYIEKDGKPVSAFHDIPLYADKENNIFNMV...</td>\n",
       "      <td>HYDROLASE</td>\n",
       "    </tr>\n",
       "    <tr>\n",
       "      <th>31</th>\n",
       "      <td>MKTAYIAKQRQISFVKSHFSRQLEERLGLIEVQAPILSRVGDGTQD...</td>\n",
       "      <td>LIGASE</td>\n",
       "    </tr>\n",
       "    <tr>\n",
       "      <th>32</th>\n",
       "      <td>MKTAYIAKQRQISFVKSHFSRQLEERLGLIEVQAPILSRVGDGTQD...</td>\n",
       "      <td>LIGASE</td>\n",
       "    </tr>\n",
       "    <tr>\n",
       "      <th>33</th>\n",
       "      <td>KESAAAKFERQHMDSGNSPSSSSNYCNLMMCCRKMTQGKCKPVNTF...</td>\n",
       "      <td>HYDROLASE</td>\n",
       "    </tr>\n",
       "  </tbody>\n",
       "</table>\n",
       "</div>"
      ],
      "text/plain": [
       "                                             sequence classification\n",
       "27  TYTTRQIGAKNTLEYKVYIEKDGKPVSAFHDIPLYADKENNIFNMV...      HYDROLASE\n",
       "28  TYTTRQIGAKNTLEYKVYIEKDGKPVSAFHDIPLYADKENNIFNMV...      HYDROLASE\n",
       "31  MKTAYIAKQRQISFVKSHFSRQLEERLGLIEVQAPILSRVGDGTQD...         LIGASE\n",
       "32  MKTAYIAKQRQISFVKSHFSRQLEERLGLIEVQAPILSRVGDGTQD...         LIGASE\n",
       "33  KESAAAKFERQHMDSGNSPSSSSNYCNLMMCCRKMTQGKCKPVNTF...      HYDROLASE"
      ]
     },
     "execution_count": 73,
     "metadata": {},
     "output_type": "execute_result"
    }
   ],
   "source": [
    "proteins = proteins[proteins['classification'].isin(top_15)]\n",
    "#grab only the sequence and classification column\n",
    "proteins = proteins[['sequence','classification']]\n",
    "proteins.head()\n"
   ]
  },
  {
   "cell_type": "markdown",
   "metadata": {},
   "source": [
    "Drop nans"
   ]
  },
  {
   "cell_type": "code",
   "execution_count": 74,
   "metadata": {},
   "outputs": [
    {
     "data": {
      "text/plain": [
       "(215917, 2)"
      ]
     },
     "execution_count": 74,
     "metadata": {},
     "output_type": "execute_result"
    }
   ],
   "source": [
    "proteins.shape"
   ]
  },
  {
   "cell_type": "code",
   "execution_count": 75,
   "metadata": {},
   "outputs": [],
   "source": [
    "proteins = proteins.dropna()"
   ]
  },
  {
   "cell_type": "code",
   "execution_count": 76,
   "metadata": {},
   "outputs": [
    {
     "data": {
      "text/plain": [
       "(215917, 2)"
      ]
     },
     "execution_count": 76,
     "metadata": {},
     "output_type": "execute_result"
    }
   ],
   "source": [
    "proteins.shape"
   ]
  },
  {
   "cell_type": "markdown",
   "metadata": {},
   "source": [
    "## Transform the labels"
   ]
  },
  {
   "cell_type": "code",
   "execution_count": 77,
   "metadata": {},
   "outputs": [],
   "source": [
    "from sklearn.preprocessing import LabelBinarizer\n",
    "\n",
    "# Transform labels to one-hot\n",
    "lb = LabelBinarizer()\n",
    "Y = lb.fit_transform(proteins['classification'])"
   ]
  },
  {
   "cell_type": "code",
   "execution_count": 78,
   "metadata": {},
   "outputs": [
    {
     "data": {
      "text/plain": [
       "array(['HYDROLASE', 'HYDROLASE/HYDROLASE INHIBITOR', 'IMMUNE SYSTEM',\n",
       "       'ISOMERASE', 'LIGASE', 'LYASE', 'MEMBRANE PROTEIN',\n",
       "       'OXIDOREDUCTASE', 'PROTEIN BINDING', 'SIGNALING PROTEIN',\n",
       "       'TRANSCRIPTION', 'TRANSFERASE', 'TRANSPORT PROTEIN',\n",
       "       'VIRAL PROTEIN', 'VIRUS'], dtype='<U29')"
      ]
     },
     "execution_count": 78,
     "metadata": {},
     "output_type": "execute_result"
    }
   ],
   "source": [
    "lb.classes_"
   ]
  },
  {
   "cell_type": "code",
   "execution_count": 79,
   "metadata": {},
   "outputs": [
    {
     "data": {
      "text/plain": [
       "array([0, 0, 0, 0, 0, 0, 0, 0, 0, 0, 0, 0, 0, 1, 0])"
      ]
     },
     "execution_count": 79,
     "metadata": {},
     "output_type": "execute_result"
    }
   ],
   "source": [
    "Y[46]"
   ]
  },
  {
   "cell_type": "code",
   "execution_count": 80,
   "metadata": {},
   "outputs": [
    {
     "data": {
      "text/plain": [
       "'VIRAL PROTEIN'"
      ]
     },
     "execution_count": 80,
     "metadata": {},
     "output_type": "execute_result"
    }
   ],
   "source": [
    "proteins['classification'].iloc[46]"
   ]
  },
  {
   "cell_type": "markdown",
   "metadata": {},
   "source": [
    "# Note the labels are in order\n",
    "* in the paper they assign, each amino acid a a number\n",
    "* look up table is created, and instead of using the letter, they assign it a number\n",
    "* so there is no LSTM of RNN working here\n",
    "* lets try this way, first and see if we can make it better with an LSTM"
   ]
  },
  {
   "cell_type": "code",
   "execution_count": 81,
   "metadata": {},
   "outputs": [],
   "source": [
    "from keras.preprocessing import text, sequence\n",
    "from keras.preprocessing.text import Tokenizer\n",
    "from sklearn.model_selection import train_test_split\n",
    "\n",
    "# maximum length of sequence, everything afterwards is discarded!\n",
    "max_length = 512\n",
    "\n",
    "#create and fit tokenizer\n",
    "tokenizer = Tokenizer(char_level=True)\n",
    "tokenizer.fit_on_texts(proteins['sequence'])\n",
    "#represent input data as word rank number sequences\n",
    "X = tokenizer.texts_to_sequences(proteins['sequence'])\n",
    "X = sequence.pad_sequences(X, maxlen=max_length)"
   ]
  },
  {
   "cell_type": "code",
   "execution_count": 82,
   "metadata": {},
   "outputs": [
    {
     "data": {
      "text/plain": [
       "array([ 0,  0,  0,  0,  0,  0,  0,  0,  0,  0,  0,  0,  0,  0,  0,  0,  0,\n",
       "        0,  0,  0,  0,  0,  0,  0,  0,  0,  0,  0,  0,  0,  0,  0,  0,  0,\n",
       "        0,  0,  0,  0,  0,  0,  0,  0,  0,  0,  0,  0,  0,  0,  0,  0,  0,\n",
       "        0,  0,  0,  0,  0,  0,  0,  0,  0,  0,  0,  0,  0,  0,  0,  0,  0,\n",
       "        0,  0,  0,  0,  0,  0,  0,  0,  0,  0,  0,  0,  0,  0,  0,  0,  0,\n",
       "        0,  0,  0,  0,  0,  0,  0,  0,  0,  0,  0,  0,  0,  0,  0,  0,  0,\n",
       "        0,  0,  0,  0,  0,  0,  0,  0,  0,  0,  0,  0,  0,  0,  0,  0,  0,\n",
       "        0,  0,  0,  0,  0,  0,  0,  0,  0,  0,  0,  0,  0,  0,  0,  0,  0,\n",
       "        0,  0,  0,  0,  0,  0,  0,  0,  0,  0,  0,  0,  0,  0,  0,  0,  0,\n",
       "        0,  0,  0,  0,  0,  0,  0,  0,  0,  0,  0,  0,  0,  0,  0,  0,  0,\n",
       "        0,  0,  0,  0,  0,  0,  0,  0,  0,  0,  0,  0,  0,  0,  0,  0,  0,\n",
       "        0,  0,  0,  0,  0,  0,  0,  0,  0,  0,  0,  0,  0,  0,  0,  0,  0,\n",
       "        0,  0,  0,  0,  0,  0,  0,  0,  0,  0,  0,  0,  0,  0,  0,  0,  0,\n",
       "        0,  0,  0,  0,  0,  0, 18, 10,  6, 11, 16,  8,  8,  5, 14, 17,  5,\n",
       "        1,  5, 10,  9,  3,  6,  3,  5, 14,  3,  6,  4, 14, 10, 20,  4, 10,\n",
       "       11,  1,  7,  3, 20,  9, 16,  2,  9, 10, 11,  6, 10, 10, 12,  1,  2,\n",
       "        3,  6,  4,  7,  5, 15, 13,  2,  1, 11,  5,  4, 16,  2, 17,  2,  4,\n",
       "        1,  3, 15, 17,  6, 17,  4,  4, 11, 16, 14,  6,  2, 19,  2,  5,  7,\n",
       "        7, 17, 18,  1,  9, 15, 13,  5, 16, 20, 13,  3,  3,  6,  1,  2,  7,\n",
       "        2,  9,  6,  5, 13, 16, 11,  9, 18,  6, 16, 14, 10,  5,  2,  5,  1,\n",
       "       10,  7,  1,  1,  1, 15,  4,  3, 11,  3,  1, 11, 16,  9, 17,  6, 18,\n",
       "        6,  1,  4, 17, 18,  7,  9, 10, 12,  6, 13,  9, 14,  9,  6, 11,  8,\n",
       "        6,  9, 12, 13,  2,  2,  6,  5,  5,  3,  7,  5,  7,  7, 19,  2,  6,\n",
       "       13, 10,  4, 18, 14, 10,  9,  3,  7,  1,  3, 17,  4,  8, 11,  9,  6,\n",
       "        6, 12, 15,  4,  5,  5,  3,  7,  6, 11, 14,  1,  2, 13,  5,  4,  1,\n",
       "       15,  5, 13, 16,  8, 17,  1, 12, 10,  2,  7,  9, 14,  2,  1,  2,  1,\n",
       "        8,  4,  4, 20,  2,  2,  3,  2,  5, 12,  1, 12, 11, 13,  3,  7, 15,\n",
       "       19, 17,  5,  9, 11, 15,  3, 11,  1, 12, 11,  9, 12, 15,  4,  1,  6,\n",
       "       15,  5, 14,  8,  5,  1,  1, 10,  4, 18,  9, 17, 12,  7, 12,  5, 11,\n",
       "       11, 12,  6,  2, 18,  2,  1,  4, 10, 17,  6,  4,  1,  1,  6,  2,  6,\n",
       "       11, 10], dtype=int32)"
      ]
     },
     "execution_count": 82,
     "metadata": {},
     "output_type": "execute_result"
    }
   ],
   "source": [
    "X[67585]"
   ]
  },
  {
   "cell_type": "code",
   "execution_count": 83,
   "metadata": {},
   "outputs": [
    {
     "data": {
      "text/plain": [
       "OrderedDict([('t', 3526606),\n",
       "             ('y', 2191172),\n",
       "             ('r', 3113466),\n",
       "             ('q', 2329484),\n",
       "             ('i', 3500342),\n",
       "             ('g', 4752966),\n",
       "             ('a', 5113175),\n",
       "             ('k', 3427697),\n",
       "             ('n', 2615421),\n",
       "             ('l', 5621440),\n",
       "             ('e', 4032399),\n",
       "             ('v', 4391183),\n",
       "             ('d', 3549805),\n",
       "             ('p', 2986052),\n",
       "             ('s', 3954789),\n",
       "             ('f', 2475953),\n",
       "             ('h', 1719828),\n",
       "             ('m', 1485899),\n",
       "             ('w', 886318),\n",
       "             ('c', 849748),\n",
       "             ('u', 48),\n",
       "             ('x', 195427),\n",
       "             ('z', 47),\n",
       "             ('b', 30),\n",
       "             ('o', 2)])"
      ]
     },
     "execution_count": 83,
     "metadata": {},
     "output_type": "execute_result"
    }
   ],
   "source": [
    "tokenizer.word_counts"
   ]
  },
  {
   "cell_type": "code",
   "execution_count": 84,
   "metadata": {
    "scrolled": false
   },
   "outputs": [
    {
     "data": {
      "text/plain": [
       "{'l': 1,\n",
       " 'a': 2,\n",
       " 'g': 3,\n",
       " 'v': 4,\n",
       " 'e': 5,\n",
       " 's': 6,\n",
       " 'd': 7,\n",
       " 't': 8,\n",
       " 'i': 9,\n",
       " 'k': 10,\n",
       " 'r': 11,\n",
       " 'p': 12,\n",
       " 'n': 13,\n",
       " 'f': 14,\n",
       " 'q': 15,\n",
       " 'y': 16,\n",
       " 'h': 17,\n",
       " 'm': 18,\n",
       " 'w': 19,\n",
       " 'c': 20,\n",
       " 'x': 21,\n",
       " 'u': 22,\n",
       " 'z': 23,\n",
       " 'b': 24,\n",
       " 'o': 25}"
      ]
     },
     "execution_count": 84,
     "metadata": {},
     "output_type": "execute_result"
    }
   ],
   "source": [
    "tokenizer.word_index"
   ]
  },
  {
   "cell_type": "markdown",
   "metadata": {},
   "source": [
    "###  First Modeling\n",
    "* Only use top 15 proteins by count"
   ]
  },
  {
   "cell_type": "code",
   "execution_count": 93,
   "metadata": {},
   "outputs": [
    {
     "name": "stdout",
     "output_type": "stream",
     "text": [
      "_________________________________________________________________\n",
      "Layer (type)                 Output Shape              Param #   \n",
      "=================================================================\n",
      "embedding_2 (Embedding)      (None, 512, 12)           312       \n",
      "_________________________________________________________________\n",
      "conv1d_3 (Conv1D)            (None, 512, 64)           4672      \n",
      "_________________________________________________________________\n",
      "max_pooling1d_3 (MaxPooling1 (None, 256, 64)           0         \n",
      "_________________________________________________________________\n",
      "conv1d_4 (Conv1D)            (None, 256, 32)           6176      \n",
      "_________________________________________________________________\n",
      "max_pooling1d_4 (MaxPooling1 (None, 128, 32)           0         \n",
      "_________________________________________________________________\n",
      "flatten_2 (Flatten)          (None, 4096)              0         \n",
      "_________________________________________________________________\n",
      "dense_3 (Dense)              (None, 128)               524416    \n",
      "_________________________________________________________________\n",
      "dense_4 (Dense)              (None, 15)                1935      \n",
      "=================================================================\n",
      "Total params: 537,511\n",
      "Trainable params: 537,511\n",
      "Non-trainable params: 0\n",
      "_________________________________________________________________\n",
      "None\n"
     ]
    }
   ],
   "source": [
    "from keras.models import Sequential\n",
    "from keras.layers import Dense, Conv1D, MaxPooling1D, Flatten\n",
    "from keras.layers import LSTM\n",
    "from keras.layers.embeddings import Embedding\n",
    "\n",
    "embedding_dim = 12\n",
    "\n",
    "# create the model\n",
    "model = Sequential()\n",
    "model.add(Embedding(len(tokenizer.word_index)+1, embedding_dim, input_length=max_length))\n",
    "model.add(Conv1D(filters=64, kernel_size=6, padding='same', activation='relu'))\n",
    "model.add(MaxPooling1D(pool_size=2))\n",
    "model.add(Conv1D(filters=32, kernel_size=3, padding='same', activation='relu'))\n",
    "model.add(MaxPooling1D(pool_size=2))\n",
    "model.add(Flatten())\n",
    "model.add(Dense(128, activation='relu'))\n",
    "model.add(Dense(15, activation='softmax'))\n",
    "model.compile(loss='categorical_crossentropy', optimizer='adam', metrics=['accuracy'])\n",
    "print(model.summary())"
   ]
  },
  {
   "cell_type": "code",
   "execution_count": 94,
   "metadata": {},
   "outputs": [
    {
     "data": {
      "text/plain": [
       "(215917, 512)"
      ]
     },
     "execution_count": 94,
     "metadata": {},
     "output_type": "execute_result"
    }
   ],
   "source": [
    "X.shape"
   ]
  },
  {
   "cell_type": "code",
   "execution_count": 95,
   "metadata": {},
   "outputs": [
    {
     "data": {
      "text/plain": [
       "(215917, 15)"
      ]
     },
     "execution_count": 95,
     "metadata": {},
     "output_type": "execute_result"
    }
   ],
   "source": [
    "Y.shape"
   ]
  },
  {
   "cell_type": "markdown",
   "metadata": {},
   "source": [
    "Split into train, test, and valid"
   ]
  },
  {
   "cell_type": "code",
   "execution_count": 96,
   "metadata": {},
   "outputs": [],
   "source": [
    "X_train, X_test, y_train, y_test = train_test_split(X, Y, test_size=.1)"
   ]
  },
  {
   "cell_type": "code",
   "execution_count": 97,
   "metadata": {},
   "outputs": [],
   "source": [
    "#keep X_test and y_test until the end get valids\n",
    "X_test.shape\n",
    "X_train, X_valid, y_train, y_valid = train_test_split(X_train, y_train, test_size=.1)"
   ]
  },
  {
   "cell_type": "code",
   "execution_count": 98,
   "metadata": {
    "scrolled": true
   },
   "outputs": [
    {
     "name": "stdout",
     "output_type": "stream",
     "text": [
      "Train on 174892 samples, validate on 19433 samples\n",
      "Epoch 1/40\n",
      "  6528/174892 [>.............................] - ETA: 3:57 - loss: 2.3646 - acc: 0.2137"
     ]
    },
    {
     "ename": "KeyboardInterrupt",
     "evalue": "",
     "output_type": "error",
     "traceback": [
      "\u001b[0;31m---------------------------------------------------------------------------\u001b[0m",
      "\u001b[0;31mKeyboardInterrupt\u001b[0m                         Traceback (most recent call last)",
      "\u001b[0;32m<ipython-input-98-aa62c054ed34>\u001b[0m in \u001b[0;36m<module>\u001b[0;34m\u001b[0m\n\u001b[0;32m----> 1\u001b[0;31m \u001b[0mmodel\u001b[0m\u001b[0;34m.\u001b[0m\u001b[0mfit\u001b[0m\u001b[0;34m(\u001b[0m\u001b[0mX_train\u001b[0m\u001b[0;34m,\u001b[0m \u001b[0my_train\u001b[0m\u001b[0;34m,\u001b[0m \u001b[0mvalidation_data\u001b[0m\u001b[0;34m=\u001b[0m\u001b[0;34m(\u001b[0m\u001b[0mX_valid\u001b[0m\u001b[0;34m,\u001b[0m \u001b[0my_valid\u001b[0m\u001b[0;34m)\u001b[0m\u001b[0;34m,\u001b[0m \u001b[0mepochs\u001b[0m\u001b[0;34m=\u001b[0m\u001b[0;36m40\u001b[0m\u001b[0;34m,\u001b[0m \u001b[0mbatch_size\u001b[0m\u001b[0;34m=\u001b[0m\u001b[0;36m128\u001b[0m\u001b[0;34m)\u001b[0m\u001b[0;34m\u001b[0m\u001b[0;34m\u001b[0m\u001b[0m\n\u001b[0m",
      "\u001b[0;32m/anaconda3/lib/python3.7/site-packages/keras/engine/training.py\u001b[0m in \u001b[0;36mfit\u001b[0;34m(self, x, y, batch_size, epochs, verbose, callbacks, validation_split, validation_data, shuffle, class_weight, sample_weight, initial_epoch, steps_per_epoch, validation_steps, **kwargs)\u001b[0m\n\u001b[1;32m   1037\u001b[0m                                         \u001b[0minitial_epoch\u001b[0m\u001b[0;34m=\u001b[0m\u001b[0minitial_epoch\u001b[0m\u001b[0;34m,\u001b[0m\u001b[0;34m\u001b[0m\u001b[0;34m\u001b[0m\u001b[0m\n\u001b[1;32m   1038\u001b[0m                                         \u001b[0msteps_per_epoch\u001b[0m\u001b[0;34m=\u001b[0m\u001b[0msteps_per_epoch\u001b[0m\u001b[0;34m,\u001b[0m\u001b[0;34m\u001b[0m\u001b[0;34m\u001b[0m\u001b[0m\n\u001b[0;32m-> 1039\u001b[0;31m                                         validation_steps=validation_steps)\n\u001b[0m\u001b[1;32m   1040\u001b[0m \u001b[0;34m\u001b[0m\u001b[0m\n\u001b[1;32m   1041\u001b[0m     def evaluate(self, x=None, y=None,\n",
      "\u001b[0;32m/anaconda3/lib/python3.7/site-packages/keras/engine/training_arrays.py\u001b[0m in \u001b[0;36mfit_loop\u001b[0;34m(model, f, ins, out_labels, batch_size, epochs, verbose, callbacks, val_f, val_ins, shuffle, callback_metrics, initial_epoch, steps_per_epoch, validation_steps)\u001b[0m\n\u001b[1;32m    197\u001b[0m                     \u001b[0mins_batch\u001b[0m\u001b[0;34m[\u001b[0m\u001b[0mi\u001b[0m\u001b[0;34m]\u001b[0m \u001b[0;34m=\u001b[0m \u001b[0mins_batch\u001b[0m\u001b[0;34m[\u001b[0m\u001b[0mi\u001b[0m\u001b[0;34m]\u001b[0m\u001b[0;34m.\u001b[0m\u001b[0mtoarray\u001b[0m\u001b[0;34m(\u001b[0m\u001b[0;34m)\u001b[0m\u001b[0;34m\u001b[0m\u001b[0;34m\u001b[0m\u001b[0m\n\u001b[1;32m    198\u001b[0m \u001b[0;34m\u001b[0m\u001b[0m\n\u001b[0;32m--> 199\u001b[0;31m                 \u001b[0mouts\u001b[0m \u001b[0;34m=\u001b[0m \u001b[0mf\u001b[0m\u001b[0;34m(\u001b[0m\u001b[0mins_batch\u001b[0m\u001b[0;34m)\u001b[0m\u001b[0;34m\u001b[0m\u001b[0;34m\u001b[0m\u001b[0m\n\u001b[0m\u001b[1;32m    200\u001b[0m                 \u001b[0mouts\u001b[0m \u001b[0;34m=\u001b[0m \u001b[0mto_list\u001b[0m\u001b[0;34m(\u001b[0m\u001b[0mouts\u001b[0m\u001b[0;34m)\u001b[0m\u001b[0;34m\u001b[0m\u001b[0;34m\u001b[0m\u001b[0m\n\u001b[1;32m    201\u001b[0m                 \u001b[0;32mfor\u001b[0m \u001b[0ml\u001b[0m\u001b[0;34m,\u001b[0m \u001b[0mo\u001b[0m \u001b[0;32min\u001b[0m \u001b[0mzip\u001b[0m\u001b[0;34m(\u001b[0m\u001b[0mout_labels\u001b[0m\u001b[0;34m,\u001b[0m \u001b[0mouts\u001b[0m\u001b[0;34m)\u001b[0m\u001b[0;34m:\u001b[0m\u001b[0;34m\u001b[0m\u001b[0;34m\u001b[0m\u001b[0m\n",
      "\u001b[0;32m/anaconda3/lib/python3.7/site-packages/keras/backend/tensorflow_backend.py\u001b[0m in \u001b[0;36m__call__\u001b[0;34m(self, inputs)\u001b[0m\n\u001b[1;32m   2713\u001b[0m                 \u001b[0;32mreturn\u001b[0m \u001b[0mself\u001b[0m\u001b[0;34m.\u001b[0m\u001b[0m_legacy_call\u001b[0m\u001b[0;34m(\u001b[0m\u001b[0minputs\u001b[0m\u001b[0;34m)\u001b[0m\u001b[0;34m\u001b[0m\u001b[0;34m\u001b[0m\u001b[0m\n\u001b[1;32m   2714\u001b[0m \u001b[0;34m\u001b[0m\u001b[0m\n\u001b[0;32m-> 2715\u001b[0;31m             \u001b[0;32mreturn\u001b[0m \u001b[0mself\u001b[0m\u001b[0;34m.\u001b[0m\u001b[0m_call\u001b[0m\u001b[0;34m(\u001b[0m\u001b[0minputs\u001b[0m\u001b[0;34m)\u001b[0m\u001b[0;34m\u001b[0m\u001b[0;34m\u001b[0m\u001b[0m\n\u001b[0m\u001b[1;32m   2716\u001b[0m         \u001b[0;32melse\u001b[0m\u001b[0;34m:\u001b[0m\u001b[0;34m\u001b[0m\u001b[0;34m\u001b[0m\u001b[0m\n\u001b[1;32m   2717\u001b[0m             \u001b[0;32mif\u001b[0m \u001b[0mpy_any\u001b[0m\u001b[0;34m(\u001b[0m\u001b[0mis_tensor\u001b[0m\u001b[0;34m(\u001b[0m\u001b[0mx\u001b[0m\u001b[0;34m)\u001b[0m \u001b[0;32mfor\u001b[0m \u001b[0mx\u001b[0m \u001b[0;32min\u001b[0m \u001b[0minputs\u001b[0m\u001b[0;34m)\u001b[0m\u001b[0;34m:\u001b[0m\u001b[0;34m\u001b[0m\u001b[0;34m\u001b[0m\u001b[0m\n",
      "\u001b[0;32m/anaconda3/lib/python3.7/site-packages/keras/backend/tensorflow_backend.py\u001b[0m in \u001b[0;36m_call\u001b[0;34m(self, inputs)\u001b[0m\n\u001b[1;32m   2673\u001b[0m             \u001b[0mfetched\u001b[0m \u001b[0;34m=\u001b[0m \u001b[0mself\u001b[0m\u001b[0;34m.\u001b[0m\u001b[0m_callable_fn\u001b[0m\u001b[0;34m(\u001b[0m\u001b[0;34m*\u001b[0m\u001b[0marray_vals\u001b[0m\u001b[0;34m,\u001b[0m \u001b[0mrun_metadata\u001b[0m\u001b[0;34m=\u001b[0m\u001b[0mself\u001b[0m\u001b[0;34m.\u001b[0m\u001b[0mrun_metadata\u001b[0m\u001b[0;34m)\u001b[0m\u001b[0;34m\u001b[0m\u001b[0;34m\u001b[0m\u001b[0m\n\u001b[1;32m   2674\u001b[0m         \u001b[0;32melse\u001b[0m\u001b[0;34m:\u001b[0m\u001b[0;34m\u001b[0m\u001b[0;34m\u001b[0m\u001b[0m\n\u001b[0;32m-> 2675\u001b[0;31m             \u001b[0mfetched\u001b[0m \u001b[0;34m=\u001b[0m \u001b[0mself\u001b[0m\u001b[0;34m.\u001b[0m\u001b[0m_callable_fn\u001b[0m\u001b[0;34m(\u001b[0m\u001b[0;34m*\u001b[0m\u001b[0marray_vals\u001b[0m\u001b[0;34m)\u001b[0m\u001b[0;34m\u001b[0m\u001b[0;34m\u001b[0m\u001b[0m\n\u001b[0m\u001b[1;32m   2676\u001b[0m         \u001b[0;32mreturn\u001b[0m \u001b[0mfetched\u001b[0m\u001b[0;34m[\u001b[0m\u001b[0;34m:\u001b[0m\u001b[0mlen\u001b[0m\u001b[0;34m(\u001b[0m\u001b[0mself\u001b[0m\u001b[0;34m.\u001b[0m\u001b[0moutputs\u001b[0m\u001b[0;34m)\u001b[0m\u001b[0;34m]\u001b[0m\u001b[0;34m\u001b[0m\u001b[0;34m\u001b[0m\u001b[0m\n\u001b[1;32m   2677\u001b[0m \u001b[0;34m\u001b[0m\u001b[0m\n",
      "\u001b[0;32m/anaconda3/lib/python3.7/site-packages/tensorflow_core/python/client/session.py\u001b[0m in \u001b[0;36m__call__\u001b[0;34m(self, *args, **kwargs)\u001b[0m\n\u001b[1;32m   1470\u001b[0m         ret = tf_session.TF_SessionRunCallable(self._session._session,\n\u001b[1;32m   1471\u001b[0m                                                \u001b[0mself\u001b[0m\u001b[0;34m.\u001b[0m\u001b[0m_handle\u001b[0m\u001b[0;34m,\u001b[0m \u001b[0margs\u001b[0m\u001b[0;34m,\u001b[0m\u001b[0;34m\u001b[0m\u001b[0;34m\u001b[0m\u001b[0m\n\u001b[0;32m-> 1472\u001b[0;31m                                                run_metadata_ptr)\n\u001b[0m\u001b[1;32m   1473\u001b[0m         \u001b[0;32mif\u001b[0m \u001b[0mrun_metadata\u001b[0m\u001b[0;34m:\u001b[0m\u001b[0;34m\u001b[0m\u001b[0;34m\u001b[0m\u001b[0m\n\u001b[1;32m   1474\u001b[0m           \u001b[0mproto_data\u001b[0m \u001b[0;34m=\u001b[0m \u001b[0mtf_session\u001b[0m\u001b[0;34m.\u001b[0m\u001b[0mTF_GetBuffer\u001b[0m\u001b[0;34m(\u001b[0m\u001b[0mrun_metadata_ptr\u001b[0m\u001b[0;34m)\u001b[0m\u001b[0;34m\u001b[0m\u001b[0;34m\u001b[0m\u001b[0m\n",
      "\u001b[0;31mKeyboardInterrupt\u001b[0m: "
     ]
    }
   ],
   "source": [
    "model.fit(X_train, y_train, validation_data=(X_valid, y_valid), epochs=40, batch_size=128)"
   ]
  },
  {
   "cell_type": "code",
   "execution_count": 460,
   "metadata": {},
   "outputs": [],
   "source": [
    "model1_history = pd.DataFrame(model.history.history)"
   ]
  },
  {
   "cell_type": "code",
   "execution_count": 461,
   "metadata": {},
   "outputs": [],
   "source": [
    "model1_history.to_csv(\"model1_history.csv\")"
   ]
  },
  {
   "cell_type": "code",
   "execution_count": 474,
   "metadata": {},
   "outputs": [],
   "source": [
    "model.save('protein_seq_model1.h5')"
   ]
  },
  {
   "cell_type": "code",
   "execution_count": 475,
   "metadata": {},
   "outputs": [],
   "source": [
    "model.save_weights('protein_seq_model1_weights.h5')"
   ]
  },
  {
   "cell_type": "markdown",
   "metadata": {},
   "source": [
    "## Diagnostic Plots\n",
    "\n",
    "Plot the losses first"
   ]
  },
  {
   "cell_type": "code",
   "execution_count": 470,
   "metadata": {},
   "outputs": [
    {
     "data": {
      "text/plain": [
       "<Figure size 576x576 with 0 Axes>"
      ]
     },
     "metadata": {},
     "output_type": "display_data"
    },
    {
     "data": {
      "image/png": "[encoded data removed]",
      "text/plain": [
       "<Figure size 432x288 with 1 Axes>"
      ]
     },
     "metadata": {
      "needs_background": "light"
     },
     "output_type": "display_data"
    },
    {
     "data": {
      "text/plain": [
       "<Figure size 576x576 with 0 Axes>"
      ]
     },
     "metadata": {},
     "output_type": "display_data"
    }
   ],
   "source": [
    "plt.figure(figsize=(8,8))\n",
    "model1_history[['val_loss','loss']].plot.line()\n",
    "plt.figure(figsize=(8,8))\n",
    "plt.show()\n"
   ]
  },
  {
   "cell_type": "code",
   "execution_count": 472,
   "metadata": {},
   "outputs": [
    {
     "data": {
      "text/plain": [
       "<matplotlib.axes._subplots.AxesSubplot at 0x1cfb6092b0>"
      ]
     },
     "execution_count": 472,
     "metadata": {},
     "output_type": "execute_result"
    },
    {
     "data": {
      "image/png": "[encoded data removed]",
      "text/plain": [
       "<Figure size 432x288 with 1 Axes>"
      ]
     },
     "metadata": {
      "needs_background": "light"
     },
     "output_type": "display_data"
    }
   ],
   "source": [
    "model1_history[['val_acc','acc']].plot.line()"
   ]
  },
  {
   "cell_type": "markdown",
   "metadata": {},
   "source": [
    "## Get accuracies,f1,blah blah all the she bang"
   ]
  },
  {
   "cell_type": "code",
   "execution_count": 473,
   "metadata": {},
   "outputs": [
    {
     "name": "stdout",
     "output_type": "stream",
     "text": [
      "train-acc = 0.9546729114608544\n",
      "test-acc = 0.9148387552541415\n"
     ]
    }
   ],
   "source": [
    "from sklearn.metrics import confusion_matrix\n",
    "from sklearn.metrics import accuracy_score\n",
    "from sklearn.metrics import classification_report\n",
    "import itertools\n",
    "\n",
    "train_pred = model.predict(X_train)\n",
    "test_pred = model.predict(X_test)\n",
    "print(\"train-acc = \" + str(accuracy_score(np.argmax(y_train, axis=1), np.argmax(train_pred, axis=1))))\n",
    "print(\"test-acc = \" + str(accuracy_score(np.argmax(y_test, axis=1), np.argmax(test_pred, axis=1))))"
   ]
  },
  {
   "cell_type": "code",
   "execution_count": 476,
   "metadata": {},
   "outputs": [
    {
     "data": {
      "image/png": "[encoded data removed]",
      "text/plain": [
       "<Figure size 720x720 with 2 Axes>"
      ]
     },
     "metadata": {
      "needs_background": "light"
     },
     "output_type": "display_data"
    }
   ],
   "source": [
    "# Compute confusion matrix\n",
    "cm = confusion_matrix(np.argmax(y_test, axis=1), np.argmax(test_pred, axis=1))\n",
    "\n",
    "# Plot normalized confusion matrix\n",
    "cm = cm.astype('float') / cm.sum(axis=1)[:, np.newaxis]\n",
    "np.set_printoptions(precision=2)\n",
    "plt.figure(figsize=(10,10))\n",
    "plt.imshow(cm, interpolation='nearest', cmap=plt.cm.Blues)\n",
    "plt.title('Confusion matrix')\n",
    "plt.colorbar()\n",
    "tick_marks = np.arange(len(lb.classes_))\n",
    "plt.xticks(tick_marks, lb.classes_, rotation=90)\n",
    "plt.yticks(tick_marks, lb.classes_)\n",
    "#for i, j in itertools.product(range(cm.shape[0]), range(cm.shape[1])):\n",
    "#    plt.text(j, i, format(cm[i, j], '.2f'), horizontalalignment=\"center\", color=\"white\" if cm[i, j] > cm.max() / 2. else \"black\")\n",
    "plt.ylabel('True label')\n",
    "plt.xlabel('Predicted label')\n",
    "plt.show()"
   ]
  },
  {
   "cell_type": "markdown",
   "metadata": {},
   "source": [
    "The model is having a hard time trying to tell the difference between Ribosome and Ribsome/Antibiotic"
   ]
  },
  {
   "cell_type": "code",
   "execution_count": 478,
   "metadata": {},
   "outputs": [
    {
     "data": {
      "text/plain": [
       "array([0.88, 0.83, 0.93, 0.94, 0.89, 0.96, 0.97, 0.99, 0.06, 0.79, 0.88,\n",
       "       0.93, 0.91, 0.89, 0.98])"
      ]
     },
     "execution_count": 478,
     "metadata": {},
     "output_type": "execute_result"
    }
   ],
   "source": [
    "np.diag(cm)"
   ]
  },
  {
   "cell_type": "code",
   "execution_count": 479,
   "metadata": {},
   "outputs": [
    {
     "name": "stdout",
     "output_type": "stream",
     "text": [
      "                               precision    recall  f1-score   support\n",
      "\n",
      "                    HYDROLASE       0.91      0.88      0.90      4754\n",
      "HYDROLASE/HYDROLASE INHIBITOR       0.77      0.83      0.80      1160\n",
      "                IMMUNE SYSTEM       0.95      0.93      0.94      1675\n",
      "                    ISOMERASE       0.93      0.94      0.93       639\n",
      "                       LIGASE       0.88      0.89      0.88       469\n",
      "                        LYASE       0.95      0.96      0.96      1218\n",
      "               OXIDOREDUCTASE       0.96      0.97      0.96      3500\n",
      "                     RIBOSOME       0.91      0.99      0.95      5985\n",
      "          RIBOSOME/ANTIBIOTIC       0.75      0.06      0.11       572\n",
      "            SIGNALING PROTEIN       0.83      0.79      0.81       645\n",
      "                TRANSCRIPTION       0.85      0.88      0.86      1090\n",
      "                  TRANSFERASE       0.95      0.93      0.94      3805\n",
      "            TRANSPORT PROTEIN       0.89      0.91      0.90       858\n",
      "                VIRAL PROTEIN       0.91      0.89      0.90       860\n",
      "                        VIRUS       0.98      0.98      0.98      1081\n",
      "\n",
      "                     accuracy                           0.91     28311\n",
      "                    macro avg       0.89      0.86      0.85     28311\n",
      "                 weighted avg       0.91      0.91      0.91     28311\n",
      "\n"
     ]
    }
   ],
   "source": [
    "print(classification_report(np.argmax(y_test, axis=1), \n",
    "                            np.argmax(test_pred, axis=1), \n",
    "                            target_names=lb.classes_))"
   ]
  },
  {
   "cell_type": "code",
   "execution_count": 491,
   "metadata": {},
   "outputs": [
    {
     "data": {
      "image/png": "[encoded data removed]",
      "text/plain": [
       "<Figure size 864x720 with 2 Axes>"
      ]
     },
     "metadata": {
      "needs_background": "light"
     },
     "output_type": "display_data"
    }
   ],
   "source": [
    "plt.figure(figsize=(12,10))\n",
    "sns.heatmap(confusion_matrix(np.argmax(y_test, axis=1), \n",
    "                             np.argmax(test_pred, axis=1)), annot=True, fmt=\"d\")\n",
    "tick_marks = np.arange(len(lb.classes_))\n",
    "plt.xticks(tick_marks, lb.classes_, rotation=90)\n",
    "plt.yticks(tick_marks, lb.classes_,rotation=0)\n",
    "plt.show()"
   ]
  },
  {
   "cell_type": "markdown",
   "metadata": {},
   "source": [
    "Things to try:\n",
    "* change the input representation (each as a one hot encoded vector of AM) then try 2d conv\n",
    "* retain memory of sequences by using LSTM or RNN\n",
    "* change the architecture, use a different sized embedding\n",
    "\n",
    "Notes on conv1d\n",
    "https://stackoverflow.com/questions/52352522/how-does-keras-1d-convolution-layer-work-with-word-embeddings-text-classificat\n",
    "\n",
    "LSTM\n",
    "https://medium.com/@david.campion/text-generation-using-bidirectional-lstm-and-doc2vec-models-1-3-8979eb65cb3a\n",
    "\n",
    "RNN \n",
    "http://karpathy.github.io/2015/05/21/rnn-effectiveness/\n",
    "\n",
    "Shaping RNNS\n",
    "https://machinelearningmastery.com/reshape-input-data-long-short-term-memory-networks-keras/"
   ]
  },
  {
   "cell_type": "code",
   "execution_count": 10,
   "metadata": {},
   "outputs": [],
   "source": [
    "import keras\n",
    "from keras.models import load_model"
   ]
  },
  {
   "cell_type": "code",
   "execution_count": 12,
   "metadata": {},
   "outputs": [],
   "source": [
    "model = load_model(\"protein_seq_model1.h5\")"
   ]
  },
  {
   "cell_type": "code",
   "execution_count": 21,
   "metadata": {},
   "outputs": [],
   "source": [
    "emb = model.layers[0].get_weights()[0]"
   ]
  },
  {
   "cell_type": "code",
   "execution_count": 47,
   "metadata": {},
   "outputs": [
    {
     "data": {
      "text/plain": [
       "(26, 12)"
      ]
     },
     "execution_count": 47,
     "metadata": {},
     "output_type": "execute_result"
    }
   ],
   "source": [
    "emb.shape"
   ]
  },
  {
   "cell_type": "code",
   "execution_count": 24,
   "metadata": {},
   "outputs": [],
   "source": [
    "import umap.umap_ as umap"
   ]
  },
  {
   "cell_type": "code",
   "execution_count": 31,
   "metadata": {},
   "outputs": [],
   "source": [
    "reducer = umap.UMAP(n_components=4)\n",
    "embedding = reducer.fit_transform(emb)"
   ]
  },
  {
   "cell_type": "code",
   "execution_count": 32,
   "metadata": {},
   "outputs": [
    {
     "data": {
      "text/plain": [
       "(26, 4)"
      ]
     },
     "execution_count": 32,
     "metadata": {},
     "output_type": "execute_result"
    }
   ],
   "source": [
    "embedding.shape"
   ]
  },
  {
   "cell_type": "code",
   "execution_count": 102,
   "metadata": {},
   "outputs": [],
   "source": [
    "import plotly.express as px\n",
    "df = pd.DataFrame(embedding)\n",
    "df = df.iloc[0:25,:]\n",
    "df['Amino_Acid'] =  tokenizer.word_index.keys()"
   ]
  },
  {
   "cell_type": "code",
   "execution_count": 109,
   "metadata": {
    "scrolled": false
   },
   "outputs": [
    {
     "data": {
      "application/vnd.plotly.v1+json": {
       "config": {
        "plotlyServerURL": "https://plot.ly"
       },
       "data": [
        {
         "hoverlabel": {
          "namelength": 0
         },
         "hovertemplate": "Amino_Acid=%{text}<br>0=%{x}<br>1=%{y}<br>2=%{z}",
         "legendgroup": "l",
         "marker": {
          "color": "#636efa",
          "symbol": "circle"
         },
         "mode": "markers+text",
         "name": "l",
         "scene": "scene",
         "showlegend": true,
         "text": [
          "l"
         ],
         "type": "scatter3d",
         "x": [
          -4.540424346923828
         ],
         "y": [
          -1.1320451498031616
         ],
         "z": [
          3.869088888168335
         ]
        },
        {
         "hoverlabel": {
          "namelength": 0
         },
         "hovertemplate": "Amino_Acid=%{text}<br>0=%{x}<br>1=%{y}<br>2=%{z}",
         "legendgroup": "a",
         "marker": {
          "color": "#EF553B",
          "symbol": "circle"
         },
         "mode": "markers+text",
         "name": "a",
         "scene": "scene",
         "showlegend": true,
         "text": [
          "a"
         ],
         "type": "scatter3d",
         "x": [
          -3.8055293560028076
         ],
         "y": [
          -1.4343849420547485
         ],
         "z": [
          3.63940167427063
         ]
        },
        {
         "hoverlabel": {
          "namelength": 0
         },
         "hovertemplate": "Amino_Acid=%{text}<br>0=%{x}<br>1=%{y}<br>2=%{z}",
         "legendgroup": "g",
         "marker": {
          "color": "#00cc96",
          "symbol": "circle"
         },
         "mode": "markers+text",
         "name": "g",
         "scene": "scene",
         "showlegend": true,
         "text": [
          "g"
         ],
         "type": "scatter3d",
         "x": [
          -3.5290603637695312
         ],
         "y": [
          -1.1107906103134155
         ],
         "z": [
          3.581285238265991
         ]
        },
        {
         "hoverlabel": {
          "namelength": 0
         },
         "hovertemplate": "Amino_Acid=%{text}<br>0=%{x}<br>1=%{y}<br>2=%{z}",
         "legendgroup": "v",
         "marker": {
          "color": "#ab63fa",
          "symbol": "circle"
         },
         "mode": "markers+text",
         "name": "v",
         "scene": "scene",
         "showlegend": true,
         "text": [
          "v"
         ],
         "type": "scatter3d",
         "x": [
          -5.158402919769287
         ],
         "y": [
          -1.6576980352401733
         ],
         "z": [
          3.279479742050171
         ]
        },
        {
         "hoverlabel": {
          "namelength": 0
         },
         "hovertemplate": "Amino_Acid=%{text}<br>0=%{x}<br>1=%{y}<br>2=%{z}",
         "legendgroup": "e",
         "marker": {
          "color": "#FFA15A",
          "symbol": "circle"
         },
         "mode": "markers+text",
         "name": "e",
         "scene": "scene",
         "showlegend": true,
         "text": [
          "e"
         ],
         "type": "scatter3d",
         "x": [
          -5.196728706359863
         ],
         "y": [
          -0.9391988515853882
         ],
         "z": [
          3.8958253860473633
         ]
        },
        {
         "hoverlabel": {
          "namelength": 0
         },
         "hovertemplate": "Amino_Acid=%{text}<br>0=%{x}<br>1=%{y}<br>2=%{z}",
         "legendgroup": "s",
         "marker": {
          "color": "#19d3f3",
          "symbol": "circle"
         },
         "mode": "markers+text",
         "name": "s",
         "scene": "scene",
         "showlegend": true,
         "text": [
          "s"
         ],
         "type": "scatter3d",
         "x": [
          -3.899582862854004
         ],
         "y": [
          -1.8276901245117188
         ],
         "z": [
          2.923494577407837
         ]
        },
        {
         "hoverlabel": {
          "namelength": 0
         },
         "hovertemplate": "Amino_Acid=%{text}<br>0=%{x}<br>1=%{y}<br>2=%{z}",
         "legendgroup": "d",
         "marker": {
          "color": "#FF6692",
          "symbol": "circle"
         },
         "mode": "markers+text",
         "name": "d",
         "scene": "scene",
         "showlegend": true,
         "text": [
          "d"
         ],
         "type": "scatter3d",
         "x": [
          -4.956762790679932
         ],
         "y": [
          -1.302414059638977
         ],
         "z": [
          2.3018581867218018
         ]
        },
        {
         "hoverlabel": {
          "namelength": 0
         },
         "hovertemplate": "Amino_Acid=%{text}<br>0=%{x}<br>1=%{y}<br>2=%{z}",
         "legendgroup": "t",
         "marker": {
          "color": "#B6E880",
          "symbol": "circle"
         },
         "mode": "markers+text",
         "name": "t",
         "scene": "scene",
         "showlegend": true,
         "text": [
          "t"
         ],
         "type": "scatter3d",
         "x": [
          -4.783450603485107
         ],
         "y": [
          -0.8644524812698364
         ],
         "z": [
          3.551316499710083
         ]
        },
        {
         "hoverlabel": {
          "namelength": 0
         },
         "hovertemplate": "Amino_Acid=%{text}<br>0=%{x}<br>1=%{y}<br>2=%{z}",
         "legendgroup": "i",
         "marker": {
          "color": "#FF97FF",
          "symbol": "circle"
         },
         "mode": "markers+text",
         "name": "i",
         "scene": "scene",
         "showlegend": true,
         "text": [
          "i"
         ],
         "type": "scatter3d",
         "x": [
          -5.325143337249756
         ],
         "y": [
          -1.361886978149414
         ],
         "z": [
          2.7630844116210938
         ]
        },
        {
         "hoverlabel": {
          "namelength": 0
         },
         "hovertemplate": "Amino_Acid=%{text}<br>0=%{x}<br>1=%{y}<br>2=%{z}",
         "legendgroup": "k",
         "marker": {
          "color": "#FECB52",
          "symbol": "circle"
         },
         "mode": "markers+text",
         "name": "k",
         "scene": "scene",
         "showlegend": true,
         "text": [
          "k"
         ],
         "type": "scatter3d",
         "x": [
          -5.337881088256836
         ],
         "y": [
          -1.4075015783309937
         ],
         "z": [
          3.80942964553833
         ]
        },
        {
         "hoverlabel": {
          "namelength": 0
         },
         "hovertemplate": "Amino_Acid=%{text}<br>0=%{x}<br>1=%{y}<br>2=%{z}",
         "legendgroup": "r",
         "marker": {
          "color": "#636efa",
          "symbol": "circle"
         },
         "mode": "markers+text",
         "name": "r",
         "scene": "scene",
         "showlegend": true,
         "text": [
          "r"
         ],
         "type": "scatter3d",
         "x": [
          -4.37147331237793
         ],
         "y": [
          -1.7623761892318726
         ],
         "z": [
          4.175933837890625
         ]
        },
        {
         "hoverlabel": {
          "namelength": 0
         },
         "hovertemplate": "Amino_Acid=%{text}<br>0=%{x}<br>1=%{y}<br>2=%{z}",
         "legendgroup": "p",
         "marker": {
          "color": "#EF553B",
          "symbol": "circle"
         },
         "mode": "markers+text",
         "name": "p",
         "scene": "scene",
         "showlegend": true,
         "text": [
          "p"
         ],
         "type": "scatter3d",
         "x": [
          -3.755258560180664
         ],
         "y": [
          -1.0758603811264038
         ],
         "z": [
          3.1775193214416504
         ]
        },
        {
         "hoverlabel": {
          "namelength": 0
         },
         "hovertemplate": "Amino_Acid=%{text}<br>0=%{x}<br>1=%{y}<br>2=%{z}",
         "legendgroup": "n",
         "marker": {
          "color": "#00cc96",
          "symbol": "circle"
         },
         "mode": "markers+text",
         "name": "n",
         "scene": "scene",
         "showlegend": true,
         "text": [
          "n"
         ],
         "type": "scatter3d",
         "x": [
          -4.839615345001221
         ],
         "y": [
          -2.1345553398132324
         ],
         "z": [
          3.581421375274658
         ]
        },
        {
         "hoverlabel": {
          "namelength": 0
         },
         "hovertemplate": "Amino_Acid=%{text}<br>0=%{x}<br>1=%{y}<br>2=%{z}",
         "legendgroup": "f",
         "marker": {
          "color": "#ab63fa",
          "symbol": "circle"
         },
         "mode": "markers+text",
         "name": "f",
         "scene": "scene",
         "showlegend": true,
         "text": [
          "f"
         ],
         "type": "scatter3d",
         "x": [
          -4.388298511505127
         ],
         "y": [
          -1.5329922437667847
         ],
         "z": [
          2.830859422683716
         ]
        },
        {
         "hoverlabel": {
          "namelength": 0
         },
         "hovertemplate": "Amino_Acid=%{text}<br>0=%{x}<br>1=%{y}<br>2=%{z}",
         "legendgroup": "q",
         "marker": {
          "color": "#FFA15A",
          "symbol": "circle"
         },
         "mode": "markers+text",
         "name": "q",
         "scene": "scene",
         "showlegend": true,
         "text": [
          "q"
         ],
         "type": "scatter3d",
         "x": [
          -4.890477180480957
         ],
         "y": [
          -1.2032300233840942
         ],
         "z": [
          3.0586137771606445
         ]
        },
        {
         "hoverlabel": {
          "namelength": 0
         },
         "hovertemplate": "Amino_Acid=%{text}<br>0=%{x}<br>1=%{y}<br>2=%{z}",
         "legendgroup": "y",
         "marker": {
          "color": "#19d3f3",
          "symbol": "circle"
         },
         "mode": "markers+text",
         "name": "y",
         "scene": "scene",
         "showlegend": true,
         "text": [
          "y"
         ],
         "type": "scatter3d",
         "x": [
          -4.784732341766357
         ],
         "y": [
          -1.0585496425628662
         ],
         "z": [
          2.843437671661377
         ]
        },
        {
         "hoverlabel": {
          "namelength": 0
         },
         "hovertemplate": "Amino_Acid=%{text}<br>0=%{x}<br>1=%{y}<br>2=%{z}",
         "legendgroup": "h",
         "marker": {
          "color": "#FF6692",
          "symbol": "circle"
         },
         "mode": "markers+text",
         "name": "h",
         "scene": "scene",
         "showlegend": true,
         "text": [
          "h"
         ],
         "type": "scatter3d",
         "x": [
          -4.74357271194458
         ],
         "y": [
          -1.456068515777588
         ],
         "z": [
          2.26688551902771
         ]
        },
        {
         "hoverlabel": {
          "namelength": 0
         },
         "hovertemplate": "Amino_Acid=%{text}<br>0=%{x}<br>1=%{y}<br>2=%{z}",
         "legendgroup": "m",
         "marker": {
          "color": "#B6E880",
          "symbol": "circle"
         },
         "mode": "markers+text",
         "name": "m",
         "scene": "scene",
         "showlegend": true,
         "text": [
          "m"
         ],
         "type": "scatter3d",
         "x": [
          -4.41013765335083
         ],
         "y": [
          -1.99838387966156
         ],
         "z": [
          2.7593181133270264
         ]
        },
        {
         "hoverlabel": {
          "namelength": 0
         },
         "hovertemplate": "Amino_Acid=%{text}<br>0=%{x}<br>1=%{y}<br>2=%{z}",
         "legendgroup": "w",
         "marker": {
          "color": "#FF97FF",
          "symbol": "circle"
         },
         "mode": "markers+text",
         "name": "w",
         "scene": "scene",
         "showlegend": true,
         "text": [
          "w"
         ],
         "type": "scatter3d",
         "x": [
          -4.997325897216797
         ],
         "y": [
          -1.799643874168396
         ],
         "z": [
          4.049067497253418
         ]
        },
        {
         "hoverlabel": {
          "namelength": 0
         },
         "hovertemplate": "Amino_Acid=%{text}<br>0=%{x}<br>1=%{y}<br>2=%{z}",
         "legendgroup": "c",
         "marker": {
          "color": "#FECB52",
          "symbol": "circle"
         },
         "mode": "markers+text",
         "name": "c",
         "scene": "scene",
         "showlegend": true,
         "text": [
          "c"
         ],
         "type": "scatter3d",
         "x": [
          -5.273657321929932
         ],
         "y": [
          -1.9536830186843872
         ],
         "z": [
          3.2798049449920654
         ]
        },
        {
         "hoverlabel": {
          "namelength": 0
         },
         "hovertemplate": "Amino_Acid=%{text}<br>0=%{x}<br>1=%{y}<br>2=%{z}",
         "legendgroup": "x",
         "marker": {
          "color": "#636efa",
          "symbol": "circle"
         },
         "mode": "markers+text",
         "name": "x",
         "scene": "scene",
         "showlegend": true,
         "text": [
          "x"
         ],
         "type": "scatter3d",
         "x": [
          -3.8481338024139404
         ],
         "y": [
          -1.6419686079025269
         ],
         "z": [
          4.0424604415893555
         ]
        },
        {
         "hoverlabel": {
          "namelength": 0
         },
         "hovertemplate": "Amino_Acid=%{text}<br>0=%{x}<br>1=%{y}<br>2=%{z}",
         "legendgroup": "u",
         "marker": {
          "color": "#EF553B",
          "symbol": "circle"
         },
         "mode": "markers+text",
         "name": "u",
         "scene": "scene",
         "showlegend": true,
         "text": [
          "u"
         ],
         "type": "scatter3d",
         "x": [
          -4.844533920288086
         ],
         "y": [
          -1.9756138324737549
         ],
         "z": [
          2.469285726547241
         ]
        },
        {
         "hoverlabel": {
          "namelength": 0
         },
         "hovertemplate": "Amino_Acid=%{text}<br>0=%{x}<br>1=%{y}<br>2=%{z}",
         "legendgroup": "z",
         "marker": {
          "color": "#00cc96",
          "symbol": "circle"
         },
         "mode": "markers+text",
         "name": "z",
         "scene": "scene",
         "showlegend": true,
         "text": [
          "z"
         ],
         "type": "scatter3d",
         "x": [
          -3.784518241882324
         ],
         "y": [
          -1.2793463468551636
         ],
         "z": [
          3.97861909866333
         ]
        },
        {
         "hoverlabel": {
          "namelength": 0
         },
         "hovertemplate": "Amino_Acid=%{text}<br>0=%{x}<br>1=%{y}<br>2=%{z}",
         "legendgroup": "b",
         "marker": {
          "color": "#ab63fa",
          "symbol": "circle"
         },
         "mode": "markers+text",
         "name": "b",
         "scene": "scene",
         "showlegend": true,
         "text": [
          "b"
         ],
         "type": "scatter3d",
         "x": [
          -4.618433952331543
         ],
         "y": [
          -1.4049596786499023
         ],
         "z": [
          3.897921085357666
         ]
        },
        {
         "hoverlabel": {
          "namelength": 0
         },
         "hovertemplate": "Amino_Acid=%{text}<br>0=%{x}<br>1=%{y}<br>2=%{z}",
         "legendgroup": "o",
         "marker": {
          "color": "#FFA15A",
          "symbol": "circle"
         },
         "mode": "markers+text",
         "name": "o",
         "scene": "scene",
         "showlegend": true,
         "text": [
          "o"
         ],
         "type": "scatter3d",
         "x": [
          -4.06282377243042
         ],
         "y": [
          -1.1838587522506714
         ],
         "z": [
          2.997730016708374
         ]
        }
       ],
       "layout": {
        "legend": {
         "title": {
          "text": "Amino_Acid"
         },
         "tracegroupgap": 0
        },
        "margin": {
         "b": 10,
         "l": 10,
         "r": 20,
         "t": 10
        },
        "scene": {
         "domain": {
          "x": [
           0,
           1
          ],
          "y": [
           0,
           1
          ]
         },
         "xaxis": {
          "title": {
           "text": "UMAP Dimension 1"
          }
         },
         "yaxis": {
          "title": {
           "text": "UMAP Dimension 2"
          }
         },
         "zaxis": {
          "title": {
           "text": "UMAP Dimension 3"
          }
         }
        },
        "template": {
         "data": {
          "bar": [
           {
            "error_x": {
             "color": "#2a3f5f"
            },
            "error_y": {
             "color": "#2a3f5f"
            },
            "marker": {
             "line": {
              "color": "#E5ECF6",
              "width": 0.5
             }
            },
            "type": "bar"
           }
          ],
          "barpolar": [
           {
            "marker": {
             "line": {
              "color": "#E5ECF6",
              "width": 0.5
             }
            },
            "type": "barpolar"
           }
          ],
          "carpet": [
           {
            "aaxis": {
             "endlinecolor": "#2a3f5f",
             "gridcolor": "white",
             "linecolor": "white",
             "minorgridcolor": "white",
             "startlinecolor": "#2a3f5f"
            },
            "baxis": {
             "endlinecolor": "#2a3f5f",
             "gridcolor": "white",
             "linecolor": "white",
             "minorgridcolor": "white",
             "startlinecolor": "#2a3f5f"
            },
            "type": "carpet"
           }
          ],
          "choropleth": [
           {
            "colorbar": {
             "outlinewidth": 0,
             "ticks": ""
            },
            "type": "choropleth"
           }
          ],
          "contour": [
           {
            "colorbar": {
             "outlinewidth": 0,
             "ticks": ""
            },
            "colorscale": [
             [
              0,
              "#0d0887"
             ],
             [
              0.1111111111111111,
              "#46039f"
             ],
             [
              0.2222222222222222,
              "#7201a8"
             ],
             [
              0.3333333333333333,
              "#9c179e"
             ],
             [
              0.4444444444444444,
              "#bd3786"
             ],
             [
              0.5555555555555556,
              "#d8576b"
             ],
             [
              0.6666666666666666,
              "#ed7953"
             ],
             [
              0.7777777777777778,
              "#fb9f3a"
             ],
             [
              0.8888888888888888,
              "#fdca26"
             ],
             [
              1,
              "#f0f921"
             ]
            ],
            "type": "contour"
           }
          ],
          "contourcarpet": [
           {
            "colorbar": {
             "outlinewidth": 0,
             "ticks": ""
            },
            "type": "contourcarpet"
           }
          ],
          "heatmap": [
           {
            "colorbar": {
             "outlinewidth": 0,
             "ticks": ""
            },
            "colorscale": [
             [
              0,
              "#0d0887"
             ],
             [
              0.1111111111111111,
              "#46039f"
             ],
             [
              0.2222222222222222,
              "#7201a8"
             ],
             [
              0.3333333333333333,
              "#9c179e"
             ],
             [
              0.4444444444444444,
              "#bd3786"
             ],
             [
              0.5555555555555556,
              "#d8576b"
             ],
             [
              0.6666666666666666,
              "#ed7953"
             ],
             [
              0.7777777777777778,
              "#fb9f3a"
             ],
             [
              0.8888888888888888,
              "#fdca26"
             ],
             [
              1,
              "#f0f921"
             ]
            ],
            "type": "heatmap"
           }
          ],
          "heatmapgl": [
           {
            "colorbar": {
             "outlinewidth": 0,
             "ticks": ""
            },
            "colorscale": [
             [
              0,
              "#0d0887"
             ],
             [
              0.1111111111111111,
              "#46039f"
             ],
             [
              0.2222222222222222,
              "#7201a8"
             ],
             [
              0.3333333333333333,
              "#9c179e"
             ],
             [
              0.4444444444444444,
              "#bd3786"
             ],
             [
              0.5555555555555556,
              "#d8576b"
             ],
             [
              0.6666666666666666,
              "#ed7953"
             ],
             [
              0.7777777777777778,
              "#fb9f3a"
             ],
             [
              0.8888888888888888,
              "#fdca26"
             ],
             [
              1,
              "#f0f921"
             ]
            ],
            "type": "heatmapgl"
           }
          ],
          "histogram": [
           {
            "marker": {
             "colorbar": {
              "outlinewidth": 0,
              "ticks": ""
             }
            },
            "type": "histogram"
           }
          ],
          "histogram2d": [
           {
            "colorbar": {
             "outlinewidth": 0,
             "ticks": ""
            },
            "colorscale": [
             [
              0,
              "#0d0887"
             ],
             [
              0.1111111111111111,
              "#46039f"
             ],
             [
              0.2222222222222222,
              "#7201a8"
             ],
             [
              0.3333333333333333,
              "#9c179e"
             ],
             [
              0.4444444444444444,
              "#bd3786"
             ],
             [
              0.5555555555555556,
              "#d8576b"
             ],
             [
              0.6666666666666666,
              "#ed7953"
             ],
             [
              0.7777777777777778,
              "#fb9f3a"
             ],
             [
              0.8888888888888888,
              "#fdca26"
             ],
             [
              1,
              "#f0f921"
             ]
            ],
            "type": "histogram2d"
           }
          ],
          "histogram2dcontour": [
           {
            "colorbar": {
             "outlinewidth": 0,
             "ticks": ""
            },
            "colorscale": [
             [
              0,
              "#0d0887"
             ],
             [
              0.1111111111111111,
              "#46039f"
             ],
             [
              0.2222222222222222,
              "#7201a8"
             ],
             [
              0.3333333333333333,
              "#9c179e"
             ],
             [
              0.4444444444444444,
              "#bd3786"
             ],
             [
              0.5555555555555556,
              "#d8576b"
             ],
             [
              0.6666666666666666,
              "#ed7953"
             ],
             [
              0.7777777777777778,
              "#fb9f3a"
             ],
             [
              0.8888888888888888,
              "#fdca26"
             ],
             [
              1,
              "#f0f921"
             ]
            ],
            "type": "histogram2dcontour"
           }
          ],
          "mesh3d": [
           {
            "colorbar": {
             "outlinewidth": 0,
             "ticks": ""
            },
            "type": "mesh3d"
           }
          ],
          "parcoords": [
           {
            "line": {
             "colorbar": {
              "outlinewidth": 0,
              "ticks": ""
             }
            },
            "type": "parcoords"
           }
          ],
          "pie": [
           {
            "automargin": true,
            "type": "pie"
           }
          ],
          "scatter": [
           {
            "marker": {
             "colorbar": {
              "outlinewidth": 0,
              "ticks": ""
             }
            },
            "type": "scatter"
           }
          ],
          "scatter3d": [
           {
            "line": {
             "colorbar": {
              "outlinewidth": 0,
              "ticks": ""
             }
            },
            "marker": {
             "colorbar": {
              "outlinewidth": 0,
              "ticks": ""
             }
            },
            "type": "scatter3d"
           }
          ],
          "scattercarpet": [
           {
            "marker": {
             "colorbar": {
              "outlinewidth": 0,
              "ticks": ""
             }
            },
            "type": "scattercarpet"
           }
          ],
          "scattergeo": [
           {
            "marker": {
             "colorbar": {
              "outlinewidth": 0,
              "ticks": ""
             }
            },
            "type": "scattergeo"
           }
          ],
          "scattergl": [
           {
            "marker": {
             "colorbar": {
              "outlinewidth": 0,
              "ticks": ""
             }
            },
            "type": "scattergl"
           }
          ],
          "scattermapbox": [
           {
            "marker": {
             "colorbar": {
              "outlinewidth": 0,
              "ticks": ""
             }
            },
            "type": "scattermapbox"
           }
          ],
          "scatterpolar": [
           {
            "marker": {
             "colorbar": {
              "outlinewidth": 0,
              "ticks": ""
             }
            },
            "type": "scatterpolar"
           }
          ],
          "scatterpolargl": [
           {
            "marker": {
             "colorbar": {
              "outlinewidth": 0,
              "ticks": ""
             }
            },
            "type": "scatterpolargl"
           }
          ],
          "scatterternary": [
           {
            "marker": {
             "colorbar": {
              "outlinewidth": 0,
              "ticks": ""
             }
            },
            "type": "scatterternary"
           }
          ],
          "surface": [
           {
            "colorbar": {
             "outlinewidth": 0,
             "ticks": ""
            },
            "colorscale": [
             [
              0,
              "#0d0887"
             ],
             [
              0.1111111111111111,
              "#46039f"
             ],
             [
              0.2222222222222222,
              "#7201a8"
             ],
             [
              0.3333333333333333,
              "#9c179e"
             ],
             [
              0.4444444444444444,
              "#bd3786"
             ],
             [
              0.5555555555555556,
              "#d8576b"
             ],
             [
              0.6666666666666666,
              "#ed7953"
             ],
             [
              0.7777777777777778,
              "#fb9f3a"
             ],
             [
              0.8888888888888888,
              "#fdca26"
             ],
             [
              1,
              "#f0f921"
             ]
            ],
            "type": "surface"
           }
          ],
          "table": [
           {
            "cells": {
             "fill": {
              "color": "#EBF0F8"
             },
             "line": {
              "color": "white"
             }
            },
            "header": {
             "fill": {
              "color": "#C8D4E3"
             },
             "line": {
              "color": "white"
             }
            },
            "type": "table"
           }
          ]
         },
         "layout": {
          "annotationdefaults": {
           "arrowcolor": "#2a3f5f",
           "arrowhead": 0,
           "arrowwidth": 1
          },
          "coloraxis": {
           "colorbar": {
            "outlinewidth": 0,
            "ticks": ""
           }
          },
          "colorscale": {
           "diverging": [
            [
             0,
             "#8e0152"
            ],
            [
             0.1,
             "#c51b7d"
            ],
            [
             0.2,
             "#de77ae"
            ],
            [
             0.3,
             "#f1b6da"
            ],
            [
             0.4,
             "#fde0ef"
            ],
            [
             0.5,
             "#f7f7f7"
            ],
            [
             0.6,
             "#e6f5d0"
            ],
            [
             0.7,
             "#b8e186"
            ],
            [
             0.8,
             "#7fbc41"
            ],
            [
             0.9,
             "#4d9221"
            ],
            [
             1,
             "#276419"
            ]
           ],
           "sequential": [
            [
             0,
             "#0d0887"
            ],
            [
             0.1111111111111111,
             "#46039f"
            ],
            [
             0.2222222222222222,
             "#7201a8"
            ],
            [
             0.3333333333333333,
             "#9c179e"
            ],
            [
             0.4444444444444444,
             "#bd3786"
            ],
            [
             0.5555555555555556,
             "#d8576b"
            ],
            [
             0.6666666666666666,
             "#ed7953"
            ],
            [
             0.7777777777777778,
             "#fb9f3a"
            ],
            [
             0.8888888888888888,
             "#fdca26"
            ],
            [
             1,
             "#f0f921"
            ]
           ],
           "sequentialminus": [
            [
             0,
             "#0d0887"
            ],
            [
             0.1111111111111111,
             "#46039f"
            ],
            [
             0.2222222222222222,
             "#7201a8"
            ],
            [
             0.3333333333333333,
             "#9c179e"
            ],
            [
             0.4444444444444444,
             "#bd3786"
            ],
            [
             0.5555555555555556,
             "#d8576b"
            ],
            [
             0.6666666666666666,
             "#ed7953"
            ],
            [
             0.7777777777777778,
             "#fb9f3a"
            ],
            [
             0.8888888888888888,
             "#fdca26"
            ],
            [
             1,
             "#f0f921"
            ]
           ]
          },
          "colorway": [
           "#636efa",
           "#EF553B",
           "#00cc96",
           "#ab63fa",
           "#FFA15A",
           "#19d3f3",
           "#FF6692",
           "#B6E880",
           "#FF97FF",
           "#FECB52"
          ],
          "font": {
           "color": "#2a3f5f"
          },
          "geo": {
           "bgcolor": "white",
           "lakecolor": "white",
           "landcolor": "#E5ECF6",
           "showlakes": true,
           "showland": true,
           "subunitcolor": "white"
          },
          "hoverlabel": {
           "align": "left"
          },
          "hovermode": "closest",
          "mapbox": {
           "style": "light"
          },
          "paper_bgcolor": "white",
          "plot_bgcolor": "#E5ECF6",
          "polar": {
           "angularaxis": {
            "gridcolor": "white",
            "linecolor": "white",
            "ticks": ""
           },
           "bgcolor": "#E5ECF6",
           "radialaxis": {
            "gridcolor": "white",
            "linecolor": "white",
            "ticks": ""
           }
          },
          "scene": {
           "xaxis": {
            "backgroundcolor": "#E5ECF6",
            "gridcolor": "white",
            "gridwidth": 2,
            "linecolor": "white",
            "showbackground": true,
            "ticks": "",
            "zerolinecolor": "white"
           },
           "yaxis": {
            "backgroundcolor": "#E5ECF6",
            "gridcolor": "white",
            "gridwidth": 2,
            "linecolor": "white",
            "showbackground": true,
            "ticks": "",
            "zerolinecolor": "white"
           },
           "zaxis": {
            "backgroundcolor": "#E5ECF6",
            "gridcolor": "white",
            "gridwidth": 2,
            "linecolor": "white",
            "showbackground": true,
            "ticks": "",
            "zerolinecolor": "white"
           }
          },
          "shapedefaults": {
           "line": {
            "color": "#2a3f5f"
           }
          },
          "ternary": {
           "aaxis": {
            "gridcolor": "white",
            "linecolor": "white",
            "ticks": ""
           },
           "baxis": {
            "gridcolor": "white",
            "linecolor": "white",
            "ticks": ""
           },
           "bgcolor": "#E5ECF6",
           "caxis": {
            "gridcolor": "white",
            "linecolor": "white",
            "ticks": ""
           }
          },
          "title": {
           "x": 0.05
          },
          "xaxis": {
           "automargin": true,
           "gridcolor": "white",
           "linecolor": "white",
           "ticks": "",
           "title": {
            "standoff": 15
           },
           "zerolinecolor": "white",
           "zerolinewidth": 2
          },
          "yaxis": {
           "automargin": true,
           "gridcolor": "white",
           "linecolor": "white",
           "ticks": "",
           "title": {
            "standoff": 15
           },
           "zerolinecolor": "white",
           "zerolinewidth": 2
          }
         }
        },
        "width": 700
       }
      },
      "text/html": [
       "<div>\n",
       "        \n",
       "        \n",
       "            <div id=\"8626d852-26f4-491b-ab27-14aff7e33931\" class=\"plotly-graph-div\" style=\"height:525px; width:700px;\"></div>\n",
       "            <script type=\"text/javascript\">\n",
       "                require([\"plotly\"], function(Plotly) {\n",
       "                    window.PLOTLYENV=window.PLOTLYENV || {};\n",
       "                    \n",
       "                if (document.getElementById(\"8626d852-26f4-491b-ab27-14aff7e33931\")) {\n",
       "                    Plotly.newPlot(\n",
       "                        '8626d852-26f4-491b-ab27-14aff7e33931',\n",
       "                        [{\"hoverlabel\": {\"namelength\": 0}, \"hovertemplate\": \"Amino_Acid=%{text}<br>0=%{x}<br>1=%{y}<br>2=%{z}\", \"legendgroup\": \"l\", \"marker\": {\"color\": \"#636efa\", \"symbol\": \"circle\"}, \"mode\": \"markers+text\", \"name\": \"l\", \"scene\": \"scene\", \"showlegend\": true, \"text\": [\"l\"], \"type\": \"scatter3d\", \"x\": [-4.540424346923828], \"y\": [-1.1320451498031616], \"z\": [3.869088888168335]}, {\"hoverlabel\": {\"namelength\": 0}, \"hovertemplate\": \"Amino_Acid=%{text}<br>0=%{x}<br>1=%{y}<br>2=%{z}\", \"legendgroup\": \"a\", \"marker\": {\"color\": \"#EF553B\", \"symbol\": \"circle\"}, \"mode\": \"markers+text\", \"name\": \"a\", \"scene\": \"scene\", \"showlegend\": true, \"text\": [\"a\"], \"type\": \"scatter3d\", \"x\": [-3.8055293560028076], \"y\": [-1.4343849420547485], \"z\": [3.63940167427063]}, {\"hoverlabel\": {\"namelength\": 0}, \"hovertemplate\": \"Amino_Acid=%{text}<br>0=%{x}<br>1=%{y}<br>2=%{z}\", \"legendgroup\": \"g\", \"marker\": {\"color\": \"#00cc96\", \"symbol\": \"circle\"}, \"mode\": \"markers+text\", \"name\": \"g\", \"scene\": \"scene\", \"showlegend\": true, \"text\": [\"g\"], \"type\": \"scatter3d\", \"x\": [-3.5290603637695312], \"y\": [-1.1107906103134155], \"z\": [3.581285238265991]}, {\"hoverlabel\": {\"namelength\": 0}, \"hovertemplate\": \"Amino_Acid=%{text}<br>0=%{x}<br>1=%{y}<br>2=%{z}\", \"legendgroup\": \"v\", \"marker\": {\"color\": \"#ab63fa\", \"symbol\": \"circle\"}, \"mode\": \"markers+text\", \"name\": \"v\", \"scene\": \"scene\", \"showlegend\": true, \"text\": [\"v\"], \"type\": \"scatter3d\", \"x\": [-5.158402919769287], \"y\": [-1.6576980352401733], \"z\": [3.279479742050171]}, {\"hoverlabel\": {\"namelength\": 0}, \"hovertemplate\": \"Amino_Acid=%{text}<br>0=%{x}<br>1=%{y}<br>2=%{z}\", \"legendgroup\": \"e\", \"marker\": {\"color\": \"#FFA15A\", \"symbol\": \"circle\"}, \"mode\": \"markers+text\", \"name\": \"e\", \"scene\": \"scene\", \"showlegend\": true, \"text\": [\"e\"], \"type\": \"scatter3d\", \"x\": [-5.196728706359863], \"y\": [-0.9391988515853882], \"z\": [3.8958253860473633]}, {\"hoverlabel\": {\"namelength\": 0}, \"hovertemplate\": \"Amino_Acid=%{text}<br>0=%{x}<br>1=%{y}<br>2=%{z}\", \"legendgroup\": \"s\", \"marker\": {\"color\": \"#19d3f3\", \"symbol\": \"circle\"}, \"mode\": \"markers+text\", \"name\": \"s\", \"scene\": \"scene\", \"showlegend\": true, \"text\": [\"s\"], \"type\": \"scatter3d\", \"x\": [-3.899582862854004], \"y\": [-1.8276901245117188], \"z\": [2.923494577407837]}, {\"hoverlabel\": {\"namelength\": 0}, \"hovertemplate\": \"Amino_Acid=%{text}<br>0=%{x}<br>1=%{y}<br>2=%{z}\", \"legendgroup\": \"d\", \"marker\": {\"color\": \"#FF6692\", \"symbol\": \"circle\"}, \"mode\": \"markers+text\", \"name\": \"d\", \"scene\": \"scene\", \"showlegend\": true, \"text\": [\"d\"], \"type\": \"scatter3d\", \"x\": [-4.956762790679932], \"y\": [-1.302414059638977], \"z\": [2.3018581867218018]}, {\"hoverlabel\": {\"namelength\": 0}, \"hovertemplate\": \"Amino_Acid=%{text}<br>0=%{x}<br>1=%{y}<br>2=%{z}\", \"legendgroup\": \"t\", \"marker\": {\"color\": \"#B6E880\", \"symbol\": \"circle\"}, \"mode\": \"markers+text\", \"name\": \"t\", \"scene\": \"scene\", \"showlegend\": true, \"text\": [\"t\"], \"type\": \"scatter3d\", \"x\": [-4.783450603485107], \"y\": [-0.8644524812698364], \"z\": [3.551316499710083]}, {\"hoverlabel\": {\"namelength\": 0}, \"hovertemplate\": \"Amino_Acid=%{text}<br>0=%{x}<br>1=%{y}<br>2=%{z}\", \"legendgroup\": \"i\", \"marker\": {\"color\": \"#FF97FF\", \"symbol\": \"circle\"}, \"mode\": \"markers+text\", \"name\": \"i\", \"scene\": \"scene\", \"showlegend\": true, \"text\": [\"i\"], \"type\": \"scatter3d\", \"x\": [-5.325143337249756], \"y\": [-1.361886978149414], \"z\": [2.7630844116210938]}, {\"hoverlabel\": {\"namelength\": 0}, \"hovertemplate\": \"Amino_Acid=%{text}<br>0=%{x}<br>1=%{y}<br>2=%{z}\", \"legendgroup\": \"k\", \"marker\": {\"color\": \"#FECB52\", \"symbol\": \"circle\"}, \"mode\": \"markers+text\", \"name\": \"k\", \"scene\": \"scene\", \"showlegend\": true, \"text\": [\"k\"], \"type\": \"scatter3d\", \"x\": [-5.337881088256836], \"y\": [-1.4075015783309937], \"z\": [3.80942964553833]}, {\"hoverlabel\": {\"namelength\": 0}, \"hovertemplate\": \"Amino_Acid=%{text}<br>0=%{x}<br>1=%{y}<br>2=%{z}\", \"legendgroup\": \"r\", \"marker\": {\"color\": \"#636efa\", \"symbol\": \"circle\"}, \"mode\": \"markers+text\", \"name\": \"r\", \"scene\": \"scene\", \"showlegend\": true, \"text\": [\"r\"], \"type\": \"scatter3d\", \"x\": [-4.37147331237793], \"y\": [-1.7623761892318726], \"z\": [4.175933837890625]}, {\"hoverlabel\": {\"namelength\": 0}, \"hovertemplate\": \"Amino_Acid=%{text}<br>0=%{x}<br>1=%{y}<br>2=%{z}\", \"legendgroup\": \"p\", \"marker\": {\"color\": \"#EF553B\", \"symbol\": \"circle\"}, \"mode\": \"markers+text\", \"name\": \"p\", \"scene\": \"scene\", \"showlegend\": true, \"text\": [\"p\"], \"type\": \"scatter3d\", \"x\": [-3.755258560180664], \"y\": [-1.0758603811264038], \"z\": [3.1775193214416504]}, {\"hoverlabel\": {\"namelength\": 0}, \"hovertemplate\": \"Amino_Acid=%{text}<br>0=%{x}<br>1=%{y}<br>2=%{z}\", \"legendgroup\": \"n\", \"marker\": {\"color\": \"#00cc96\", \"symbol\": \"circle\"}, \"mode\": \"markers+text\", \"name\": \"n\", \"scene\": \"scene\", \"showlegend\": true, \"text\": [\"n\"], \"type\": \"scatter3d\", \"x\": [-4.839615345001221], \"y\": [-2.1345553398132324], \"z\": [3.581421375274658]}, {\"hoverlabel\": {\"namelength\": 0}, \"hovertemplate\": \"Amino_Acid=%{text}<br>0=%{x}<br>1=%{y}<br>2=%{z}\", \"legendgroup\": \"f\", \"marker\": {\"color\": \"#ab63fa\", \"symbol\": \"circle\"}, \"mode\": \"markers+text\", \"name\": \"f\", \"scene\": \"scene\", \"showlegend\": true, \"text\": [\"f\"], \"type\": \"scatter3d\", \"x\": [-4.388298511505127], \"y\": [-1.5329922437667847], \"z\": [2.830859422683716]}, {\"hoverlabel\": {\"namelength\": 0}, \"hovertemplate\": \"Amino_Acid=%{text}<br>0=%{x}<br>1=%{y}<br>2=%{z}\", \"legendgroup\": \"q\", \"marker\": {\"color\": \"#FFA15A\", \"symbol\": \"circle\"}, \"mode\": \"markers+text\", \"name\": \"q\", \"scene\": \"scene\", \"showlegend\": true, \"text\": [\"q\"], \"type\": \"scatter3d\", \"x\": [-4.890477180480957], \"y\": [-1.2032300233840942], \"z\": [3.0586137771606445]}, {\"hoverlabel\": {\"namelength\": 0}, \"hovertemplate\": \"Amino_Acid=%{text}<br>0=%{x}<br>1=%{y}<br>2=%{z}\", \"legendgroup\": \"y\", \"marker\": {\"color\": \"#19d3f3\", \"symbol\": \"circle\"}, \"mode\": \"markers+text\", \"name\": \"y\", \"scene\": \"scene\", \"showlegend\": true, \"text\": [\"y\"], \"type\": \"scatter3d\", \"x\": [-4.784732341766357], \"y\": [-1.0585496425628662], \"z\": [2.843437671661377]}, {\"hoverlabel\": {\"namelength\": 0}, \"hovertemplate\": \"Amino_Acid=%{text}<br>0=%{x}<br>1=%{y}<br>2=%{z}\", \"legendgroup\": \"h\", \"marker\": {\"color\": \"#FF6692\", \"symbol\": \"circle\"}, \"mode\": \"markers+text\", \"name\": \"h\", \"scene\": \"scene\", \"showlegend\": true, \"text\": [\"h\"], \"type\": \"scatter3d\", \"x\": [-4.74357271194458], \"y\": [-1.456068515777588], \"z\": [2.26688551902771]}, {\"hoverlabel\": {\"namelength\": 0}, \"hovertemplate\": \"Amino_Acid=%{text}<br>0=%{x}<br>1=%{y}<br>2=%{z}\", \"legendgroup\": \"m\", \"marker\": {\"color\": \"#B6E880\", \"symbol\": \"circle\"}, \"mode\": \"markers+text\", \"name\": \"m\", \"scene\": \"scene\", \"showlegend\": true, \"text\": [\"m\"], \"type\": \"scatter3d\", \"x\": [-4.41013765335083], \"y\": [-1.99838387966156], \"z\": [2.7593181133270264]}, {\"hoverlabel\": {\"namelength\": 0}, \"hovertemplate\": \"Amino_Acid=%{text}<br>0=%{x}<br>1=%{y}<br>2=%{z}\", \"legendgroup\": \"w\", \"marker\": {\"color\": \"#FF97FF\", \"symbol\": \"circle\"}, \"mode\": \"markers+text\", \"name\": \"w\", \"scene\": \"scene\", \"showlegend\": true, \"text\": [\"w\"], \"type\": \"scatter3d\", \"x\": [-4.997325897216797], \"y\": [-1.799643874168396], \"z\": [4.049067497253418]}, {\"hoverlabel\": {\"namelength\": 0}, \"hovertemplate\": \"Amino_Acid=%{text}<br>0=%{x}<br>1=%{y}<br>2=%{z}\", \"legendgroup\": \"c\", \"marker\": {\"color\": \"#FECB52\", \"symbol\": \"circle\"}, \"mode\": \"markers+text\", \"name\": \"c\", \"scene\": \"scene\", \"showlegend\": true, \"text\": [\"c\"], \"type\": \"scatter3d\", \"x\": [-5.273657321929932], \"y\": [-1.9536830186843872], \"z\": [3.2798049449920654]}, {\"hoverlabel\": {\"namelength\": 0}, \"hovertemplate\": \"Amino_Acid=%{text}<br>0=%{x}<br>1=%{y}<br>2=%{z}\", \"legendgroup\": \"x\", \"marker\": {\"color\": \"#636efa\", \"symbol\": \"circle\"}, \"mode\": \"markers+text\", \"name\": \"x\", \"scene\": \"scene\", \"showlegend\": true, \"text\": [\"x\"], \"type\": \"scatter3d\", \"x\": [-3.8481338024139404], \"y\": [-1.6419686079025269], \"z\": [4.0424604415893555]}, {\"hoverlabel\": {\"namelength\": 0}, \"hovertemplate\": \"Amino_Acid=%{text}<br>0=%{x}<br>1=%{y}<br>2=%{z}\", \"legendgroup\": \"u\", \"marker\": {\"color\": \"#EF553B\", \"symbol\": \"circle\"}, \"mode\": \"markers+text\", \"name\": \"u\", \"scene\": \"scene\", \"showlegend\": true, \"text\": [\"u\"], \"type\": \"scatter3d\", \"x\": [-4.844533920288086], \"y\": [-1.9756138324737549], \"z\": [2.469285726547241]}, {\"hoverlabel\": {\"namelength\": 0}, \"hovertemplate\": \"Amino_Acid=%{text}<br>0=%{x}<br>1=%{y}<br>2=%{z}\", \"legendgroup\": \"z\", \"marker\": {\"color\": \"#00cc96\", \"symbol\": \"circle\"}, \"mode\": \"markers+text\", \"name\": \"z\", \"scene\": \"scene\", \"showlegend\": true, \"text\": [\"z\"], \"type\": \"scatter3d\", \"x\": [-3.784518241882324], \"y\": [-1.2793463468551636], \"z\": [3.97861909866333]}, {\"hoverlabel\": {\"namelength\": 0}, \"hovertemplate\": \"Amino_Acid=%{text}<br>0=%{x}<br>1=%{y}<br>2=%{z}\", \"legendgroup\": \"b\", \"marker\": {\"color\": \"#ab63fa\", \"symbol\": \"circle\"}, \"mode\": \"markers+text\", \"name\": \"b\", \"scene\": \"scene\", \"showlegend\": true, \"text\": [\"b\"], \"type\": \"scatter3d\", \"x\": [-4.618433952331543], \"y\": [-1.4049596786499023], \"z\": [3.897921085357666]}, {\"hoverlabel\": {\"namelength\": 0}, \"hovertemplate\": \"Amino_Acid=%{text}<br>0=%{x}<br>1=%{y}<br>2=%{z}\", \"legendgroup\": \"o\", \"marker\": {\"color\": \"#FFA15A\", \"symbol\": \"circle\"}, \"mode\": \"markers+text\", \"name\": \"o\", \"scene\": \"scene\", \"showlegend\": true, \"text\": [\"o\"], \"type\": \"scatter3d\", \"x\": [-4.06282377243042], \"y\": [-1.1838587522506714], \"z\": [2.997730016708374]}],\n",
       "                        {\"legend\": {\"title\": {\"text\": \"Amino_Acid\"}, \"tracegroupgap\": 0}, \"margin\": {\"b\": 10, \"l\": 10, \"r\": 20, \"t\": 10}, \"scene\": {\"domain\": {\"x\": [0.0, 1.0], \"y\": [0.0, 1.0]}, \"xaxis\": {\"title\": {\"text\": \"UMAP Dimension 1\"}}, \"yaxis\": {\"title\": {\"text\": \"UMAP Dimension 2\"}}, \"zaxis\": {\"title\": {\"text\": \"UMAP Dimension 3\"}}}, \"template\": {\"data\": {\"bar\": [{\"error_x\": {\"color\": \"#2a3f5f\"}, \"error_y\": {\"color\": \"#2a3f5f\"}, \"marker\": {\"line\": {\"color\": \"#E5ECF6\", \"width\": 0.5}}, \"type\": \"bar\"}], \"barpolar\": [{\"marker\": {\"line\": {\"color\": \"#E5ECF6\", \"width\": 0.5}}, \"type\": \"barpolar\"}], \"carpet\": [{\"aaxis\": {\"endlinecolor\": \"#2a3f5f\", \"gridcolor\": \"white\", \"linecolor\": \"white\", \"minorgridcolor\": \"white\", \"startlinecolor\": \"#2a3f5f\"}, \"baxis\": {\"endlinecolor\": \"#2a3f5f\", \"gridcolor\": \"white\", \"linecolor\": \"white\", \"minorgridcolor\": \"white\", \"startlinecolor\": \"#2a3f5f\"}, \"type\": \"carpet\"}], \"choropleth\": [{\"colorbar\": {\"outlinewidth\": 0, \"ticks\": \"\"}, \"type\": \"choropleth\"}], \"contour\": [{\"colorbar\": {\"outlinewidth\": 0, \"ticks\": \"\"}, \"colorscale\": [[0.0, \"#0d0887\"], [0.1111111111111111, \"#46039f\"], [0.2222222222222222, \"#7201a8\"], [0.3333333333333333, \"#9c179e\"], [0.4444444444444444, \"#bd3786\"], [0.5555555555555556, \"#d8576b\"], [0.6666666666666666, \"#ed7953\"], [0.7777777777777778, \"#fb9f3a\"], [0.8888888888888888, \"#fdca26\"], [1.0, \"#f0f921\"]], \"type\": \"contour\"}], \"contourcarpet\": [{\"colorbar\": {\"outlinewidth\": 0, \"ticks\": \"\"}, \"type\": \"contourcarpet\"}], \"heatmap\": [{\"colorbar\": {\"outlinewidth\": 0, \"ticks\": \"\"}, \"colorscale\": [[0.0, \"#0d0887\"], [0.1111111111111111, \"#46039f\"], [0.2222222222222222, \"#7201a8\"], [0.3333333333333333, \"#9c179e\"], [0.4444444444444444, \"#bd3786\"], [0.5555555555555556, \"#d8576b\"], [0.6666666666666666, \"#ed7953\"], [0.7777777777777778, \"#fb9f3a\"], [0.8888888888888888, \"#fdca26\"], [1.0, \"#f0f921\"]], \"type\": \"heatmap\"}], \"heatmapgl\": [{\"colorbar\": {\"outlinewidth\": 0, \"ticks\": \"\"}, \"colorscale\": [[0.0, \"#0d0887\"], [0.1111111111111111, \"#46039f\"], [0.2222222222222222, \"#7201a8\"], [0.3333333333333333, \"#9c179e\"], [0.4444444444444444, \"#bd3786\"], [0.5555555555555556, \"#d8576b\"], [0.6666666666666666, \"#ed7953\"], [0.7777777777777778, \"#fb9f3a\"], [0.8888888888888888, \"#fdca26\"], [1.0, \"#f0f921\"]], \"type\": \"heatmapgl\"}], \"histogram\": [{\"marker\": {\"colorbar\": {\"outlinewidth\": 0, \"ticks\": \"\"}}, \"type\": \"histogram\"}], \"histogram2d\": [{\"colorbar\": {\"outlinewidth\": 0, \"ticks\": \"\"}, \"colorscale\": [[0.0, \"#0d0887\"], [0.1111111111111111, \"#46039f\"], [0.2222222222222222, \"#7201a8\"], [0.3333333333333333, \"#9c179e\"], [0.4444444444444444, \"#bd3786\"], [0.5555555555555556, \"#d8576b\"], [0.6666666666666666, \"#ed7953\"], [0.7777777777777778, \"#fb9f3a\"], [0.8888888888888888, \"#fdca26\"], [1.0, \"#f0f921\"]], \"type\": \"histogram2d\"}], \"histogram2dcontour\": [{\"colorbar\": {\"outlinewidth\": 0, \"ticks\": \"\"}, \"colorscale\": [[0.0, \"#0d0887\"], [0.1111111111111111, \"#46039f\"], [0.2222222222222222, \"#7201a8\"], [0.3333333333333333, \"#9c179e\"], [0.4444444444444444, \"#bd3786\"], [0.5555555555555556, \"#d8576b\"], [0.6666666666666666, \"#ed7953\"], [0.7777777777777778, \"#fb9f3a\"], [0.8888888888888888, \"#fdca26\"], [1.0, \"#f0f921\"]], \"type\": \"histogram2dcontour\"}], \"mesh3d\": [{\"colorbar\": {\"outlinewidth\": 0, \"ticks\": \"\"}, \"type\": \"mesh3d\"}], \"parcoords\": [{\"line\": {\"colorbar\": {\"outlinewidth\": 0, \"ticks\": \"\"}}, \"type\": \"parcoords\"}], \"pie\": [{\"automargin\": true, \"type\": \"pie\"}], \"scatter\": [{\"marker\": {\"colorbar\": {\"outlinewidth\": 0, \"ticks\": \"\"}}, \"type\": \"scatter\"}], \"scatter3d\": [{\"line\": {\"colorbar\": {\"outlinewidth\": 0, \"ticks\": \"\"}}, \"marker\": {\"colorbar\": {\"outlinewidth\": 0, \"ticks\": \"\"}}, \"type\": \"scatter3d\"}], \"scattercarpet\": [{\"marker\": {\"colorbar\": {\"outlinewidth\": 0, \"ticks\": \"\"}}, \"type\": \"scattercarpet\"}], \"scattergeo\": [{\"marker\": {\"colorbar\": {\"outlinewidth\": 0, \"ticks\": \"\"}}, \"type\": \"scattergeo\"}], \"scattergl\": [{\"marker\": {\"colorbar\": {\"outlinewidth\": 0, \"ticks\": \"\"}}, \"type\": \"scattergl\"}], \"scattermapbox\": [{\"marker\": {\"colorbar\": {\"outlinewidth\": 0, \"ticks\": \"\"}}, \"type\": \"scattermapbox\"}], \"scatterpolar\": [{\"marker\": {\"colorbar\": {\"outlinewidth\": 0, \"ticks\": \"\"}}, \"type\": \"scatterpolar\"}], \"scatterpolargl\": [{\"marker\": {\"colorbar\": {\"outlinewidth\": 0, \"ticks\": \"\"}}, \"type\": \"scatterpolargl\"}], \"scatterternary\": [{\"marker\": {\"colorbar\": {\"outlinewidth\": 0, \"ticks\": \"\"}}, \"type\": \"scatterternary\"}], \"surface\": [{\"colorbar\": {\"outlinewidth\": 0, \"ticks\": \"\"}, \"colorscale\": [[0.0, \"#0d0887\"], [0.1111111111111111, \"#46039f\"], [0.2222222222222222, \"#7201a8\"], [0.3333333333333333, \"#9c179e\"], [0.4444444444444444, \"#bd3786\"], [0.5555555555555556, \"#d8576b\"], [0.6666666666666666, \"#ed7953\"], [0.7777777777777778, \"#fb9f3a\"], [0.8888888888888888, \"#fdca26\"], [1.0, \"#f0f921\"]], \"type\": \"surface\"}], \"table\": [{\"cells\": {\"fill\": {\"color\": \"#EBF0F8\"}, \"line\": {\"color\": \"white\"}}, \"header\": {\"fill\": {\"color\": \"#C8D4E3\"}, \"line\": {\"color\": \"white\"}}, \"type\": \"table\"}]}, \"layout\": {\"annotationdefaults\": {\"arrowcolor\": \"#2a3f5f\", \"arrowhead\": 0, \"arrowwidth\": 1}, \"coloraxis\": {\"colorbar\": {\"outlinewidth\": 0, \"ticks\": \"\"}}, \"colorscale\": {\"diverging\": [[0, \"#8e0152\"], [0.1, \"#c51b7d\"], [0.2, \"#de77ae\"], [0.3, \"#f1b6da\"], [0.4, \"#fde0ef\"], [0.5, \"#f7f7f7\"], [0.6, \"#e6f5d0\"], [0.7, \"#b8e186\"], [0.8, \"#7fbc41\"], [0.9, \"#4d9221\"], [1, \"#276419\"]], \"sequential\": [[0.0, \"#0d0887\"], [0.1111111111111111, \"#46039f\"], [0.2222222222222222, \"#7201a8\"], [0.3333333333333333, \"#9c179e\"], [0.4444444444444444, \"#bd3786\"], [0.5555555555555556, \"#d8576b\"], [0.6666666666666666, \"#ed7953\"], [0.7777777777777778, \"#fb9f3a\"], [0.8888888888888888, \"#fdca26\"], [1.0, \"#f0f921\"]], \"sequentialminus\": [[0.0, \"#0d0887\"], [0.1111111111111111, \"#46039f\"], [0.2222222222222222, \"#7201a8\"], [0.3333333333333333, \"#9c179e\"], [0.4444444444444444, \"#bd3786\"], [0.5555555555555556, \"#d8576b\"], [0.6666666666666666, \"#ed7953\"], [0.7777777777777778, \"#fb9f3a\"], [0.8888888888888888, \"#fdca26\"], [1.0, \"#f0f921\"]]}, \"colorway\": [\"#636efa\", \"#EF553B\", \"#00cc96\", \"#ab63fa\", \"#FFA15A\", \"#19d3f3\", \"#FF6692\", \"#B6E880\", \"#FF97FF\", \"#FECB52\"], \"font\": {\"color\": \"#2a3f5f\"}, \"geo\": {\"bgcolor\": \"white\", \"lakecolor\": \"white\", \"landcolor\": \"#E5ECF6\", \"showlakes\": true, \"showland\": true, \"subunitcolor\": \"white\"}, \"hoverlabel\": {\"align\": \"left\"}, \"hovermode\": \"closest\", \"mapbox\": {\"style\": \"light\"}, \"paper_bgcolor\": \"white\", \"plot_bgcolor\": \"#E5ECF6\", \"polar\": {\"angularaxis\": {\"gridcolor\": \"white\", \"linecolor\": \"white\", \"ticks\": \"\"}, \"bgcolor\": \"#E5ECF6\", \"radialaxis\": {\"gridcolor\": \"white\", \"linecolor\": \"white\", \"ticks\": \"\"}}, \"scene\": {\"xaxis\": {\"backgroundcolor\": \"#E5ECF6\", \"gridcolor\": \"white\", \"gridwidth\": 2, \"linecolor\": \"white\", \"showbackground\": true, \"ticks\": \"\", \"zerolinecolor\": \"white\"}, \"yaxis\": {\"backgroundcolor\": \"#E5ECF6\", \"gridcolor\": \"white\", \"gridwidth\": 2, \"linecolor\": \"white\", \"showbackground\": true, \"ticks\": \"\", \"zerolinecolor\": \"white\"}, \"zaxis\": {\"backgroundcolor\": \"#E5ECF6\", \"gridcolor\": \"white\", \"gridwidth\": 2, \"linecolor\": \"white\", \"showbackground\": true, \"ticks\": \"\", \"zerolinecolor\": \"white\"}}, \"shapedefaults\": {\"line\": {\"color\": \"#2a3f5f\"}}, \"ternary\": {\"aaxis\": {\"gridcolor\": \"white\", \"linecolor\": \"white\", \"ticks\": \"\"}, \"baxis\": {\"gridcolor\": \"white\", \"linecolor\": \"white\", \"ticks\": \"\"}, \"bgcolor\": \"#E5ECF6\", \"caxis\": {\"gridcolor\": \"white\", \"linecolor\": \"white\", \"ticks\": \"\"}}, \"title\": {\"x\": 0.05}, \"xaxis\": {\"automargin\": true, \"gridcolor\": \"white\", \"linecolor\": \"white\", \"ticks\": \"\", \"title\": {\"standoff\": 15}, \"zerolinecolor\": \"white\", \"zerolinewidth\": 2}, \"yaxis\": {\"automargin\": true, \"gridcolor\": \"white\", \"linecolor\": \"white\", \"ticks\": \"\", \"title\": {\"standoff\": 15}, \"zerolinecolor\": \"white\", \"zerolinewidth\": 2}}}, \"width\": 700},\n",
       "                        {\"responsive\": true}\n",
       "                    ).then(function(){\n",
       "                            \n",
       "var gd = document.getElementById('8626d852-26f4-491b-ab27-14aff7e33931');\n",
       "var x = new MutationObserver(function (mutations, observer) {{\n",
       "        var display = window.getComputedStyle(gd).display;\n",
       "        if (!display || display === 'none') {{\n",
       "            console.log([gd, 'removed!']);\n",
       "            Plotly.purge(gd);\n",
       "            observer.disconnect();\n",
       "        }}\n",
       "}});\n",
       "\n",
       "// Listen for the removal of the full notebook cells\n",
       "var notebookContainer = gd.closest('#notebook-container');\n",
       "if (notebookContainer) {{\n",
       "    x.observe(notebookContainer, {childList: true});\n",
       "}}\n",
       "\n",
       "// Listen for the clearing of the current output cell\n",
       "var outputEl = gd.closest('.output');\n",
       "if (outputEl) {{\n",
       "    x.observe(outputEl, {childList: true});\n",
       "}}\n",
       "\n",
       "                        })\n",
       "                };\n",
       "                });\n",
       "            </script>\n",
       "        </div>"
      ]
     },
     "metadata": {},
     "output_type": "display_data"
    }
   ],
   "source": [
    "fig = px.scatter_3d(df, x=0, y=1, z=2,text='Amino_Acid',color='Amino_Acid')\n",
    "fig.update_layout(scene = dict(\n",
    "                    xaxis_title='UMAP Dimension 1',\n",
    "                    yaxis_title='UMAP Dimension 2',\n",
    "                    zaxis_title='UMAP Dimension 3'),\n",
    "                    width=700,\n",
    "                    margin=dict(r=20, b=10, l=10, t=10))\n",
    "fig.show()"
   ]
  },
  {
   "cell_type": "code",
   "execution_count": 114,
   "metadata": {},
   "outputs": [],
   "source": [
    "import scipy"
   ]
  },
  {
   "cell_type": "code",
   "execution_count": 116,
   "metadata": {
    "scrolled": true
   },
   "outputs": [
    {
     "data": {
      "text/plain": [
       "(26, 12)"
      ]
     },
     "execution_count": 116,
     "metadata": {},
     "output_type": "execute_result"
    }
   ],
   "source": [
    "emb.shape"
   ]
  },
  {
   "cell_type": "code",
   "execution_count": 153,
   "metadata": {},
   "outputs": [
    {
     "data": {
      "text/plain": [
       "0.0"
      ]
     },
     "execution_count": 153,
     "metadata": {},
     "output_type": "execute_result"
    }
   ],
   "source": [
    "scipy.spatial.distance.cosine(emb[0,:],emb[0,:])"
   ]
  },
  {
   "cell_type": "code",
   "execution_count": 121,
   "metadata": {},
   "outputs": [
    {
     "data": {
      "text/plain": [
       "(215917, 512)"
      ]
     },
     "execution_count": 121,
     "metadata": {},
     "output_type": "execute_result"
    }
   ],
   "source": [
    "X.shape"
   ]
  },
  {
   "cell_type": "code",
   "execution_count": 125,
   "metadata": {},
   "outputs": [
    {
     "data": {
      "text/plain": [
       "array([ 0.01369827,  0.09290116, -0.21902865,  0.6512373 , -0.17648032,\n",
       "        0.04461827,  0.29898632,  0.2374944 ,  0.49058178, -0.4821217 ,\n",
       "        0.17068154,  0.25401416], dtype=float32)"
      ]
     },
     "execution_count": 125,
     "metadata": {},
     "output_type": "execute_result"
    }
   ],
   "source": [
    "emb[25,:]"
   ]
  },
  {
   "cell_type": "code",
   "execution_count": 146,
   "metadata": {},
   "outputs": [],
   "source": [
    "results = np.zeros((25,25))\n",
    "for i in range(0,25):\n",
    "    for j in range(i,25):\n",
    "        results[i,j] = np.round(scipy.spatial.distance.cosine(emb[i,:],emb[j,:]),1)\n"
   ]
  },
  {
   "cell_type": "code",
   "execution_count": 152,
   "metadata": {},
   "outputs": [
    {
     "data": {
      "image/png": "[encoded data removed]",
      "text/plain": [
       "<Figure size 1008x1008 with 2 Axes>"
      ]
     },
     "metadata": {
      "needs_background": "light"
     },
     "output_type": "display_data"
    }
   ],
   "source": [
    "plt.figure(figsize=(14,14))\n",
    "sns.heatmap(results, annot=True)\n",
    "tick_marks = np.arange(len(results))\n",
    "plt.xticks(tick_marks, list(tokenizer.word_index.keys()), rotation=90)\n",
    "plt.yticks(tick_marks, list(tokenizer.word_index.keys()),rotation=0)\n",
    "plt.xlabel('Amino_Acid')\n",
    "plt.ylabel('Amino_Acid')\n",
    "plt.show()"
   ]
  },
  {
   "cell_type": "code",
   "execution_count": 133,
   "metadata": {},
   "outputs": [
    {
     "data": {
      "text/plain": [
       "25"
      ]
     },
     "execution_count": 133,
     "metadata": {},
     "output_type": "execute_result"
    }
   ],
   "source": [
    "len(results)"
   ]
  },
  {
   "cell_type": "code",
   "execution_count": null,
   "metadata": {},
   "outputs": [],
   "source": []
  }
 ],
 "metadata": {
  "kernelspec": {
   "display_name": "Python 3",
   "language": "python",
   "name": "python3"
  },
  "language_info": {
   "codemirror_mode": {
    "name": "ipython",
    "version": 3
   },
   "file_extension": ".py",
   "mimetype": "text/x-python",
   "name": "python",
   "nbconvert_exporter": "python",
   "pygments_lexer": "ipython3",
   "version": "3.7.3"
  }
 },
 "nbformat": 4,
 "nbformat_minor": 4
}
