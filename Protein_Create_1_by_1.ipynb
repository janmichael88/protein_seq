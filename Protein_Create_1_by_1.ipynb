{
 "cells": [
  {
   "cell_type": "code",
   "execution_count": 0,
   "metadata": {
    "colab": {},
    "colab_type": "code",
    "id": "pXAg5q4GjC2p"
   },
   "outputs": [],
   "source": [
    "## Run before using notebook\n",
    "!pip install tensorflow==1.14.0"
   ]
  },
  {
   "cell_type": "markdown",
   "metadata": {
    "colab_type": "text",
    "id": "_mW0-0R_jw1y"
   },
   "source": [
    "### Introduction\n",
    "* We will be using a neural network to have it predict the next amino acid in the sequence\n",
    "* We will first train a vanilla RNN that takes in a certain sequence of amino acids and predict the next one. We will train this to completion, using a sliding window of a certin length\n",
    "* Once trained, have it create a certain amino acid by feeding a a truncated sequence\n",
    "* Test to to have it complete\n",
    "* Use protein similarity matrix to see the differences "
   ]
  },
  {
   "cell_type": "markdown",
   "metadata": {
    "colab_type": "text",
    "id": "rZQ7Xd46lBhS"
   },
   "source": [
    "### Load in proteins csv"
   ]
  },
  {
   "cell_type": "code",
   "execution_count": 1,
   "metadata": {
    "colab": {},
    "colab_type": "code",
    "id": "KayLyGJvkLoQ"
   },
   "outputs": [],
   "source": [
    "import pandas as pd\n",
    "import matplotlib.pyplot as plt\n",
    "import numpy as np"
   ]
  },
  {
   "cell_type": "code",
   "execution_count": 2,
   "metadata": {
    "colab": {},
    "colab_type": "code",
    "id": "h4IdjOYAlE4O"
   },
   "outputs": [],
   "source": [
    "proteins = pd.read_csv(\"proteins_cleaned.csv\")"
   ]
  },
  {
   "cell_type": "code",
   "execution_count": 3,
   "metadata": {
    "colab": {
     "base_uri": "https://localhost:8080/",
     "height": 479
    },
    "colab_type": "code",
    "id": "ZGxstHx-lOfb",
    "outputId": "331ab1c7-6030-4f21-d90f-8fdc5322a63c"
   },
   "outputs": [
    {
     "data": {
      "text/html": [
       "<div>\n",
       "<style scoped>\n",
       "    .dataframe tbody tr th:only-of-type {\n",
       "        vertical-align: middle;\n",
       "    }\n",
       "\n",
       "    .dataframe tbody tr th {\n",
       "        vertical-align: top;\n",
       "    }\n",
       "\n",
       "    .dataframe thead th {\n",
       "        text-align: right;\n",
       "    }\n",
       "</style>\n",
       "<table border=\"1\" class=\"dataframe\">\n",
       "  <thead>\n",
       "    <tr style=\"text-align: right;\">\n",
       "      <th></th>\n",
       "      <th>Unnamed: 0</th>\n",
       "      <th>index</th>\n",
       "      <th>structureId</th>\n",
       "      <th>chainId</th>\n",
       "      <th>sequence</th>\n",
       "      <th>residueCount</th>\n",
       "      <th>macromoleculeType</th>\n",
       "      <th>classification</th>\n",
       "      <th>experimentalTechnique</th>\n",
       "      <th>resolution</th>\n",
       "      <th>structureMolecularWeight</th>\n",
       "      <th>crystallizationMethod</th>\n",
       "      <th>crystallizationTempK</th>\n",
       "      <th>densityMatthews</th>\n",
       "      <th>densityPercentSol</th>\n",
       "      <th>pdbxDetails</th>\n",
       "      <th>phValue</th>\n",
       "      <th>publicationYear</th>\n",
       "      <th>num_residues</th>\n",
       "    </tr>\n",
       "  </thead>\n",
       "  <tbody>\n",
       "    <tr>\n",
       "      <th>0</th>\n",
       "      <td>0</td>\n",
       "      <td>4</td>\n",
       "      <td>101M</td>\n",
       "      <td>A</td>\n",
       "      <td>MVLSEGEWQLVLHVWAKVEADVAGHGQDILIRLFKSHPETLEKFDR...</td>\n",
       "      <td>154</td>\n",
       "      <td>Protein</td>\n",
       "      <td>OXYGEN TRANSPORT</td>\n",
       "      <td>X-RAY DIFFRACTION</td>\n",
       "      <td>2.07</td>\n",
       "      <td>18112.80</td>\n",
       "      <td>NaN</td>\n",
       "      <td>NaN</td>\n",
       "      <td>3.09</td>\n",
       "      <td>60.20</td>\n",
       "      <td>3.0 M AMMONIUM SULFATE, 20 MM TRIS, 1MM EDTA, ...</td>\n",
       "      <td>9.0</td>\n",
       "      <td>1999.0</td>\n",
       "      <td>154</td>\n",
       "    </tr>\n",
       "    <tr>\n",
       "      <th>1</th>\n",
       "      <td>1</td>\n",
       "      <td>7</td>\n",
       "      <td>102L</td>\n",
       "      <td>A</td>\n",
       "      <td>MNIFEMLRIDEGLRLKIYKDTEGYYTIGIGHLLTKSPSLNAAAKSE...</td>\n",
       "      <td>165</td>\n",
       "      <td>Protein</td>\n",
       "      <td>HYDROLASE(O-GLYCOSYL)</td>\n",
       "      <td>X-RAY DIFFRACTION</td>\n",
       "      <td>1.74</td>\n",
       "      <td>18926.61</td>\n",
       "      <td>NaN</td>\n",
       "      <td>NaN</td>\n",
       "      <td>2.75</td>\n",
       "      <td>55.28</td>\n",
       "      <td>NaN</td>\n",
       "      <td>NaN</td>\n",
       "      <td>1993.0</td>\n",
       "      <td>165</td>\n",
       "    </tr>\n",
       "    <tr>\n",
       "      <th>2</th>\n",
       "      <td>2</td>\n",
       "      <td>8</td>\n",
       "      <td>102M</td>\n",
       "      <td>A</td>\n",
       "      <td>MVLSEGEWQLVLHVWAKVEADVAGHGQDILIRLFKSHPETLEKFDR...</td>\n",
       "      <td>154</td>\n",
       "      <td>Protein</td>\n",
       "      <td>OXYGEN TRANSPORT</td>\n",
       "      <td>X-RAY DIFFRACTION</td>\n",
       "      <td>1.84</td>\n",
       "      <td>18010.64</td>\n",
       "      <td>NaN</td>\n",
       "      <td>NaN</td>\n",
       "      <td>3.09</td>\n",
       "      <td>60.20</td>\n",
       "      <td>3.0 M AMMONIUM SULFATE, 20 MM TRIS, 1MM EDTA, ...</td>\n",
       "      <td>9.0</td>\n",
       "      <td>1999.0</td>\n",
       "      <td>154</td>\n",
       "    </tr>\n",
       "    <tr>\n",
       "      <th>3</th>\n",
       "      <td>3</td>\n",
       "      <td>11</td>\n",
       "      <td>103L</td>\n",
       "      <td>A</td>\n",
       "      <td>MNIFEMLRIDEGLRLKIYKDTEGYYTIGIGHLLTKSPSLNSLDAAK...</td>\n",
       "      <td>167</td>\n",
       "      <td>Protein</td>\n",
       "      <td>HYDROLASE(O-GLYCOSYL)</td>\n",
       "      <td>X-RAY DIFFRACTION</td>\n",
       "      <td>1.90</td>\n",
       "      <td>19092.72</td>\n",
       "      <td>NaN</td>\n",
       "      <td>NaN</td>\n",
       "      <td>2.70</td>\n",
       "      <td>54.46</td>\n",
       "      <td>NaN</td>\n",
       "      <td>NaN</td>\n",
       "      <td>1993.0</td>\n",
       "      <td>167</td>\n",
       "    </tr>\n",
       "    <tr>\n",
       "      <th>4</th>\n",
       "      <td>4</td>\n",
       "      <td>12</td>\n",
       "      <td>103M</td>\n",
       "      <td>A</td>\n",
       "      <td>MVLSEGEWQLVLHVWAKVEADVAGHGQDILIRLFKSHPETLEKFDR...</td>\n",
       "      <td>154</td>\n",
       "      <td>Protein</td>\n",
       "      <td>OXYGEN TRANSPORT</td>\n",
       "      <td>X-RAY DIFFRACTION</td>\n",
       "      <td>2.07</td>\n",
       "      <td>18093.78</td>\n",
       "      <td>NaN</td>\n",
       "      <td>NaN</td>\n",
       "      <td>3.09</td>\n",
       "      <td>60.30</td>\n",
       "      <td>3.0 M AMMONIUM SULFATE, 20 MM TRIS, 1MM EDTA, ...</td>\n",
       "      <td>9.0</td>\n",
       "      <td>1999.0</td>\n",
       "      <td>154</td>\n",
       "    </tr>\n",
       "  </tbody>\n",
       "</table>\n",
       "</div>"
      ],
      "text/plain": [
       "   Unnamed: 0  index structureId chainId  \\\n",
       "0           0      4        101M       A   \n",
       "1           1      7        102L       A   \n",
       "2           2      8        102M       A   \n",
       "3           3     11        103L       A   \n",
       "4           4     12        103M       A   \n",
       "\n",
       "                                            sequence  residueCount  \\\n",
       "0  MVLSEGEWQLVLHVWAKVEADVAGHGQDILIRLFKSHPETLEKFDR...           154   \n",
       "1  MNIFEMLRIDEGLRLKIYKDTEGYYTIGIGHLLTKSPSLNAAAKSE...           165   \n",
       "2  MVLSEGEWQLVLHVWAKVEADVAGHGQDILIRLFKSHPETLEKFDR...           154   \n",
       "3  MNIFEMLRIDEGLRLKIYKDTEGYYTIGIGHLLTKSPSLNSLDAAK...           167   \n",
       "4  MVLSEGEWQLVLHVWAKVEADVAGHGQDILIRLFKSHPETLEKFDR...           154   \n",
       "\n",
       "  macromoleculeType         classification experimentalTechnique  resolution  \\\n",
       "0           Protein       OXYGEN TRANSPORT     X-RAY DIFFRACTION        2.07   \n",
       "1           Protein  HYDROLASE(O-GLYCOSYL)     X-RAY DIFFRACTION        1.74   \n",
       "2           Protein       OXYGEN TRANSPORT     X-RAY DIFFRACTION        1.84   \n",
       "3           Protein  HYDROLASE(O-GLYCOSYL)     X-RAY DIFFRACTION        1.90   \n",
       "4           Protein       OXYGEN TRANSPORT     X-RAY DIFFRACTION        2.07   \n",
       "\n",
       "   structureMolecularWeight crystallizationMethod  crystallizationTempK  \\\n",
       "0                  18112.80                   NaN                   NaN   \n",
       "1                  18926.61                   NaN                   NaN   \n",
       "2                  18010.64                   NaN                   NaN   \n",
       "3                  19092.72                   NaN                   NaN   \n",
       "4                  18093.78                   NaN                   NaN   \n",
       "\n",
       "   densityMatthews  densityPercentSol  \\\n",
       "0             3.09              60.20   \n",
       "1             2.75              55.28   \n",
       "2             3.09              60.20   \n",
       "3             2.70              54.46   \n",
       "4             3.09              60.30   \n",
       "\n",
       "                                         pdbxDetails  phValue  \\\n",
       "0  3.0 M AMMONIUM SULFATE, 20 MM TRIS, 1MM EDTA, ...      9.0   \n",
       "1                                                NaN      NaN   \n",
       "2  3.0 M AMMONIUM SULFATE, 20 MM TRIS, 1MM EDTA, ...      9.0   \n",
       "3                                                NaN      NaN   \n",
       "4  3.0 M AMMONIUM SULFATE, 20 MM TRIS, 1MM EDTA, ...      9.0   \n",
       "\n",
       "   publicationYear  num_residues  \n",
       "0           1999.0           154  \n",
       "1           1993.0           165  \n",
       "2           1999.0           154  \n",
       "3           1993.0           167  \n",
       "4           1999.0           154  "
      ]
     },
     "execution_count": 3,
     "metadata": {},
     "output_type": "execute_result"
    }
   ],
   "source": [
    "proteins.head()"
   ]
  },
  {
   "cell_type": "code",
   "execution_count": 4,
   "metadata": {
    "colab": {},
    "colab_type": "code",
    "id": "3OwmOsFKlh45"
   },
   "outputs": [],
   "source": [
    "#grab only the necessary columns to save on space\n",
    "proteins = proteins[['residueCount','sequence','macromoleculeType','classification']]"
   ]
  },
  {
   "cell_type": "code",
   "execution_count": 5,
   "metadata": {
    "colab": {
     "base_uri": "https://localhost:8080/",
     "height": 34
    },
    "colab_type": "code",
    "id": "vNamlX-qlRIa",
    "outputId": "2af48f16-cce1-4612-ad3e-8697d48f63f8"
   },
   "outputs": [
    {
     "data": {
      "text/plain": [
       "(346321, 4)"
      ]
     },
     "execution_count": 5,
     "metadata": {},
     "output_type": "execute_result"
    }
   ],
   "source": [
    "proteins.shape"
   ]
  },
  {
   "cell_type": "markdown",
   "metadata": {
    "colab_type": "text",
    "id": "qDNWU_g_mO_c"
   },
   "source": [
    "Because there are so many proteins, let's see if we can do this with just one class of proteins first. Test the efficacy of the model by and see if it can recreate a protein by inputing a certain length of amino acids\n",
    "* Don't chose a class of proteins with too many samples, it takes up too much memory\n",
    "* Scale down 10 times\n",
    "* Chose class with around 4000 or so samples "
   ]
  },
  {
   "cell_type": "code",
   "execution_count": 6,
   "metadata": {
    "colab": {
     "base_uri": "https://localhost:8080/",
     "height": 221
    },
    "colab_type": "code",
    "id": "NvvZoDVfmN4V",
    "outputId": "4adb5611-c9f6-4ee4-eed2-bdf808c42140"
   },
   "outputs": [
    {
     "data": {
      "text/plain": [
       "LIGASE                             4964\n",
       "MEMBRANE PROTEIN                   4891\n",
       "PROTEIN BINDING                    4884\n",
       "STRUCTURAL PROTEIN                 4335\n",
       "CHAPERONE                          4156\n",
       "                                   ... \n",
       "PROTEIN BINDING,METAL TRANSPORT       1\n",
       "SIGNALING PROTEIN, TRANSLATION        1\n",
       "INTEIN                                1\n",
       "OXYGEN TRANSPORT,OXIDOREDUCTASE       1\n",
       "LIGASE/Reaction intermediate          1\n",
       "Name: classification, Length: 4456, dtype: int64"
      ]
     },
     "execution_count": 6,
     "metadata": {},
     "output_type": "execute_result"
    }
   ],
   "source": [
    "proteins['classification'].value_counts()[proteins['classification'].value_counts() < 5000]"
   ]
  },
  {
   "cell_type": "code",
   "execution_count": 7,
   "metadata": {
    "colab": {},
    "colab_type": "code",
    "id": "6YkOpnFYl1GT"
   },
   "outputs": [],
   "source": [
    "#subset HYDROLASE\n",
    "proteins = proteins[proteins['classification'] == 'MEMBRANE PROTEIN']"
   ]
  },
  {
   "cell_type": "code",
   "execution_count": 8,
   "metadata": {
    "colab": {
     "base_uri": "https://localhost:8080/",
     "height": 34
    },
    "colab_type": "code",
    "id": "3pbuXxc8m_Ik",
    "outputId": "f894d181-05ff-4488-8558-9b62727f8716"
   },
   "outputs": [
    {
     "data": {
      "text/plain": [
       "(4891, 4)"
      ]
     },
     "execution_count": 8,
     "metadata": {},
     "output_type": "execute_result"
    }
   ],
   "source": [
    "proteins.shape"
   ]
  },
  {
   "cell_type": "code",
   "execution_count": 9,
   "metadata": {
    "colab": {
     "base_uri": "https://localhost:8080/",
     "height": 265
    },
    "colab_type": "code",
    "id": "gE8BSVfznEuW",
    "outputId": "04f7a55d-d323-4aa3-f444-0de428e3a1b4"
   },
   "outputs": [
    {
     "data": {
      "image/png": "[encoded data removed]",
      "text/plain": [
       "<Figure size 432x288 with 1 Axes>"
      ]
     },
     "metadata": {
      "needs_background": "light"
     },
     "output_type": "display_data"
    }
   ],
   "source": [
    "plt.hist(proteins['residueCount'],bins=100)\n",
    "plt.show()"
   ]
  },
  {
   "cell_type": "code",
   "execution_count": 10,
   "metadata": {
    "colab": {
     "base_uri": "https://localhost:8080/",
     "height": 34
    },
    "colab_type": "code",
    "id": "XzdXeEuQn2OA",
    "outputId": "22a46935-8a1a-4617-9d5a-a26b8a4c80ef"
   },
   "outputs": [
    {
     "data": {
      "text/plain": [
       "9"
      ]
     },
     "execution_count": 10,
     "metadata": {},
     "output_type": "execute_result"
    }
   ],
   "source": [
    "proteins['residueCount'].min()"
   ]
  },
  {
   "cell_type": "code",
   "execution_count": 11,
   "metadata": {
    "colab": {
     "base_uri": "https://localhost:8080/",
     "height": 34
    },
    "colab_type": "code",
    "id": "qt4WRtAUoBQE",
    "outputId": "70627560-3c57-4692-c63f-fb7fa7ef7419"
   },
   "outputs": [
    {
     "data": {
      "text/plain": [
       "4754"
      ]
     },
     "execution_count": 11,
     "metadata": {},
     "output_type": "execute_result"
    }
   ],
   "source": [
    "sum(proteins['residueCount'] > 70)"
   ]
  },
  {
   "cell_type": "markdown",
   "metadata": {
    "colab_type": "text",
    "id": "bBsJco4KofC0"
   },
   "source": [
    "Starting off, we will set the sliding window to 70 first, we need to subset the dataset so that we only get proteins greater than length 70"
   ]
  },
  {
   "cell_type": "code",
   "execution_count": 12,
   "metadata": {
    "colab": {
     "base_uri": "https://localhost:8080/",
     "height": 34
    },
    "colab_type": "code",
    "id": "bRQXg56Zodld",
    "outputId": "82d86827-e743-4e9a-d13a-4909c96bf609"
   },
   "outputs": [
    {
     "data": {
      "text/plain": [
       "(4754, 4)"
      ]
     },
     "execution_count": 12,
     "metadata": {},
     "output_type": "execute_result"
    }
   ],
   "source": [
    "proteins = proteins[proteins['residueCount'] > 70]\n",
    "proteins.shape"
   ]
  },
  {
   "cell_type": "code",
   "execution_count": 13,
   "metadata": {
    "colab": {
     "base_uri": "https://localhost:8080/",
     "height": 34
    },
    "colab_type": "code",
    "id": "WXqW225m0L7v",
    "outputId": "6c144a06-6a5c-4e92-8ef1-495d2109d539"
   },
   "outputs": [
    {
     "data": {
      "text/plain": [
       "558"
      ]
     },
     "execution_count": 13,
     "metadata": {},
     "output_type": "execute_result"
    }
   ],
   "source": [
    "sum(proteins['residueCount'] > 8192)"
   ]
  },
  {
   "cell_type": "markdown",
   "metadata": {
    "colab_type": "text",
    "id": "dxYZUbcvo8WU"
   },
   "source": [
    "### Vectorization\n",
    "\n",
    "* For each protein, create a window of length 70.\n",
    "* Have it predict 70 + 1'th acid\n",
    "* Slide window across entire length of amino acid\n",
    "* return letters\n",
    "* Define this as a function\n",
    "* Start with letters first then pull vectorize with dictionary update\n",
    "* Use sklearn count vectorizer than apply rolling window to it\n",
    "* Start with 512 as the max length, will lose some stuff though\n"
   ]
  },
  {
   "cell_type": "code",
   "execution_count": 15,
   "metadata": {
    "colab": {},
    "colab_type": "code",
    "id": "x_4T7FXbyQQO"
   },
   "outputs": [],
   "source": [
    "from keras.preprocessing import text, sequence\n",
    "from keras.preprocessing.text import Tokenizer\n",
    "from sklearn.model_selection import train_test_split\n",
    "\n",
    "# maximum length of sequence, everything afterwards is discarded!\n",
    "max_length = 256\n",
    "\n",
    "#create and fit tokenizer\n",
    "tokenizer = Tokenizer(char_level=True)\n",
    "tokenizer.fit_on_texts(proteins['sequence'])\n",
    "#represent input data as word rank number sequences\n",
    "X = tokenizer.texts_to_sequences(proteins['sequence'])\n",
    "X = sequence.pad_sequences(X, maxlen=max_length,padding='post')"
   ]
  },
  {
   "cell_type": "code",
   "execution_count": 16,
   "metadata": {
    "colab": {
     "base_uri": "https://localhost:8080/",
     "height": 34
    },
    "colab_type": "code",
    "id": "rZBdYHuLz3eo",
    "outputId": "95099c91-a738-4dde-a726-31314a57527f"
   },
   "outputs": [
    {
     "data": {
      "text/plain": [
       "(4754, 256)"
      ]
     },
     "execution_count": 16,
     "metadata": {},
     "output_type": "execute_result"
    }
   ],
   "source": [
    "X.shape"
   ]
  },
  {
   "cell_type": "code",
   "execution_count": 17,
   "metadata": {
    "colab": {},
    "colab_type": "code",
    "id": "gBV5WdXuaSEL"
   },
   "outputs": [],
   "source": [
    "max_len = 70\n",
    "#skip over 4\n",
    "#step = 4"
   ]
  },
  {
   "cell_type": "code",
   "execution_count": 18,
   "metadata": {
    "colab": {
     "base_uri": "https://localhost:8080/",
     "height": 289
    },
    "colab_type": "code",
    "id": "EJXeQtGwygyh",
    "outputId": "02eb15d4-734b-4dd9-eb2c-5e8d33664021"
   },
   "outputs": [
    {
     "data": {
      "text/plain": [
       "array([17,  8, 13,  1, 13, 17,  9,  1,  1, 15, 17,  2,  2,  2,  4, 17, 17,\n",
       "        3,  1,  2,  2,  6,  3,  2,  2,  6,  3,  6,  3,  6,  1,  3,  3, 10,\n",
       "       11,  1,  8,  3,  2,  2, 12, 16, 14,  9,  1,  6, 14,  1,  1, 12,  7,\n",
       "       16, 11, 11,  6,  4, 17,  3,  1,  4,  9,  2,  6, 14, 17,  6,  2,  4,\n",
       "        3,  1,  3,  1, 15,  4, 17, 11,  2,  4,  2,  0,  0,  0,  0,  0,  0,\n",
       "        0,  0,  0,  0,  0,  0,  0,  0,  0,  0,  0,  0,  0,  0,  0,  0,  0,\n",
       "        0,  0,  0,  0,  0,  0,  0,  0,  0,  0,  0,  0,  0,  0,  0,  0,  0,\n",
       "        0,  0,  0,  0,  0,  0,  0,  0,  0,  0,  0,  0,  0,  0,  0,  0,  0,\n",
       "        0,  0,  0,  0,  0,  0,  0,  0,  0,  0,  0,  0,  0,  0,  0,  0,  0,\n",
       "        0,  0,  0,  0,  0,  0,  0,  0,  0,  0,  0,  0,  0,  0,  0,  0,  0,\n",
       "        0,  0,  0,  0,  0,  0,  0,  0,  0,  0,  0,  0,  0,  0,  0,  0,  0,\n",
       "        0,  0,  0,  0,  0,  0,  0,  0,  0,  0,  0,  0,  0,  0,  0,  0,  0,\n",
       "        0,  0,  0,  0,  0,  0,  0,  0,  0,  0,  0,  0,  0,  0,  0,  0,  0,\n",
       "        0,  0,  0,  0,  0,  0,  0,  0,  0,  0,  0,  0,  0,  0,  0,  0,  0,\n",
       "        0,  0,  0,  0,  0,  0,  0,  0,  0,  0,  0,  0,  0,  0,  0,  0,  0,\n",
       "        0], dtype=int32)"
      ]
     },
     "execution_count": 18,
     "metadata": {},
     "output_type": "execute_result"
    }
   ],
   "source": [
    "X[0]"
   ]
  },
  {
   "cell_type": "code",
   "execution_count": 19,
   "metadata": {
    "colab": {
     "base_uri": "https://localhost:8080/",
     "height": 34
    },
    "colab_type": "code",
    "id": "1He4AIEy3mMJ",
    "outputId": "b09e8551-8534-4d82-b858-7bd0fdf86832"
   },
   "outputs": [
    {
     "data": {
      "text/plain": [
       "0.000725530915432032"
      ]
     },
     "execution_count": 19,
     "metadata": {},
     "output_type": "execute_result"
    }
   ],
   "source": [
    "#check sparsity\n",
    "sum(sum(X == 0)) / (46235*8192)"
   ]
  },
  {
   "cell_type": "code",
   "execution_count": 20,
   "metadata": {
    "colab": {
     "base_uri": "https://localhost:8080/",
     "height": 102
    },
    "colab_type": "code",
    "id": "V3USCcbyo7Bm",
    "outputId": "7ea3b6a3-6305-4aee-ffeb-633ec2e3ded3"
   },
   "outputs": [
    {
     "data": {
      "text/plain": [
       "array([17,  8, 13,  1, 13, 17,  9,  1,  1, 15, 17,  2,  2,  2,  4, 17, 17,\n",
       "        3,  1,  2,  2,  6,  3,  2,  2,  6,  3,  6,  3,  6,  1,  3,  3, 10,\n",
       "       11,  1,  8,  3,  2,  2, 12, 16, 14,  9,  1,  6, 14,  1,  1, 12,  7,\n",
       "       16, 11, 11,  6,  4, 17,  3,  1,  4,  9,  2,  6, 14, 17,  6,  2,  4,\n",
       "        3,  1], dtype=int32)"
      ]
     },
     "execution_count": 20,
     "metadata": {},
     "output_type": "execute_result"
    }
   ],
   "source": [
    "X[0,0:70]"
   ]
  },
  {
   "cell_type": "markdown",
   "metadata": {
    "colab_type": "text",
    "id": "F4EuXLW04oyL"
   },
   "source": [
    "### Creating  X and Y\n",
    "* will have 3 dimensions (len(all_samples), max_len, len(boolean_chars))\n",
    "* Or each element in the tensor X will be a matrix, each matrix will have the number of columns equaling the number of times the window fits into the sequence, and the number of rows will be equal to the len of the tokenzier, and the position in the row will indicate what the amino acid is\n",
    "* the Y will be the sequence after that window again as a boolen"
   ]
  },
  {
   "cell_type": "code",
   "execution_count": 21,
   "metadata": {
    "colab": {
     "base_uri": "https://localhost:8080/",
     "height": 374
    },
    "colab_type": "code",
    "id": "iwt5YkY8oOjl",
    "outputId": "f9a989fb-d31a-4ba7-8d1c-392b6302a685"
   },
   "outputs": [
    {
     "data": {
      "text/plain": [
       "{'l': 1,\n",
       " 'a': 2,\n",
       " 'g': 3,\n",
       " 'v': 4,\n",
       " 's': 5,\n",
       " 'i': 6,\n",
       " 't': 7,\n",
       " 'e': 8,\n",
       " 'd': 9,\n",
       " 'k': 10,\n",
       " 'f': 11,\n",
       " 'r': 12,\n",
       " 'n': 13,\n",
       " 'p': 14,\n",
       " 'y': 15,\n",
       " 'q': 16,\n",
       " 'm': 17,\n",
       " 'h': 18,\n",
       " 'w': 19,\n",
       " 'x': 20,\n",
       " 'c': 21}"
      ]
     },
     "execution_count": 21,
     "metadata": {},
     "output_type": "execute_result"
    }
   ],
   "source": [
    "tokenizer.word_index"
   ]
  },
  {
   "cell_type": "code",
   "execution_count": 22,
   "metadata": {
    "colab": {
     "base_uri": "https://localhost:8080/",
     "height": 34
    },
    "colab_type": "code",
    "id": "emtFTDqr6KOy",
    "outputId": "5b4754ac-1d1f-4324-95ab-9001c84305c1"
   },
   "outputs": [
    {
     "data": {
      "text/plain": [
       "21"
      ]
     },
     "execution_count": 22,
     "metadata": {},
     "output_type": "execute_result"
    }
   ],
   "source": [
    "len(tokenizer.word_index)"
   ]
  },
  {
   "cell_type": "markdown",
   "metadata": {
    "colab_type": "text",
    "id": "uPVonN7K9hog"
   },
   "source": [
    "Create a matrix first of one X and a vector of 1 y"
   ]
  },
  {
   "cell_type": "code",
   "execution_count": 23,
   "metadata": {
    "colab": {
     "base_uri": "https://localhost:8080/",
     "height": 289
    },
    "colab_type": "code",
    "id": "Eii2UEnq9soD",
    "outputId": "9d788411-72e5-4423-d829-4f87e3f04768"
   },
   "outputs": [
    {
     "data": {
      "text/plain": [
       "array([17,  8, 13,  1, 13, 17,  9,  1,  1, 15, 17,  2,  2,  2,  4, 17, 17,\n",
       "        3,  1,  2,  2,  6,  3,  2,  2,  6,  3,  6,  3,  6,  1,  3,  3, 10,\n",
       "       11,  1,  8,  3,  2,  2, 12, 16, 14,  9,  1,  6, 14,  1,  1, 12,  7,\n",
       "       16, 11, 11,  6,  4, 17,  3,  1,  4,  9,  2,  6, 14, 17,  6,  2,  4,\n",
       "        3,  1,  3,  1, 15,  4, 17, 11,  2,  4,  2,  0,  0,  0,  0,  0,  0,\n",
       "        0,  0,  0,  0,  0,  0,  0,  0,  0,  0,  0,  0,  0,  0,  0,  0,  0,\n",
       "        0,  0,  0,  0,  0,  0,  0,  0,  0,  0,  0,  0,  0,  0,  0,  0,  0,\n",
       "        0,  0,  0,  0,  0,  0,  0,  0,  0,  0,  0,  0,  0,  0,  0,  0,  0,\n",
       "        0,  0,  0,  0,  0,  0,  0,  0,  0,  0,  0,  0,  0,  0,  0,  0,  0,\n",
       "        0,  0,  0,  0,  0,  0,  0,  0,  0,  0,  0,  0,  0,  0,  0,  0,  0,\n",
       "        0,  0,  0,  0,  0,  0,  0,  0,  0,  0,  0,  0,  0,  0,  0,  0,  0,\n",
       "        0,  0,  0,  0,  0,  0,  0,  0,  0,  0,  0,  0,  0,  0,  0,  0,  0,\n",
       "        0,  0,  0,  0,  0,  0,  0,  0,  0,  0,  0,  0,  0,  0,  0,  0,  0,\n",
       "        0,  0,  0,  0,  0,  0,  0,  0,  0,  0,  0,  0,  0,  0,  0,  0,  0,\n",
       "        0,  0,  0,  0,  0,  0,  0,  0,  0,  0,  0,  0,  0,  0,  0,  0,  0,\n",
       "        0], dtype=int32)"
      ]
     },
     "execution_count": 23,
     "metadata": {},
     "output_type": "execute_result"
    }
   ],
   "source": [
    "test = X[0,:]\n",
    "test"
   ]
  },
  {
   "cell_type": "code",
   "execution_count": 24,
   "metadata": {
    "colab": {},
    "colab_type": "code",
    "id": "NuYjXar1tM0W"
   },
   "outputs": [],
   "source": [
    "#a sample will have three dimensions\n",
    "#dim 1 is the total number of windows possible across the sequence, the ith window\n",
    "#dim 2 is the actual lenght of the window, 70\n",
    "#dim 3 if the boolean index according to the tokenize\n",
    "#each ith window will be a matrix\n",
    "\n",
    "#for y will have one dimensions\n",
    "#dim 1 is the next character after the ith window\n",
    "\n",
    "#so a matrix will map to a vector\n",
    "xs_one_sample = np.zeros((len(test)-max_len,max_len,len(tokenizer.word_index)),dtype=np.bool)\n",
    "ys_to_array = np.zeros((len(test)-max_len,len(tokenizer.word_index)),dtype=np.bool)\n",
    "for i in range(0,len(test)-max_len):\n",
    "  #pull window\n",
    "  window = test[i:max_len]\n",
    "  #update xs_one_sample matrices and vectors\n",
    "  for j in range(0,len(window)-1):\n",
    "    xs_one_sample[i,j,window[j]-1] = 1\n",
    "  #pull next char \n",
    "  next_char = test[max_len+i]\n",
    "  ys_to_array[i,next_char-1] = 1"
   ]
  },
  {
   "cell_type": "code",
   "execution_count": 25,
   "metadata": {
    "colab": {
     "base_uri": "https://localhost:8080/",
     "height": 34
    },
    "colab_type": "code",
    "id": "FJ-gGxSZtcz-",
    "outputId": "ade5acf1-07bc-45ab-dfe7-5573383826d6"
   },
   "outputs": [
    {
     "data": {
      "text/plain": [
       "((186, 70, 21), (186, 21))"
      ]
     },
     "execution_count": 25,
     "metadata": {},
     "output_type": "execute_result"
    }
   ],
   "source": [
    "xs_one_sample.shape, ys_to_array.shape"
   ]
  },
  {
   "cell_type": "markdown",
   "metadata": {
    "colab_type": "text",
    "id": "rQ8HY7PyTBEx"
   },
   "source": [
    "Check sums to see if there were inputs"
   ]
  },
  {
   "cell_type": "code",
   "execution_count": 26,
   "metadata": {
    "colab": {
     "base_uri": "https://localhost:8080/",
     "height": 34
    },
    "colab_type": "code",
    "id": "WQbKLPBTtrAR",
    "outputId": "d331b343-c51f-44d9-c3be-32e0f6f35e8b"
   },
   "outputs": [
    {
     "data": {
      "text/plain": [
       "186"
      ]
     },
     "execution_count": 26,
     "metadata": {},
     "output_type": "execute_result"
    }
   ],
   "source": [
    "np.sum(ys_to_array)"
   ]
  },
  {
   "cell_type": "code",
   "execution_count": 27,
   "metadata": {
    "colab": {
     "base_uri": "https://localhost:8080/",
     "height": 68
    },
    "colab_type": "code",
    "id": "DxiCW1aYwq-K",
    "outputId": "d598dbdf-7001-4bc8-8893-8f2ad05cf7ae"
   },
   "outputs": [
    {
     "data": {
      "text/plain": [
       "array([False, False,  True, False, False, False, False, False, False,\n",
       "       False, False, False, False, False, False, False, False, False,\n",
       "       False, False, False])"
      ]
     },
     "execution_count": 27,
     "metadata": {},
     "output_type": "execute_result"
    }
   ],
   "source": [
    "ys_to_array[0]"
   ]
  },
  {
   "cell_type": "code",
   "execution_count": 28,
   "metadata": {
    "colab": {
     "base_uri": "https://localhost:8080/",
     "height": 34
    },
    "colab_type": "code",
    "id": "EzBPf5wk7wIz",
    "outputId": "a3cb41b1-9d98-48d8-b038-d5b9f671229b"
   },
   "outputs": [
    {
     "data": {
      "text/plain": [
       "69"
      ]
     },
     "execution_count": 28,
     "metadata": {},
     "output_type": "execute_result"
    }
   ],
   "source": [
    "np.sum(xs_one_sample[0,:,:])"
   ]
  },
  {
   "cell_type": "markdown",
   "metadata": {
    "colab_type": "text",
    "id": "WHi82XciTcZl"
   },
   "source": [
    "Wrap into a neat function to apply over all samples"
   ]
  },
  {
   "cell_type": "code",
   "execution_count": 29,
   "metadata": {
    "colab": {},
    "colab_type": "code",
    "id": "ZLXV5ZDRTaKt"
   },
   "outputs": [],
   "source": [
    "def create_x_y(sample,window_size,dict_amino_acids):\n",
    "  xs_one_sample = np.zeros((len(sample)-window_size,window_size,len(dict_amino_acids)),dtype=np.bool)\n",
    "  ys_to_array = np.zeros((len(sample)-window_size,len(dict_amino_acids)),dtype=np.bool)\n",
    "  for i in range(0,len(sample)-window_size):\n",
    "    #pull window\n",
    "    window = sample[i:window_size]\n",
    "    #update xs_one_sample matrices and vectors\n",
    "    for j in range(0,len(window)-1):\n",
    "      xs_one_sample[i,j,window[j]-1] = 1\n",
    "    #pull next char \n",
    "    next_char = sample[window_size+i]\n",
    "    ys_to_array[i,next_char-1] = 1\n",
    "  return(xs_one_sample,ys_to_array)"
   ]
  },
  {
   "cell_type": "code",
   "execution_count": 30,
   "metadata": {
    "colab": {},
    "colab_type": "code",
    "id": "hK2orclCTWDo"
   },
   "outputs": [],
   "source": [
    "xs_one_sample, ys_to_array = create_x_y(test, window_size=70, dict_amino_acids=tokenizer.word_index)"
   ]
  },
  {
   "cell_type": "code",
   "execution_count": 31,
   "metadata": {
    "colab": {
     "base_uri": "https://localhost:8080/",
     "height": 34
    },
    "colab_type": "code",
    "id": "5Jk8Wxi-U247",
    "outputId": "66dff91e-cff8-4a99-e22a-aa79f573a743"
   },
   "outputs": [
    {
     "data": {
      "text/plain": [
       "(186, 69)"
      ]
     },
     "execution_count": 31,
     "metadata": {},
     "output_type": "execute_result"
    }
   ],
   "source": [
    "#lets check them out\n",
    "np.sum(ys_to_array), np.sum(xs_one_sample[0,:,:])"
   ]
  },
  {
   "cell_type": "markdown",
   "metadata": {
    "colab_type": "text",
    "id": "ke63I9-cVNNz"
   },
   "source": [
    "Great! Now lets generate for all samples in our X"
   ]
  },
  {
   "cell_type": "code",
   "execution_count": 32,
   "metadata": {
    "colab": {},
    "colab_type": "code",
    "id": "vECRx1xyVAxE"
   },
   "outputs": [],
   "source": [
    "all_sample_xs = []\n",
    "all_y_matrices = []\n",
    "\n",
    "for i in range(0,len(X)-1):\n",
    "  a,b = create_x_y(sample = X[i,:],\n",
    "                   window_size = 70,\n",
    "                   dict_amino_acids = tokenizer.word_index\n",
    "                   )\n",
    "  #append\n",
    "  all_sample_xs.append(a)\n",
    "  all_y_matrices.append(b)"
   ]
  },
  {
   "cell_type": "code",
   "execution_count": 33,
   "metadata": {
    "colab": {
     "base_uri": "https://localhost:8080/",
     "height": 34
    },
    "colab_type": "code",
    "id": "LHPiasAxVW9p",
    "outputId": "9a2ebdb3-09ad-4396-a085-c80568f35286"
   },
   "outputs": [
    {
     "data": {
      "text/plain": [
       "(4754, 256)"
      ]
     },
     "execution_count": 33,
     "metadata": {},
     "output_type": "execute_result"
    }
   ],
   "source": [
    "X.shape"
   ]
  },
  {
   "cell_type": "code",
   "execution_count": 34,
   "metadata": {
    "colab": {
     "base_uri": "https://localhost:8080/",
     "height": 34
    },
    "colab_type": "code",
    "id": "BhNmLlS8VZCo",
    "outputId": "ad9902b7-921b-4b06-9da5-3be49cec5b4b"
   },
   "outputs": [
    {
     "data": {
      "text/plain": [
       "(4753, 4753)"
      ]
     },
     "execution_count": 34,
     "metadata": {},
     "output_type": "execute_result"
    }
   ],
   "source": [
    "len(all_sample_xs),len(all_y_matrices)"
   ]
  },
  {
   "cell_type": "code",
   "execution_count": 35,
   "metadata": {
    "colab": {
     "base_uri": "https://localhost:8080/",
     "height": 34
    },
    "colab_type": "code",
    "id": "Kor0DbY4VmsB",
    "outputId": "e232bec5-4186-4e27-9c8e-ceea40b82de6"
   },
   "outputs": [
    {
     "data": {
      "text/plain": [
       "((186, 70, 21), (186, 21))"
      ]
     },
     "execution_count": 35,
     "metadata": {},
     "output_type": "execute_result"
    }
   ],
   "source": [
    "all_sample_xs[0].shape, all_y_matrices[0].shape"
   ]
  },
  {
   "cell_type": "code",
   "execution_count": 36,
   "metadata": {
    "colab": {
     "base_uri": "https://localhost:8080/",
     "height": 34
    },
    "colab_type": "code",
    "id": "jkyRnlTtWmTV",
    "outputId": "54c6b7af-5075-475a-e23e-80622c6f199f"
   },
   "outputs": [
    {
     "data": {
      "text/plain": [
       "186"
      ]
     },
     "execution_count": 36,
     "metadata": {},
     "output_type": "execute_result"
    }
   ],
   "source": [
    "all_y_matrices[0].sum()"
   ]
  },
  {
   "cell_type": "markdown",
   "metadata": {
    "colab_type": "text",
    "id": "TzlMMp0qmhat"
   },
   "source": [
    "Concat both lists along the major axis. This will be my X and my y"
   ]
  },
  {
   "cell_type": "code",
   "execution_count": 37,
   "metadata": {
    "colab": {
     "base_uri": "https://localhost:8080/",
     "height": 51
    },
    "colab_type": "code",
    "id": "marBFi5-YvyO",
    "outputId": "0449cf83-16fd-4945-a298-c8c1c08c5b8f"
   },
   "outputs": [
    {
     "name": "stdout",
     "output_type": "stream",
     "text": [
      "(884058, 70, 21)\n",
      "(884058, 21)\n"
     ]
    }
   ],
   "source": [
    "X = np.concatenate(all_sample_xs)\n",
    "print(X.shape)\n",
    "del(all_sample_xs)\n",
    "\n",
    "y = np.concatenate(all_y_matrices)\n",
    "print(y.shape)\n",
    "del(all_y_matrices)"
   ]
  },
  {
   "cell_type": "markdown",
   "metadata": {
    "colab_type": "text",
    "id": "Ll0fcQEDo68D"
   },
   "source": [
    "### Build Model\n",
    "* Use a vanilla LSTM model to learn to predict the next amino acid sequence\n",
    "* Train for a large enough number of epochs\n",
    "* Observe the usual loss metrics\n"
   ]
  },
  {
   "cell_type": "code",
   "execution_count": 39,
   "metadata": {
    "colab": {},
    "colab_type": "code",
    "id": "S9rfqKwko5ge"
   },
   "outputs": [],
   "source": [
    "import keras\n",
    "from keras import layers\n",
    "\n",
    "model = keras.models.Sequential()\n",
    "model.add(layers.LSTM(128, input_shape=(max_len, len(tokenizer.word_index))))\n",
    "model.add(layers.Dense(len(tokenizer.word_index), activation='softmax'))\n",
    "optimizer = keras.optimizers.RMSprop(lr=0.0001)\n",
    "model.compile(loss='categorical_crossentropy', \n",
    "              optimizer=optimizer,\n",
    "              metrics = ['accuracy'])"
   ]
  },
  {
   "cell_type": "markdown",
   "metadata": {
    "colab_type": "text",
    "id": "6l3u_O93sHYE"
   },
   "source": [
    "Don't forget to create a call backs and return the best model"
   ]
  },
  {
   "cell_type": "code",
   "execution_count": 40,
   "metadata": {
    "colab": {},
    "colab_type": "code",
    "id": "UgFbkpGAsbtp"
   },
   "outputs": [],
   "source": [
    "filepath = 'predict_one_seq_model_06Apr20.h5'\n",
    "from keras.callbacks import ModelCheckpoint\n",
    "\n",
    "checkpoint = ModelCheckpoint(filepath, monitor='val_acc', verbose=1, save_best_only=True, mode='max')\n",
    "callbacks_list = [checkpoint]"
   ]
  },
  {
   "cell_type": "code",
   "execution_count": 41,
   "metadata": {},
   "outputs": [
    {
     "name": "stdout",
     "output_type": "stream",
     "text": [
      "_________________________________________________________________\n",
      "Layer (type)                 Output Shape              Param #   \n",
      "=================================================================\n",
      "lstm_2 (LSTM)                (None, 128)               76800     \n",
      "_________________________________________________________________\n",
      "dense_2 (Dense)              (None, 21)                2709      \n",
      "=================================================================\n",
      "Total params: 79,509\n",
      "Trainable params: 79,509\n",
      "Non-trainable params: 0\n",
      "_________________________________________________________________\n"
     ]
    }
   ],
   "source": [
    "model.summary()"
   ]
  },
  {
   "cell_type": "code",
   "execution_count": null,
   "metadata": {
    "colab": {
     "base_uri": "https://localhost:8080/",
     "height": 1000
    },
    "colab_type": "code",
    "id": "JIGoCquHntmQ",
    "outputId": "51435e90-2120-4f09-ec02-394951920fe8"
   },
   "outputs": [
    {
     "name": "stdout",
     "output_type": "stream",
     "text": [
      "WARNING:tensorflow:From /anaconda3/lib/python3.7/site-packages/tensorflow_core/python/ops/math_grad.py:1424: where (from tensorflow.python.ops.array_ops) is deprecated and will be removed in a future version.\n",
      "Instructions for updating:\n",
      "Use tf.where in 2.0, which has the same broadcast rule as np.where\n",
      "WARNING:tensorflow:From /anaconda3/lib/python3.7/site-packages/keras/backend/tensorflow_backend.py:986: The name tf.assign_add is deprecated. Please use tf.compat.v1.assign_add instead.\n",
      "\n",
      "WARNING:tensorflow:From /anaconda3/lib/python3.7/site-packages/keras/backend/tensorflow_backend.py:973: The name tf.assign is deprecated. Please use tf.compat.v1.assign instead.\n",
      "\n",
      "WARNING:tensorflow:From /anaconda3/lib/python3.7/site-packages/keras/backend/tensorflow_backend.py:2741: The name tf.Session is deprecated. Please use tf.compat.v1.Session instead.\n",
      "\n",
      "Train on 751449 samples, validate on 132609 samples\n",
      "Epoch 1/300\n",
      "WARNING:tensorflow:From /anaconda3/lib/python3.7/site-packages/keras/backend/tensorflow_backend.py:174: The name tf.get_default_session is deprecated. Please use tf.compat.v1.get_default_session instead.\n",
      "\n",
      "WARNING:tensorflow:From /anaconda3/lib/python3.7/site-packages/keras/backend/tensorflow_backend.py:181: The name tf.ConfigProto is deprecated. Please use tf.compat.v1.ConfigProto instead.\n",
      "\n",
      "WARNING:tensorflow:From /anaconda3/lib/python3.7/site-packages/keras/backend/tensorflow_backend.py:190: The name tf.global_variables is deprecated. Please use tf.compat.v1.global_variables instead.\n",
      "\n",
      "WARNING:tensorflow:From /anaconda3/lib/python3.7/site-packages/keras/backend/tensorflow_backend.py:199: The name tf.is_variable_initialized is deprecated. Please use tf.compat.v1.is_variable_initialized instead.\n",
      "\n",
      "WARNING:tensorflow:From /anaconda3/lib/python3.7/site-packages/keras/backend/tensorflow_backend.py:206: The name tf.variables_initializer is deprecated. Please use tf.compat.v1.variables_initializer instead.\n",
      "\n",
      "149504/751449 [====>.........................] - ETA: 25:50 - loss: 2.5460 - acc: 0.3194"
     ]
    }
   ],
   "source": [
    "model.fit(X, y, \n",
    "          validation_split=0.15, \n",
    "          epochs=300, \n",
    "          batch_size=128, \n",
    "          callbacks=callbacks_list)\n",
    "\n",
    "#save file\n",
    "training_path = 'predict_one_seq_model_06Apr_20_training.csv'\n",
    "training_csv = pd.DataFrame(model.history.history)\n",
    "training_csv.to_csv(training_path)\n"
   ]
  },
  {
   "cell_type": "markdown",
   "metadata": {
    "colab_type": "text",
    "id": "UUW4uErcIHrb"
   },
   "source": [
    "ghghhghjg"
   ]
  },
  {
   "cell_type": "code",
   "execution_count": 1,
   "metadata": {
    "colab": {
     "base_uri": "https://localhost:8080/",
     "height": 164
    },
    "colab_type": "code",
    "id": "E-SAO0h1KiDE",
    "outputId": "d07649eb-e993-41b5-fa6e-592f18d41dd2"
   },
   "outputs": [
    {
     "ename": "NameError",
     "evalue": "ignored",
     "output_type": "error",
     "traceback": [
      "\u001b[0;31m---------------------------------------------------------------------------\u001b[0m",
      "\u001b[0;31mNameError\u001b[0m                                 Traceback (most recent call last)",
      "\u001b[0;32m<ipython-input-1-1f8a688cae5d>\u001b[0m in \u001b[0;36m<module>\u001b[0;34m()\u001b[0m\n\u001b[0;32m----> 1\u001b[0;31m \u001b[0mmodel\u001b[0m\u001b[0;34m\u001b[0m\u001b[0;34m\u001b[0m\u001b[0m\n\u001b[0m",
      "\u001b[0;31mNameError\u001b[0m: name 'model' is not defined"
     ]
    }
   ],
   "source": [
    "model"
   ]
  },
  {
   "cell_type": "code",
   "execution_count": 0,
   "metadata": {
    "colab": {},
    "colab_type": "code",
    "id": "ORqZ8RQPpjsz"
   },
   "outputs": [],
   "source": [
    "\n"
   ]
  }
 ],
 "metadata": {
  "accelerator": "GPU",
  "colab": {
   "collapsed_sections": [],
   "name": "Protein_Create_1_by_1.ipynb",
   "provenance": []
  },
  "kernelspec": {
   "display_name": "Python 3",
   "language": "python",
   "name": "python3"
  },
  "language_info": {
   "codemirror_mode": {
    "name": "ipython",
    "version": 3
   },
   "file_extension": ".py",
   "mimetype": "text/x-python",
   "name": "python",
   "nbconvert_exporter": "python",
   "pygments_lexer": "ipython3",
   "version": "3.7.3"
  }
 },
 "nbformat": 4,
 "nbformat_minor": 1
}
