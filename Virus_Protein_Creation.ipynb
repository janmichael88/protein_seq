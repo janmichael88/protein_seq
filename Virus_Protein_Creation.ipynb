{
  "nbformat": 4,
  "nbformat_minor": 0,
  "metadata": {
    "colab": {
      "name": "Virus_Protein_Creation.ipynb",
      "provenance": [],
      "toc_visible": true
    },
    "kernelspec": {
      "name": "python3",
      "display_name": "Python 3"
    },
    "accelerator": "GPU"
  },
  "cells": [
    {
      "cell_type": "markdown",
      "metadata": {
        "id": "5I7-E_IBkdhA",
        "colab_type": "text"
      },
      "source": [
        "### See previous notebook for initial thoughts  on what to  predict\n"
      ]
    },
    {
      "cell_type": "code",
      "metadata": {
        "id": "60BgGfCbkBmv",
        "colab_type": "code",
        "colab": {}
      },
      "source": [
        "import pandas as pd\n",
        "import numpy as np\n",
        "import matplotlib.pyplot as plt\n",
        "%matplotlib inline"
      ],
      "execution_count": 0,
      "outputs": []
    },
    {
      "cell_type": "code",
      "metadata": {
        "id": "5ojYe2_gkmTd",
        "colab_type": "code",
        "colab": {}
      },
      "source": [
        "proteins = pd.read_csv('/content/drive/My Drive/UNH Spring/Protein_seq_project/structID_allchains.csv',index_col=0)"
      ],
      "execution_count": 0,
      "outputs": []
    },
    {
      "cell_type": "code",
      "metadata": {
        "id": "Qp1LC3swk1BV",
        "colab_type": "code",
        "outputId": "254a8447-e0b4-4993-bb9a-49376218e6fe",
        "colab": {
          "base_uri": "https://localhost:8080/",
          "height": 238
        }
      },
      "source": [
        "proteins.head()"
      ],
      "execution_count": 3,
      "outputs": [
        {
          "output_type": "execute_result",
          "data": {
            "text/html": [
              "<div>\n",
              "<style scoped>\n",
              "    .dataframe tbody tr th:only-of-type {\n",
              "        vertical-align: middle;\n",
              "    }\n",
              "\n",
              "    .dataframe tbody tr th {\n",
              "        vertical-align: top;\n",
              "    }\n",
              "\n",
              "    .dataframe thead th {\n",
              "        text-align: right;\n",
              "    }\n",
              "</style>\n",
              "<table border=\"1\" class=\"dataframe\">\n",
              "  <thead>\n",
              "    <tr style=\"text-align: right;\">\n",
              "      <th></th>\n",
              "      <th>struct_ID</th>\n",
              "      <th>all_chain_sequences_as_string</th>\n",
              "      <th>number_chains</th>\n",
              "      <th>classification</th>\n",
              "    </tr>\n",
              "  </thead>\n",
              "  <tbody>\n",
              "    <tr>\n",
              "      <th>0</th>\n",
              "      <td>101M</td>\n",
              "      <td>MVLSEGEWQLVLHVWAKVEADVAGHGQDILIRLFKSHPETLEKFDR...</td>\n",
              "      <td>1</td>\n",
              "      <td>OXYGEN TRANSPORT</td>\n",
              "    </tr>\n",
              "    <tr>\n",
              "      <th>1</th>\n",
              "      <td>102L</td>\n",
              "      <td>MNIFEMLRIDEGLRLKIYKDTEGYYTIGIGHLLTKSPSLNAAAKSE...</td>\n",
              "      <td>1</td>\n",
              "      <td>HYDROLASE(O-GLYCOSYL)</td>\n",
              "    </tr>\n",
              "    <tr>\n",
              "      <th>2</th>\n",
              "      <td>102M</td>\n",
              "      <td>MVLSEGEWQLVLHVWAKVEADVAGHGQDILIRLFKSHPETLEKFDR...</td>\n",
              "      <td>1</td>\n",
              "      <td>OXYGEN TRANSPORT</td>\n",
              "    </tr>\n",
              "    <tr>\n",
              "      <th>3</th>\n",
              "      <td>103L</td>\n",
              "      <td>MNIFEMLRIDEGLRLKIYKDTEGYYTIGIGHLLTKSPSLNSLDAAK...</td>\n",
              "      <td>1</td>\n",
              "      <td>HYDROLASE(O-GLYCOSYL)</td>\n",
              "    </tr>\n",
              "    <tr>\n",
              "      <th>4</th>\n",
              "      <td>103M</td>\n",
              "      <td>MVLSEGEWQLVLHVWAKVEADVAGHGQDILIRLFKSHPETLEKFDR...</td>\n",
              "      <td>1</td>\n",
              "      <td>OXYGEN TRANSPORT</td>\n",
              "    </tr>\n",
              "  </tbody>\n",
              "</table>\n",
              "</div>"
            ],
            "text/plain": [
              "  struct_ID  ...         classification\n",
              "0      101M  ...       OXYGEN TRANSPORT\n",
              "1      102L  ...  HYDROLASE(O-GLYCOSYL)\n",
              "2      102M  ...       OXYGEN TRANSPORT\n",
              "3      103L  ...  HYDROLASE(O-GLYCOSYL)\n",
              "4      103M  ...       OXYGEN TRANSPORT\n",
              "\n",
              "[5 rows x 4 columns]"
            ]
          },
          "metadata": {
            "tags": []
          },
          "execution_count": 3
        }
      ]
    },
    {
      "cell_type": "markdown",
      "metadata": {
        "id": "iXtYovhNlHDU",
        "colab_type": "text"
      },
      "source": [
        "Subset the data for viruses only"
      ]
    },
    {
      "cell_type": "code",
      "metadata": {
        "id": "3e9UnkqYk5Wf",
        "colab_type": "code",
        "outputId": "2e015cee-6212-481b-fcdc-bd8b32e4fa55",
        "colab": {
          "base_uri": "https://localhost:8080/",
          "height": 1000
        }
      },
      "source": [
        "viruses = [v for v in list(proteins['classification'].unique()) if 'vir' in v.lower()]\n",
        "viruses"
      ],
      "execution_count": 4,
      "outputs": [
        {
          "output_type": "execute_result",
          "data": {
            "text/plain": [
              "['VIRAL PROTEIN',\n",
              " 'Viral protein/Immune system',\n",
              " 'VIRUS',\n",
              " 'Viral protein/isomerase',\n",
              " 'COMPLEX (MHC/VIRAL PEPTIDE/RECEPTOR)',\n",
              " 'ANTIVIRAL PROTEIN',\n",
              " 'ANTI-HYPERTENSIVE, ANTI-VIRAL PROTEIN',\n",
              " 'Viral protein/inhibitor',\n",
              " 'Virus/Receptor',\n",
              " 'VIRAL PEPTIDE',\n",
              " 'VIRUS/VIRAL PROTEIN',\n",
              " 'INFLUENZA VIRUS',\n",
              " 'VIRUS/VIRAL PROTEIN RECEPTOR',\n",
              " 'Viral protein, transferase',\n",
              " 'COMPLEX (SH3 DOMAIN/VIRAL ENHANCER)',\n",
              " 'Viral protein receptor',\n",
              " 'Viral protein, hydrolase',\n",
              " 'ISOMERASE/VIRAL PROTEIN',\n",
              " 'Viral protein/receptor/Immune system',\n",
              " 'Immune system/viral protein receptor',\n",
              " 'Viral protein complex',\n",
              " 'Viral protein/receptor',\n",
              " 'Viral protein/ translation',\n",
              " 'Isomerase/Viral protein',\n",
              " 'Viral protein inhibitor',\n",
              " 'Avirulence Protein',\n",
              " 'Virus/Immune system',\n",
              " 'ANTIVIRAL PROTEIN, RECOMBINATION',\n",
              " 'hydrolase/viral protein',\n",
              " 'Viral protein/hydrolase',\n",
              " 'VIRAL ADHESION PROTEIN',\n",
              " 'VIRUS/RECEPTOR',\n",
              " 'ADENOVIRUS',\n",
              " 'VIRULENCE FACTOR',\n",
              " 'VIRUS COAT PROTEIN',\n",
              " 'VIRUS LIKE PARTICLE',\n",
              " 'Virus like Particle/peptide',\n",
              " 'VIRAL PROTEIN,METAL BINDING PROTEIN',\n",
              " 'Viral protein, Replication',\n",
              " 'viral protein, recombination',\n",
              " 'PROTEIN BINDING/VIRAL PROTEIN',\n",
              " 'transcription, viral protein',\n",
              " 'VIRUS PROTEIN',\n",
              " 'VIRAL PROTEIN/PEPTIDE',\n",
              " 'VIRAL PROTEIN/TRANSFERASE',\n",
              " 'VIRAL PROTEIN/WINGED HELIX',\n",
              " 'IMMUNE SYSTEM/VIRAL PROTEIN',\n",
              " 'ONCOPROTEIN, VIRUS/VIRAL PROTEIN',\n",
              " 'VIRUS/VIRAL PROTEIN/CYTOKINE',\n",
              " 'VIRAL PROTEIN/PROTEASE',\n",
              " 'VIRAL PROTEIN, HYDROLASE',\n",
              " 'VIRUS/VIRAL PROTEIN/RNA BINDING PROTEIN',\n",
              " 'VIRUS/VIRAL PROTEIN/ANTIBIOTIC',\n",
              " 'IMMUNE SYSTEM/VIRUS/VIRAL PROTEIN',\n",
              " 'DNA BINDING (VIRAL)',\n",
              " 'DNA-BINDING (VIRAL)',\n",
              " 'TRANSCRIPTION, VIRUS/VIRAL PROTEIN',\n",
              " 'VIRAL PROTEIN/IMMUNE SYSTEM',\n",
              " 'viral protein/membrane protein',\n",
              " 'VIRAL PROTEIN/RECEPTOR',\n",
              " 'VIRAL PROTEIN, MEMBRANE PROTEIN',\n",
              " 'MEMBRANE PROTEIN, VIRAL PROTEIN',\n",
              " 'viral protein, RNA binding protein',\n",
              " 'RNA Binding Protein / Viral Protein',\n",
              " 'VIRAL PROTEIN, IMMUNE SYSTEM',\n",
              " 'VIRAL PROTEIN/INHIBITOR',\n",
              " 'Viral protein, Transcription',\n",
              " 'ANTIVIRAL PROTEIN/IMMUNE SYSTEM',\n",
              " 'VIRAL PROTEIN/PROTEIN BINDING',\n",
              " 'VIRAL PROTEIN/TRANSCRIPTION',\n",
              " 'SUGAR BINDING PROTEIN/ANTIVIRAL PROTEIN',\n",
              " 'Hydrolase, Antiviral protein',\n",
              " 'TRANSCRIPTION/VIRAL PROTEIN',\n",
              " 'ANTIVIRAL PROTEIN,SUGAR BINDING PROTEIN',\n",
              " 'VIRAL PROTEIN/CYTOKINE',\n",
              " 'VIRAL PROTEIN/immune system',\n",
              " 'VIRAL PROTEIN,TRANSFERASE',\n",
              " 'HYDROLASE REGULATOR/VIRAL PROTEIN',\n",
              " 'Hydrolase REGULATOR/VIRAL PROTEIN',\n",
              " 'VIRAL PROTEIN, RNA BINDING PROTEIN',\n",
              " 'viral protein/immune system',\n",
              " 'Immune system/viral protein',\n",
              " 'HYDROLASE, VIRAL PROTEIN',\n",
              " 'VIRAL PROTEIN/VIRAL PROTEIN INHIBITOR',\n",
              " 'VIRAL PROTEIN/inhibitor',\n",
              " 'viral protein/Immune system',\n",
              " 'Virus/Immune System',\n",
              " 'VIRAL PROTEIN/NUCLEAR PROTEIN',\n",
              " 'VIRAL PROTEIN/ISOMERASE',\n",
              " 'PROTEIN TRANSPORT/VIRAL PROTEIN',\n",
              " 'TRANSFERASE/VIRAL PROTEIN',\n",
              " 'VIRAL PROTEIN/VIRAL PROTEIN',\n",
              " 'Viral Protein/membrane protein',\n",
              " 'VIRAL PROTEIN/TRANSFERASE INHIBITOR',\n",
              " 'ANTITUMOR PROTEIN, ANTIVIRAL PROTEIN',\n",
              " 'VIRAL PROTEIN, REPLICATION',\n",
              " 'Viral Protein/Immune System',\n",
              " 'VIRAL PROTEIN/APOPTOSIS',\n",
              " 'Transferase/VIRAL PROTEIN',\n",
              " 'viral protein/signaling protein',\n",
              " 'TRANSFERASE, VIRAL PROTEIN',\n",
              " 'LIGASE/VIRAL PROTEIN',\n",
              " 'VIRAL PROTEIN, UNKNOWN FUNCTION',\n",
              " 'STRUCTURAL PROTEIN/VIRUS LIKE PARTICLE',\n",
              " 'Viral Protein/apoptosis',\n",
              " 'VIRAL PROTEIN, SUGAR BINDING PROTEIN',\n",
              " 'VIRAL PROTEIN/CELL ADHESION',\n",
              " 'VIRAL PROTEIN, DNA-BINDING PROTEIN',\n",
              " 'VIRAL PROTEIN, RECOMBINATION',\n",
              " 'viral protein / immune system',\n",
              " 'VIRAL PROTEIN/SIGNALING PROTEIN',\n",
              " 'VIRUS/IMMUNE SYSTEM',\n",
              " 'VIRUS/SIGNALING PROTEIN',\n",
              " 'VIRUS/CELL ADHESION',\n",
              " 'VIRAL PROTEIN/ENDOCYTOSIS',\n",
              " 'VIRAL PROTEIN, FUSION PROTEIN',\n",
              " 'VIRAL PROTEIN,HYDROLASE',\n",
              " 'VIRAL PROTEIN/VIRAL PROTEIN inhibitor',\n",
              " 'Viral Protein/SIGNALING PROTEIN',\n",
              " 'CYTOKINE/VIRAL PROTEIN',\n",
              " 'Oxidoreductase, Viral protein',\n",
              " 'Transferase, Viral Protein',\n",
              " 'VIRAL PROTEIN/DE NOVO PROTEIN',\n",
              " 'CELL ADHESION/VIRAL PROTEIN',\n",
              " 'viral protein/antiviral protein',\n",
              " 'VIRAL PROTEIN, PROTEIN BINDING',\n",
              " 'Viral Protein/Immune system',\n",
              " 'ANTIVIRAL PROTEIN/VIRAL PROTEIN',\n",
              " 'HYDROLASE/VIRAL PROTEIN',\n",
              " 'Viral Protein/antiviral Protein',\n",
              " 'SUGAR BINDING PROTEIN, VIRAL PROTEIN',\n",
              " 'VIRAL PROTEIN, HYDROLASE/INHIBITOR',\n",
              " 'ANTIVIRAL PROTEIN, HYDROLASE',\n",
              " 'IMMUNE SYSTEM, VIRAL PROTEIN',\n",
              " 'VIRAL PROTEIN/ANTIVIRAL PROTEIN',\n",
              " 'VIRAL PROTEIN, STRUCTURAL PROTEIN',\n",
              " 'Viral Protein/Peptide',\n",
              " 'VIRAL PROTEIN/RNA BINDING PROTEIN',\n",
              " 'IMMUNE SYSTEM-VIRAL PROTEIN COMPLEX',\n",
              " 'VIRAL PROTEIN/Inhibitor',\n",
              " 'viral protein/transcription inhibitor',\n",
              " 'VIRAL PROTEIN, TRANSCRIPTION',\n",
              " 'VIRAL PROTEIN, TRANSFERASE',\n",
              " 'CYTOKINE/Viral protein',\n",
              " 'STRUCTURAL PROTEIN, VIRAL PROTEIN',\n",
              " 'ANTIMICROBIAL PROTEIN, VIRAL PROTEIN',\n",
              " 'Antimicrobial protein, viral protein',\n",
              " 'Viral Protein/Cytokine',\n",
              " 'virus/inhibitor',\n",
              " 'VIRAL PROTEIN,RNA BINDING PROTEIN',\n",
              " 'MEMBRANE PROTEIN/VIRAL PROTEIN',\n",
              " 'HYDROLASE,VIRAL PROTEIN',\n",
              " 'Immune System/Viral Protein',\n",
              " 'TRANSCRIPTION, VIRAL PROTEIN',\n",
              " 'HYDROLASE, Viral protein',\n",
              " 'PEPTIDE BINDING PROTEIN/VIRAL PROTEIN',\n",
              " 'Viral protein/PEPTIDE',\n",
              " 'immune system/viral protein',\n",
              " 'Viral protein/INHIBITOR',\n",
              " 'DNA BINDING PROTEIN, viral protein',\n",
              " 'binding protein, viral protein',\n",
              " 'VIRAL PROTEIN/REPLICATION INHIBITOR',\n",
              " 'Viral Protein, Transferase',\n",
              " 'VIRAL PROTEIN/PROTEIN TRANSPORT',\n",
              " 'Viral Protein, hydrolase',\n",
              " 'VIRAL PROTEIN/TRANSCRIPTION INHIBITOR',\n",
              " 'DNA BINDING PROTEIN/VIRAL PROTEIN',\n",
              " 'Viral Protein, transferase',\n",
              " 'transferase/viral protein',\n",
              " 'Viral Protein/Inhibitor',\n",
              " 'ANTIVIRAL PROTEIN/HYDROLASE',\n",
              " 'VIRAL PROTEIN/IMMUME SYSTEM',\n",
              " 'OXIDOREDUCTASE, VIRAL PROTEIN',\n",
              " 'VIRAL PROTEIN/IMMUNE SYSTEM/INHIBITOR',\n",
              " 'VIRAL PROTEIN/RIBOSOMAL PROTEIN',\n",
              " 'Viral protein/Transferase',\n",
              " 'VIRAL PROTEIN/ ANTITUMOR PROTEIN',\n",
              " 'VIRAL PROTEIN/SIGNALLING PROTEIN',\n",
              " 'Viral protein/Immune System',\n",
              " 'Viral Protein/VPX-BINDING PROTEIN',\n",
              " 'Viral Protein/cytokine',\n",
              " 'Antimicrobial protein, Viral protein',\n",
              " 'Viral Protein/Immue System',\n",
              " 'viral protein, sugar binding protein',\n",
              " 'Viral Protein/immune System',\n",
              " 'viral protein, sugard binding protein',\n",
              " 'Viral protein/Inhibitor',\n",
              " 'viral protein, dna binding protein',\n",
              " 'VIRUS/INHIBITOR',\n",
              " 'RNA-binding Protein, Viral Protein',\n",
              " 'VIRAL PROTEIN/TRANSPORT PROTEIN',\n",
              " 'PROTEIN TRANSPORT/Viral Protein',\n",
              " 'PROTEIN TRANSPORT/Viral protein',\n",
              " 'tranport protein, viral protein',\n",
              " 'transport protein/viral protein',\n",
              " 'viral protein, transcription',\n",
              " 'viral protein, replication',\n",
              " 'IMMUNE SYSTEM/ VIRAL PROTEIN',\n",
              " 'Viral protein/DNA BINDING PROTEIN',\n",
              " 'Virulence Factor',\n",
              " 'VIRUS/immune system',\n",
              " 'VIRUS/Immune System',\n",
              " 'IMMUNE SYSTEM-VIRAL PROTEIN',\n",
              " 'Immune System/Viral protein',\n",
              " 'Transport Protein/Viral Protein',\n",
              " 'VIRAL PROTEIN/Immune System',\n",
              " 'VIRAL PROTEIN/Immune system',\n",
              " 'VIRAL PROTEIN / INHIBITOR',\n",
              " 'Viral protein/IMMUNE SYSTEM',\n",
              " 'VIRUS/TRANSFERASE',\n",
              " 'VIRUS LIKE PARTICLE/IMMUNE SYSTEM',\n",
              " 'IMMUNE SYSTEM/VIRAL SYSTEM',\n",
              " 'Hydrolase/Viral protein']"
            ]
          },
          "metadata": {
            "tags": []
          },
          "execution_count": 4
        }
      ]
    },
    {
      "cell_type": "code",
      "metadata": {
        "id": "Iljcq2e8lOyK",
        "colab_type": "code",
        "outputId": "6a5492cd-0566-475e-cedb-df2f3f5c4313",
        "colab": {
          "base_uri": "https://localhost:8080/",
          "height": 34
        }
      },
      "source": [
        "proteins = proteins[proteins['classification'].isin(viruses)]\n",
        "proteins.shape"
      ],
      "execution_count": 5,
      "outputs": [
        {
          "output_type": "execute_result",
          "data": {
            "text/plain": [
              "(3595, 4)"
            ]
          },
          "metadata": {
            "tags": []
          },
          "execution_count": 5
        }
      ]
    },
    {
      "cell_type": "code",
      "metadata": {
        "id": "NlHBYbXRlZab",
        "colab_type": "code",
        "outputId": "89ee4bd4-fa11-4373-928a-2c59e0295867",
        "colab": {
          "base_uri": "https://localhost:8080/",
          "height": 54
        }
      },
      "source": [
        "proteins['all_chain_sequences_as_string'].iloc[0]"
      ],
      "execution_count": 6,
      "outputs": [
        {
          "output_type": "execute_result",
          "data": {
            "text/plain": [
              "'ASMTGGQQMGAPITAYAQQTRGLLGCIITSLTGRDKNQVEGEVQIVSTATQTFLATCINGVCWTVYHGAGTRTIASPKGPVIQMYTNVDQDLVGWPAPQGSRSLTPCTCGSSDLYLVTRHADVIPVRRRGDSRGSLLSPRPISYLKGSSGGPLLCPTGHAVGLFRAAVCTRGVAKAVDFIPVENLETTMRGSHHHHHH|ASMTGGQQMGAPITAYAQQTRGLLGCIITSLTGRDKNQVEGEVQIVSTATQTFLATCINGVCWTVYHGAGTRTIASPKGPVIQMYTNVDQDLVGWPAPQGSRSLTPCTCGSSDLYLVTRHADVIPVRRRGDSRGSLLSPRPISYLKGSSGGPLLCPTGHAVGLFRAAVCTRGVAKAVDFIPVENLETTMRGSHHHHHH|KKGSVVIVGRIVLSGKPAIIPKK|KKGSVVIVGRIVLSGKPAIIPKK'"
            ]
          },
          "metadata": {
            "tags": []
          },
          "execution_count": 6
        }
      ]
    },
    {
      "cell_type": "markdown",
      "metadata": {
        "id": "YzNA9t87lqWD",
        "colab_type": "text"
      },
      "source": [
        "Recall, a chain in a protein is split up with a \"|\"\n",
        "\n",
        "Let's put all the viruses in a list"
      ]
    },
    {
      "cell_type": "code",
      "metadata": {
        "id": "1zTC9_wSljSO",
        "colab_type": "code",
        "colab": {}
      },
      "source": [
        "all_viruses = list(proteins['all_chain_sequences_as_string'])[:1400]"
      ],
      "execution_count": 0,
      "outputs": []
    },
    {
      "cell_type": "code",
      "metadata": {
        "id": "57lJmRnRl_qt",
        "colab_type": "code",
        "outputId": "1b11fedc-bf6d-4bfe-ac15-516d41ce218f",
        "colab": {
          "base_uri": "https://localhost:8080/",
          "height": 34
        }
      },
      "source": [
        "len(all_viruses)"
      ],
      "execution_count": 8,
      "outputs": [
        {
          "output_type": "execute_result",
          "data": {
            "text/plain": [
              "1400"
            ]
          },
          "metadata": {
            "tags": []
          },
          "execution_count": 8
        }
      ]
    },
    {
      "cell_type": "markdown",
      "metadata": {
        "id": "ciFuvnafmMCW",
        "colab_type": "text"
      },
      "source": [
        "We can seperate a unique virus with a \"+\", and within each unique virus we can seperate them with a \"|\".\n",
        "\n",
        "In this interpretation a model can learn chains, but also has the  ability to distinquish  between unique viruses (all classified by their structID)"
      ]
    },
    {
      "cell_type": "code",
      "metadata": {
        "id": "WdPix2MDmBbx",
        "colab_type": "code",
        "colab": {}
      },
      "source": [
        "all_viruses = \"+\".join(all_viruses)"
      ],
      "execution_count": 0,
      "outputs": []
    },
    {
      "cell_type": "code",
      "metadata": {
        "id": "WaS9abtUmom3",
        "colab_type": "code",
        "outputId": "a33516ae-c1ff-479c-cb80-017702937b45",
        "colab": {
          "base_uri": "https://localhost:8080/",
          "height": 34
        }
      },
      "source": [
        "len(all_viruses)"
      ],
      "execution_count": 10,
      "outputs": [
        {
          "output_type": "execute_result",
          "data": {
            "text/plain": [
              "1070376"
            ]
          },
          "metadata": {
            "tags": []
          },
          "execution_count": 10
        }
      ]
    },
    {
      "cell_type": "code",
      "metadata": {
        "id": "mIozCNfGmqci",
        "colab_type": "code",
        "outputId": "a9237500-e3d1-4194-cb72-10529be796fd",
        "colab": {
          "base_uri": "https://localhost:8080/",
          "height": 54
        }
      },
      "source": [
        "all_viruses[:600]"
      ],
      "execution_count": 11,
      "outputs": [
        {
          "output_type": "execute_result",
          "data": {
            "text/plain": [
              "'ASMTGGQQMGAPITAYAQQTRGLLGCIITSLTGRDKNQVEGEVQIVSTATQTFLATCINGVCWTVYHGAGTRTIASPKGPVIQMYTNVDQDLVGWPAPQGSRSLTPCTCGSSDLYLVTRHADVIPVRRRGDSRGSLLSPRPISYLKGSSGGPLLCPTGHAVGLFRAAVCTRGVAKAVDFIPVENLETTMRGSHHHHHH|ASMTGGQQMGAPITAYAQQTRGLLGCIITSLTGRDKNQVEGEVQIVSTATQTFLATCINGVCWTVYHGAGTRTIASPKGPVIQMYTNVDQDLVGWPAPQGSRSLTPCTCGSSDLYLVTRHADVIPVRRRGDSRGSLLSPRPISYLKGSSGGPLLCPTGHAVGLFRAAVCTRGVAKAVDFIPVENLETTMRGSHHHHHH|KKGSVVIVGRIVLSGKPAIIPKK|KKGSVVIVGRIVLSGKPAIIPKK+EVQLQQSGAELVRPGASVKLSCTTSGFNIKDIYIHWVKQRPEQGLEWIGRLDPANGYTKYDPKFQGKATITVDTSSNTAYLHLSSLTSEDTAVYYCDGYYSYYDMDYWGPGTSVTVSSAKTTAPSVYPLAPVCGDTTGSSVTLGCLVKGYFPEP'"
            ]
          },
          "metadata": {
            "tags": []
          },
          "execution_count": 11
        }
      ]
    },
    {
      "cell_type": "markdown",
      "metadata": {
        "id": "xLJUTmD4oPMi",
        "colab_type": "text"
      },
      "source": [
        "Choose a  sliding  window  of  a  certain size (start  with  30 or so). Capture the  ith  window  and then capture the ith letter. Scroll down all viruses"
      ]
    },
    {
      "cell_type": "code",
      "metadata": {
        "id": "Yr7ZsqbnmtCX",
        "colab_type": "code",
        "colab": {}
      },
      "source": [
        "# Length of extracted character sequences\n",
        "maxlen = 30\n",
        "# This holds our extracted sequences\n",
        "sequences = []\n",
        "# This holds the targets (the follow-up characters)\n",
        "next_AA = []\n",
        "for i in range(0,len(all_viruses)-maxlen):\n",
        "  sequences.append(all_viruses[i:i+maxlen])\n",
        "  next_AA.append(all_viruses[i+maxlen])"
      ],
      "execution_count": 0,
      "outputs": []
    },
    {
      "cell_type": "code",
      "metadata": {
        "id": "iOjl6O7Ht13T",
        "colab_type": "code",
        "outputId": "5d36fd8b-b104-4cfb-eaa6-191e7ac7281f",
        "colab": {
          "base_uri": "https://localhost:8080/",
          "height": 34
        }
      },
      "source": [
        "len(sequences),len(next_AA)"
      ],
      "execution_count": 13,
      "outputs": [
        {
          "output_type": "execute_result",
          "data": {
            "text/plain": [
              "(1070346, 1070346)"
            ]
          },
          "metadata": {
            "tags": []
          },
          "execution_count": 13
        }
      ]
    },
    {
      "cell_type": "code",
      "metadata": {
        "id": "-J-fQizqt4BU",
        "colab_type": "code",
        "outputId": "d3f1d0c6-6be1-49dc-a174-749ab5744b65",
        "colab": {
          "base_uri": "https://localhost:8080/",
          "height": 34
        }
      },
      "source": [
        "sequences[0], next_AA[0]"
      ],
      "execution_count": 14,
      "outputs": [
        {
          "output_type": "execute_result",
          "data": {
            "text/plain": [
              "('ASMTGGQQMGAPITAYAQQTRGLLGCIITS', 'L')"
            ]
          },
          "metadata": {
            "tags": []
          },
          "execution_count": 14
        }
      ]
    },
    {
      "cell_type": "code",
      "metadata": {
        "id": "XX6YXM4uuCci",
        "colab_type": "code",
        "outputId": "ac066831-d814-4ffa-8148-7316032faf53",
        "colab": {
          "base_uri": "https://localhost:8080/",
          "height": 34
        }
      },
      "source": [
        "all_viruses[:31]"
      ],
      "execution_count": 15,
      "outputs": [
        {
          "output_type": "execute_result",
          "data": {
            "text/plain": [
              "'ASMTGGQQMGAPITAYAQQTRGLLGCIITSL'"
            ]
          },
          "metadata": {
            "tags": []
          },
          "execution_count": 15
        }
      ]
    },
    {
      "cell_type": "code",
      "metadata": {
        "id": "ci3-r2QVuEzi",
        "colab_type": "code",
        "outputId": "8d9c9c30-61ae-4f84-bebd-e06c99540d1f",
        "colab": {
          "base_uri": "https://localhost:8080/",
          "height": 408
        }
      },
      "source": [
        "chars = sorted(set(all_viruses))\n",
        "chars"
      ],
      "execution_count": 16,
      "outputs": [
        {
          "output_type": "execute_result",
          "data": {
            "text/plain": [
              "['+',\n",
              " 'A',\n",
              " 'C',\n",
              " 'D',\n",
              " 'E',\n",
              " 'F',\n",
              " 'G',\n",
              " 'H',\n",
              " 'I',\n",
              " 'K',\n",
              " 'L',\n",
              " 'M',\n",
              " 'N',\n",
              " 'P',\n",
              " 'Q',\n",
              " 'R',\n",
              " 'S',\n",
              " 'T',\n",
              " 'V',\n",
              " 'W',\n",
              " 'X',\n",
              " 'Y',\n",
              " '|']"
            ]
          },
          "metadata": {
            "tags": []
          },
          "execution_count": 16
        }
      ]
    },
    {
      "cell_type": "code",
      "metadata": {
        "id": "IkYO4yqFuOrk",
        "colab_type": "code",
        "outputId": "7b835d69-3d3c-422a-87d6-70dd6c70b106",
        "colab": {
          "base_uri": "https://localhost:8080/",
          "height": 34
        }
      },
      "source": [
        "chars.index('A')"
      ],
      "execution_count": 17,
      "outputs": [
        {
          "output_type": "execute_result",
          "data": {
            "text/plain": [
              "1"
            ]
          },
          "metadata": {
            "tags": []
          },
          "execution_count": 17
        }
      ]
    },
    {
      "cell_type": "code",
      "metadata": {
        "id": "7HfF1MC9uh3G",
        "colab_type": "code",
        "colab": {}
      },
      "source": [
        "char_indices = dict((char, chars.index(char)) for char in chars)"
      ],
      "execution_count": 0,
      "outputs": []
    },
    {
      "cell_type": "code",
      "metadata": {
        "id": "e9_kBPe4vIHP",
        "colab_type": "code",
        "outputId": "41e7d667-c66d-4103-af59-0ad45b136a3a",
        "colab": {
          "base_uri": "https://localhost:8080/",
          "height": 408
        }
      },
      "source": [
        "char_indices"
      ],
      "execution_count": 19,
      "outputs": [
        {
          "output_type": "execute_result",
          "data": {
            "text/plain": [
              "{'+': 0,\n",
              " 'A': 1,\n",
              " 'C': 2,\n",
              " 'D': 3,\n",
              " 'E': 4,\n",
              " 'F': 5,\n",
              " 'G': 6,\n",
              " 'H': 7,\n",
              " 'I': 8,\n",
              " 'K': 9,\n",
              " 'L': 10,\n",
              " 'M': 11,\n",
              " 'N': 12,\n",
              " 'P': 13,\n",
              " 'Q': 14,\n",
              " 'R': 15,\n",
              " 'S': 16,\n",
              " 'T': 17,\n",
              " 'V': 18,\n",
              " 'W': 19,\n",
              " 'X': 20,\n",
              " 'Y': 21,\n",
              " '|': 22}"
            ]
          },
          "metadata": {
            "tags": []
          },
          "execution_count": 19
        }
      ]
    },
    {
      "cell_type": "markdown",
      "metadata": {
        "id": "-Ejm9I6FvQDN",
        "colab_type": "text"
      },
      "source": [
        "One hot them"
      ]
    },
    {
      "cell_type": "code",
      "metadata": {
        "id": "tgzGpZnzvL6r",
        "colab_type": "code",
        "colab": {}
      },
      "source": [
        "x = np.zeros((len(sequences), maxlen, len(chars)), dtype=np.bool)\n",
        "y = np.zeros((len(sequences),len(chars)), dtype=np.bool)"
      ],
      "execution_count": 0,
      "outputs": []
    },
    {
      "cell_type": "code",
      "metadata": {
        "id": "L73NOyxDvsJh",
        "colab_type": "code",
        "outputId": "962ddeae-4aa6-4341-e794-68edf2c579a2",
        "colab": {
          "base_uri": "https://localhost:8080/",
          "height": 34
        }
      },
      "source": [
        "x.shape, y.shape"
      ],
      "execution_count": 21,
      "outputs": [
        {
          "output_type": "execute_result",
          "data": {
            "text/plain": [
              "((1070346, 30, 23), (1070346, 23))"
            ]
          },
          "metadata": {
            "tags": []
          },
          "execution_count": 21
        }
      ]
    },
    {
      "cell_type": "code",
      "metadata": {
        "id": "2oOEBfhxvzX4",
        "colab_type": "code",
        "colab": {}
      },
      "source": [
        "for i, sequence in enumerate(sequences):\n",
        "  for t,char in enumerate(sequence):\n",
        "    x[i,t,char_indices[char]] = 1\n",
        "  y[i,char_indices[next_AA[i]]] =1"
      ],
      "execution_count": 0,
      "outputs": []
    },
    {
      "cell_type": "code",
      "metadata": {
        "id": "3DPSSUeawKe7",
        "colab_type": "code",
        "colab": {}
      },
      "source": [
        "x[0,:,:]"
      ],
      "execution_count": 0,
      "outputs": []
    },
    {
      "cell_type": "code",
      "metadata": {
        "id": "L1ug54ETwj6t",
        "colab_type": "code",
        "colab": {}
      },
      "source": [
        "y[0,:]"
      ],
      "execution_count": 0,
      "outputs": []
    },
    {
      "cell_type": "code",
      "metadata": {
        "id": "yoXyGAzewmsv",
        "colab_type": "code",
        "colab": {}
      },
      "source": [
        "!pip install tensorflow==1.14.0"
      ],
      "execution_count": 0,
      "outputs": []
    },
    {
      "cell_type": "markdown",
      "metadata": {
        "id": "E5oThpkzujBB",
        "colab_type": "text"
      },
      "source": [
        "## Load in virus model and start sequence prediction"
      ]
    },
    {
      "cell_type": "code",
      "metadata": {
        "id": "R7eAFqrnuiXr",
        "colab_type": "code",
        "colab": {}
      },
      "source": [
        "import keras\n",
        "from keras.models import load_model"
      ],
      "execution_count": 0,
      "outputs": []
    },
    {
      "cell_type": "code",
      "metadata": {
        "id": "Un1dQDhnuKmF",
        "colab_type": "code",
        "colab": {
          "base_uri": "https://localhost:8080/",
          "height": 275
        },
        "outputId": "c36de0a2-efa7-49d1-cc55-686e519834b0"
      },
      "source": [
        "model = load_model(\"/content/drive/My Drive/UNH Spring/Protein_seq_project/Create_Virus_Model/VirusBestLoss_1million.h5\")\n",
        "model.summary()"
      ],
      "execution_count": 28,
      "outputs": [
        {
          "output_type": "stream",
          "text": [
            "WARNING:tensorflow:From /usr/local/lib/python3.6/dist-packages/keras/backend/tensorflow_backend.py:422: The name tf.global_variables is deprecated. Please use tf.compat.v1.global_variables instead.\n",
            "\n",
            "Model: \"sequential_4\"\n",
            "_________________________________________________________________\n",
            "Layer (type)                 Output Shape              Param #   \n",
            "=================================================================\n",
            "gru_4 (GRU)                  (None, 130)               60060     \n",
            "_________________________________________________________________\n",
            "dense_4 (Dense)              (None, 23)                3013      \n",
            "=================================================================\n",
            "Total params: 63,073\n",
            "Trainable params: 63,073\n",
            "Non-trainable params: 0\n",
            "_________________________________________________________________\n"
          ],
          "name": "stdout"
        }
      ]
    },
    {
      "cell_type": "code",
      "metadata": {
        "id": "n-IBYC0gu70U",
        "colab_type": "code",
        "colab": {}
      },
      "source": [
        "#helper functions\n",
        "def encode_sequence(string):\n",
        "  string_encoded = x = np.zeros((maxlen, len(chars)), dtype=np.bool)\n",
        "  for i,j in enumerate(string):\n",
        "    #look up jth letter\n",
        "    string_encoded[:,chars.index(j)]  = 1\n",
        "  return(string_encoded)\n",
        "\n",
        "def sample(preds, temperature=.9):\n",
        "    preds = np.asarray(preds).astype('float64')\n",
        "    preds = np.log(preds) / temperature\n",
        "    exp_preds = np.exp(preds)\n",
        "    preds = exp_preds / np.sum(exp_preds)\n",
        "    probas = np.random.multinomial(1, preds.ravel(), 1)\n",
        "    return np.argmax(probas)\n",
        "\n"
      ],
      "execution_count": 0,
      "outputs": []
    },
    {
      "cell_type": "code",
      "metadata": {
        "id": "ZT2wn8jjymty",
        "colab_type": "code",
        "colab": {}
      },
      "source": [
        "starting_seq = all_viruses[:30]\n",
        "length_to_predict = 1000\n",
        "results = np.zeros((1000),dtype='object')\n",
        "for i,j in enumerate(starting_seq):\n",
        "  results[i] = j\n",
        "for i in range(0,len(results)-maxlen-1):\n",
        "  #grab the letters\n",
        "  letters = \"\".join(results[i:i+maxlen-1].tolist())\n",
        "  X = encode_sequence(letters)\n",
        "  pred = model.predict(X.reshape((1,30,23)))\n",
        "  next_letter = chars[sample(pred)]\n",
        "  #add to results\n",
        "  results[i+maxlen] = next_letter\n",
        "\n",
        "\n",
        "\n",
        "\n"
      ],
      "execution_count": 0,
      "outputs": []
    },
    {
      "cell_type": "code",
      "metadata": {
        "id": "Au6ygO6hHd8I",
        "colab_type": "code",
        "colab": {}
      },
      "source": [
        "results"
      ],
      "execution_count": 0,
      "outputs": []
    },
    {
      "cell_type": "markdown",
      "metadata": {
        "id": "DWDDX5FCJDoh",
        "colab_type": "text"
      },
      "source": [
        "Generated  Sequence"
      ]
    },
    {
      "cell_type": "code",
      "metadata": {
        "id": "KVWvNMowHoMm",
        "colab_type": "code",
        "colab": {
          "base_uri": "https://localhost:8080/",
          "height": 54
        },
        "outputId": "57303c4c-5e7a-4efe-8262-264cb59a2632"
      },
      "source": [
        "\"\".join(results.tolist()[:-1])"
      ],
      "execution_count": 128,
      "outputs": [
        {
          "output_type": "execute_result",
          "data": {
            "text/plain": [
              "'ASMTGGQQMGAPITAYAQQTRGLLGCIITSADDLLSLAVVAAASLSVATMSYYAAREEHRKKKKAAKSAKKASKAKAIIAG+NKVVVVVVGGVQQQTTMYLLFLGGASEGKLIDNNNNNNNNNTIIQNQKSSQFFERQKKGGGSGAGTGGIGGTIGTGGIIIIIIGITTTATKLPSEMFWSQDIINDIQVNNNKQNQQQQPQKDKKKKTIFQSAKEEEEEFFVFEEEEAEEEEEGGPRIIGDGIVKGVKFPYIFVFFFFIIADGAAAAAAAAAAAAAAAAAAAAASSAMKLCRRLVLRVRGYRQRSISAASSQAIGSAIAAADDAYGAATTLLRSYYSNYKLFSQAEDTFFFFFVLIIRMNKKRRPPQKKRQSQKQSTGADIQNNGFFLGKKKGGKKGDDAEQVQRRKKGKGYRIDNNKVTKKKKKKKTKTKQQSPLLAGFLQQQIDDKSSSSSSSSSSSSSSSSSGKGKRSSISSTTTTVTSSSSSSSSPAQQLLTQGKGGDYLFFGLLSVVLLLLLLLLLRRDDDDDDAALMATNNKSQQQIQQQQQRQQQQQQQQQQQQQQYMKAIIQQQQHQ||SSNSSSSASASSSASSSSASSSSSSSSASSVIVNNEERRKRVRQQRKLLRRRRRRRRRRRRRRRRRRRRRRREEKRRRNMYVIKKKKKKKKKKKKKKKKKKKKKILQEPNGGIIISIVVVVVVVVVEIIVVVVVVVITKNATMQQAAAANAANARARQQLLQQQQQQIIKQQRRRRRKRRKRKRRKSIGAGIIIIIVIDIYIQADDADNDYQQQTPFKSQIIDIIIPIIIIIIIIIVTPDDQADDDDEPYYYEEYEEPSEYYYYYYKIFVIDDLDEQQDDDDTDDDDDDNNKKKKPRPGQKVVTYLILIITPIIKIVIIGGGGGGGGSGGAAAQQYYGDNFFADDLGESFLFFVFRRKKFIITKKKMRYYNNNNKNQNNQPPLAAIIIIIDNETIKKKEFMIIIIISSSSSKRARRQIIQQ'"
            ]
          },
          "metadata": {
            "tags": []
          },
          "execution_count": 128
        }
      ]
    },
    {
      "cell_type": "markdown",
      "metadata": {
        "id": "9dur0SYrJHHv",
        "colab_type": "text"
      },
      "source": [
        "Test Sequence"
      ]
    },
    {
      "cell_type": "code",
      "metadata": {
        "id": "8PptcRCXINKy",
        "colab_type": "code",
        "colab": {
          "base_uri": "https://localhost:8080/",
          "height": 54
        },
        "outputId": "c07d5214-ac68-4670-fef8-f79470ca6079"
      },
      "source": [
        "all_viruses[:1000]"
      ],
      "execution_count": 129,
      "outputs": [
        {
          "output_type": "execute_result",
          "data": {
            "text/plain": [
              "'ASMTGGQQMGAPITAYAQQTRGLLGCIITSLTGRDKNQVEGEVQIVSTATQTFLATCINGVCWTVYHGAGTRTIASPKGPVIQMYTNVDQDLVGWPAPQGSRSLTPCTCGSSDLYLVTRHADVIPVRRRGDSRGSLLSPRPISYLKGSSGGPLLCPTGHAVGLFRAAVCTRGVAKAVDFIPVENLETTMRGSHHHHHH|ASMTGGQQMGAPITAYAQQTRGLLGCIITSLTGRDKNQVEGEVQIVSTATQTFLATCINGVCWTVYHGAGTRTIASPKGPVIQMYTNVDQDLVGWPAPQGSRSLTPCTCGSSDLYLVTRHADVIPVRRRGDSRGSLLSPRPISYLKGSSGGPLLCPTGHAVGLFRAAVCTRGVAKAVDFIPVENLETTMRGSHHHHHH|KKGSVVIVGRIVLSGKPAIIPKK|KKGSVVIVGRIVLSGKPAIIPKK+EVQLQQSGAELVRPGASVKLSCTTSGFNIKDIYIHWVKQRPEQGLEWIGRLDPANGYTKYDPKFQGKATITVDTSSNTAYLHLSSLTSEDTAVYYCDGYYSYYDMDYWGPGTSVTVSSAKTTAPSVYPLAPVCGDTTGSSVTLGCLVKGYFPEPVTLTWNSGSLSSGVHTFPAVLQSDLYTLSSSVTVTSSTWPSQSITCNVAHPASSTKVDKKIEPR|DIVMTQSPSSLTVTTGEKVTMTCKSSQSLLNSRTQKNYLTWYQQKPGQSPKLLIYWASTRESGVPDRFTGSGSGTDFTLSISGVQAEDLAVYYCQNNYNYPLTFGAGTKLELKRADAAPTVSIFPPSSEQLTSGGASVVCFLNNFYPKDINVKWKIDGSERQNGVLNSWTDQDSKDSTYSMSSTLTLTKDEYERHNSYTCEATHKTSTSPIVKSFNRNEC|VKAETRLNPDLQPTEX+MSPTSILDIRQGPKEPFRDYVDRFYKTLRAEQASQEVKNWMTETLLVQNANPDCKTILKALGPGATLEEMMTACQGVGGPGHKARVL+AVTVVPDPT'"
            ]
          },
          "metadata": {
            "tags": []
          },
          "execution_count": 129
        }
      ]
    },
    {
      "cell_type": "markdown",
      "metadata": {
        "id": "T7DSFiOhJJfy",
        "colab_type": "text"
      },
      "source": [
        "It looks like the model didn't really get the sequence.\n",
        "But it did make a few protein chains and even a full protein! Marked with a '+'\n",
        "\n"
      ]
    },
    {
      "cell_type": "code",
      "metadata": {
        "id": "IWVejtPFJZ7T",
        "colab_type": "code",
        "colab": {
          "base_uri": "https://localhost:8080/",
          "height": 34
        },
        "outputId": "9f2cfeb6-2316-4456-b55b-893240e00de0"
      },
      "source": [
        "## comparing simialrity\n",
        "a = \"\".join(results.tolist()[:-1])\n",
        "b = all_viruses[:1000]\n",
        "\n",
        "import difflib\n",
        "seq=difflib.SequenceMatcher(a=a.lower(), b=b.lower())\n",
        "seq.ratio()"
      ],
      "execution_count": 131,
      "outputs": [
        {
          "output_type": "execute_result",
          "data": {
            "text/plain": [
              "0.03301650825412707"
            ]
          },
          "metadata": {
            "tags": []
          },
          "execution_count": 131
        }
      ]
    },
    {
      "cell_type": "markdown",
      "metadata": {
        "id": "cgw-bIEAyfY2",
        "colab_type": "text"
      },
      "source": [
        "Anything after this involved training the sequential model\n",
        "\n",
        "Load in model again after it crashed and continue training"
      ]
    },
    {
      "cell_type": "code",
      "metadata": {
        "id": "31eCxjFvyerV",
        "colab_type": "code",
        "outputId": "efc7b1d8-d2a0-4fe3-8b1b-335a80fe0201",
        "colab": {
          "base_uri": "https://localhost:8080/",
          "height": 221
        }
      },
      "source": [
        "import keras\n",
        "from keras.models import load_model\n",
        "from keras.callbacks import ModelCheckpoint\n",
        "file_path_best_loss = \"/content/drive/My Drive/UNH Spring/Protein_seq_project/Create_Virus_Model/VirusBestLoss.h5\"\n",
        "file_path_best_acc = \"/content/drive/My Drive/UNH Spring/Protein_seq_project/Create_Virus_Model/VirusBestAcc.h5\"\n",
        "\n",
        "checkpoint_loss = ModelCheckpoint(file_path_best_loss, \n",
        "                              monitor='loss', \n",
        "                              verbose=1, \n",
        "                              save_best_only=True, \n",
        "                              mode='min')\n",
        "checkpoint_acc = ModelCheckpoint(file_path_best_acc, \n",
        "                              monitor='accuracy', \n",
        "                              verbose=1, \n",
        "                              save_best_only=True, \n",
        "                              mode='max')\n",
        "\n",
        "callbacks_list = [checkpoint_loss,checkpoint_acc]\n",
        "\n",
        "model = load_model(file_path_best_loss, compile=False)\n",
        "optimizer = keras.optimizers.Adam(lr=0.001)\n",
        "model.compile(loss='categorical_crossentropy', \n",
        "              optimizer=optimizer,\n",
        "              metrics=['accuracy'])\n",
        "model.summary()\n"
      ],
      "execution_count": 0,
      "outputs": [
        {
          "output_type": "stream",
          "text": [
            "Model: \"sequential_11\"\n",
            "_________________________________________________________________\n",
            "Layer (type)                 Output Shape              Param #   \n",
            "=================================================================\n",
            "gru_9 (GRU)                  (None, 100)               37200     \n",
            "_________________________________________________________________\n",
            "dense_11 (Dense)             (None, 23)                2323      \n",
            "=================================================================\n",
            "Total params: 39,523\n",
            "Trainable params: 39,523\n",
            "Non-trainable params: 0\n",
            "_________________________________________________________________\n"
          ],
          "name": "stdout"
        }
      ]
    },
    {
      "cell_type": "code",
      "metadata": {
        "id": "bSk9HiWBzQQZ",
        "colab_type": "code",
        "colab": {}
      },
      "source": [
        "iterations = 5\n",
        "for i in range(iterations):\n",
        "  model.fit(x, y,\n",
        "            validation_split=0.1,\n",
        "            batch_size=128,\n",
        "            epochs=10,\n",
        "            callbacks=callbacks_list)\n",
        "  pd.DataFrame(model.history.history).to_csv(\"/content/drive/My Drive/UNH Spring/Protein_seq_project/Create_Virus_Model\"+\"/VirusModelHistory_\"+str(i+6)+\"_of_10.csv\")\n"
      ],
      "execution_count": 0,
      "outputs": []
    },
    {
      "cell_type": "code",
      "metadata": {
        "id": "l8mVJypWx-Ig",
        "colab_type": "code",
        "colab": {}
      },
      "source": [
        "import keras\n",
        "from keras import layers\n",
        "from keras.callbacks import ModelCheckpoint\n",
        "\n",
        "model = keras.models.Sequential()\n",
        "model.add(layers.GRU(130, input_shape=(maxlen, len(chars))))\n",
        "model.add(layers.Dense(len(chars), activation='softmax'))\n",
        "optimizer = keras.optimizers.Adam(lr=0.001)\n",
        "model.compile(loss='categorical_crossentropy', \n",
        "              optimizer=optimizer,\n",
        "              metrics=['accuracy'])\n",
        "\n",
        "\n",
        "file_path_best_loss = \"/content/drive/My Drive/UNH Spring/Protein_seq_project/Create_Virus_Model/VirusBestLoss_1million.h5\"\n",
        "file_path_best_acc = \"/content/drive/My Drive/UNH Spring/Protein_seq_project/Create_Virus_Model/VirusBestAcc_1milion.h5\"\n",
        "\n",
        "checkpoint_loss = ModelCheckpoint(file_path_best_loss, \n",
        "                              monitor='loss', \n",
        "                              verbose=1, \n",
        "                              save_best_only=True, \n",
        "                              mode='min')\n",
        "checkpoint_acc = ModelCheckpoint(file_path_best_acc, \n",
        "                              monitor='accuracy', \n",
        "                              verbose=1, \n",
        "                              save_best_only=True, \n",
        "                              mode='max')\n",
        "\n",
        "callbacks_list = [checkpoint_loss,checkpoint_acc]\n",
        "\n",
        "\n",
        "model.summary()\n",
        "\n"
      ],
      "execution_count": 0,
      "outputs": []
    },
    {
      "cell_type": "markdown",
      "metadata": {
        "id": "E18JFzDNYZqu",
        "colab_type": "text"
      },
      "source": [
        "Start here for using a smaller sample of viruses"
      ]
    },
    {
      "cell_type": "code",
      "metadata": {
        "id": "sihIDrDiWW94",
        "colab_type": "code",
        "outputId": "61596e4c-e225-40bd-e348-daebc9335788",
        "colab": {
          "base_uri": "https://localhost:8080/",
          "height": 221
        }
      },
      "source": [
        "model = load_model(file_path_best_loss)\n",
        "model.summary()"
      ],
      "execution_count": 0,
      "outputs": [
        {
          "output_type": "stream",
          "text": [
            "Model: \"sequential_4\"\n",
            "_________________________________________________________________\n",
            "Layer (type)                 Output Shape              Param #   \n",
            "=================================================================\n",
            "gru_4 (GRU)                  (None, 130)               60060     \n",
            "_________________________________________________________________\n",
            "dense_4 (Dense)              (None, 23)                3013      \n",
            "=================================================================\n",
            "Total params: 63,073\n",
            "Trainable params: 63,073\n",
            "Non-trainable params: 0\n",
            "_________________________________________________________________\n"
          ],
          "name": "stdout"
        }
      ]
    },
    {
      "cell_type": "code",
      "metadata": {
        "id": "_QH8Or0zyNNP",
        "colab_type": "code",
        "outputId": "e66f54bb-ae1d-488e-9540-20c092e72243",
        "colab": {
          "base_uri": "https://localhost:8080/",
          "height": 904
        }
      },
      "source": [
        "iterations = 7\n",
        "for i in range(iterations):\n",
        "  model.fit(x, y,\n",
        "            validation_split=0.1,\n",
        "            batch_size=128,\n",
        "            epochs=10,\n",
        "            callbacks=callbacks_list)\n",
        "  pd.DataFrame(model.history.history).to_csv(\"/content/drive/My Drive/UNH Spring/Protein_seq_project/Create_Virus_Model\"+\"/1_million_VirusModelHistory_\"+str(i+9)+\"_of_10.csv\")\n"
      ],
      "execution_count": 0,
      "outputs": [
        {
          "output_type": "stream",
          "text": [
            "Train on 963311 samples, validate on 107035 samples\n",
            "Epoch 1/10\n",
            "963311/963311 [==============================] - 671s 696us/step - loss: 1.6240 - accuracy: 0.5323 - val_loss: 2.9623 - val_accuracy: 0.2058\n",
            "\n",
            "Epoch 00001: loss did not improve from 1.62337\n",
            "\n",
            "Epoch 00001: accuracy did not improve from 0.53329\n",
            "Epoch 2/10\n",
            "963311/963311 [==============================] - 657s 683us/step - loss: 1.6218 - accuracy: 0.5334 - val_loss: 2.9632 - val_accuracy: 0.2058\n",
            "\n",
            "Epoch 00002: loss improved from 1.62337 to 1.62180, saving model to /content/drive/My Drive/UNH Spring/Protein_seq_project/Create_Virus_Model/VirusBestLoss_1million.h5\n",
            "\n",
            "Epoch 00002: accuracy improved from 0.53329 to 0.53342, saving model to /content/drive/My Drive/UNH Spring/Protein_seq_project/Create_Virus_Model/VirusBestAcc_1milion.h5\n",
            "Epoch 3/10\n",
            "963311/963311 [==============================] - 666s 691us/step - loss: 1.6232 - accuracy: 0.5328 - val_loss: 3.0115 - val_accuracy: 0.2029\n",
            "\n",
            "Epoch 00003: loss did not improve from 1.62180\n",
            "\n",
            "Epoch 00003: accuracy did not improve from 0.53342\n",
            "Epoch 4/10\n",
            "963311/963311 [==============================] - 662s 688us/step - loss: 1.6197 - accuracy: 0.5342 - val_loss: 2.9551 - val_accuracy: 0.2048\n",
            "\n",
            "Epoch 00004: loss improved from 1.62180 to 1.61966, saving model to /content/drive/My Drive/UNH Spring/Protein_seq_project/Create_Virus_Model/VirusBestLoss_1million.h5\n",
            "\n",
            "Epoch 00004: accuracy improved from 0.53342 to 0.53419, saving model to /content/drive/My Drive/UNH Spring/Protein_seq_project/Create_Virus_Model/VirusBestAcc_1milion.h5\n",
            "Epoch 5/10\n",
            "963311/963311 [==============================] - 658s 683us/step - loss: 1.6201 - accuracy: 0.5339 - val_loss: 2.9922 - val_accuracy: 0.2057\n",
            "\n",
            "Epoch 00005: loss did not improve from 1.61966\n",
            "\n",
            "Epoch 00005: accuracy did not improve from 0.53419\n",
            "Epoch 6/10\n",
            "963311/963311 [==============================] - 650s 675us/step - loss: 1.6194 - accuracy: 0.5341 - val_loss: 2.9508 - val_accuracy: 0.2052\n",
            "\n",
            "Epoch 00006: loss improved from 1.61966 to 1.61938, saving model to /content/drive/My Drive/UNH Spring/Protein_seq_project/Create_Virus_Model/VirusBestLoss_1million.h5\n",
            "\n",
            "Epoch 00006: accuracy did not improve from 0.53419\n",
            "Epoch 7/10\n",
            "963311/963311 [==============================] - 652s 677us/step - loss: 1.6174 - accuracy: 0.5350 - val_loss: 3.0049 - val_accuracy: 0.2057\n",
            "\n",
            "Epoch 00007: loss improved from 1.61938 to 1.61741, saving model to /content/drive/My Drive/UNH Spring/Protein_seq_project/Create_Virus_Model/VirusBestLoss_1million.h5\n",
            "\n",
            "Epoch 00007: accuracy improved from 0.53419 to 0.53505, saving model to /content/drive/My Drive/UNH Spring/Protein_seq_project/Create_Virus_Model/VirusBestAcc_1milion.h5\n",
            "Epoch 8/10\n",
            "963311/963311 [==============================] - 667s 693us/step - loss: 1.6188 - accuracy: 0.5345 - val_loss: 2.9427 - val_accuracy: 0.2045\n",
            "\n",
            "Epoch 00008: loss did not improve from 1.61741\n",
            "\n",
            "Epoch 00008: accuracy did not improve from 0.53505\n",
            "Epoch 9/10\n",
            "  5120/963311 [..............................] - ETA: 11:01 - loss: 1.6227 - accuracy: 0.5402"
          ],
          "name": "stdout"
        }
      ]
    },
    {
      "cell_type": "code",
      "metadata": {
        "id": "EBzKAgFK4Buq",
        "colab_type": "code",
        "colab": {}
      },
      "source": [
        ""
      ],
      "execution_count": 0,
      "outputs": []
    },
    {
      "cell_type": "code",
      "metadata": {
        "id": "u7LtwoV14tjK",
        "colab_type": "code",
        "colab": {}
      },
      "source": [
        ""
      ],
      "execution_count": 0,
      "outputs": []
    }
  ]
}